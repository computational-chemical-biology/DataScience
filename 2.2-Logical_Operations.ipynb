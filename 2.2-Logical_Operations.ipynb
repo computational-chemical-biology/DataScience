{
 "cells": [
  {
   "cell_type": "markdown",
   "metadata": {},
   "source": [
    "<!--NAVIGATION-->\n",
    "< [Data Structures](2.1-Data_Structures.ipynb) | [Contents](0-Index.ipynb) | [Control Structures](2.3-Control_Structures.ipynb) >"
   ]
  },
  {
   "cell_type": "markdown",
   "metadata": {},
   "source": [
    "# 2 Conceitos básicos de programação\n",
    "## 2.2 Operações Lógicas"
   ]
  },
  {
   "cell_type": "markdown",
   "metadata": {},
   "source": [
    "[![Open In Colab](https://colab.research.google.com/assets/colab-badge.svg)](http://colab.research.google.com/github/computational-chemical-biology/DataScience/blob/master/2.2-Logical_Operations.ipynb)"
   ]
  },
  {
   "cell_type": "markdown",
   "metadata": {
    "_uuid": "85b27cf82d3023fd69c338df2be7afb2d7afaf32"
   },
   "source": [
    " <a id=\"top\"></a> <br>\n",
    "**Conteúdo do *Notebook***\n",
    "\n",
    "1. [Operadores](#1)\n",
    "2. [Referências](#2)"
   ]
  },
  {
   "cell_type": "markdown",
   "metadata": {
    "_uuid": "762c34fcdeed69fc79fb84d7bb86c5baf8f9152e"
   },
   "source": [
    "<a id=\"1\"></a> <br>\n",
    "## 1 - Operadores"
   ]
  },
  {
   "cell_type": "markdown",
   "metadata": {
    "_uuid": "9dcd3e4436aa8050f116b6f7157cc986e762c794"
   },
   "source": [
    "> <font color=\"red\"><b>Nota</b></font>\n",
    "\n",
    ">> \n",
    "Python suporta diferentes tipos de operadores [link](https://www.tutorialspoint.com/python/python_basic_operators.htm) <cite data-cite=\"236589/5T4T73QM\"></cite>, alguns exemplos são\n",
    "\n",
    "* Operadores Relacionais\n",
    "* Operadores Lógicos\n",
    "* Operadores de Conjunto\n",
    "\n",
    "\n",
    "###### [Voltar ao topo](#top)"
   ]
  },
  {
   "cell_type": "markdown",
   "metadata": {},
   "source": [
    "### Operadores Relacionais \n",
    "| Símbolo | Operação |\n",
    "|----|---|\n",
    "| == | True, se operandos são iguais |\n",
    "| !=  | True, se operandos não são iguais |\n",
    "| < | menor que |\n",
    "| > | maior que |\n",
    "| <=  | menor ou igual a |\n",
    "| >=  | maior ou igual a |"
   ]
  },
  {
   "cell_type": "code",
   "execution_count": 1,
   "metadata": {},
   "outputs": [],
   "source": [
    "a = 21\n",
    "b = 10\n",
    "c = 0"
   ]
  },
  {
   "cell_type": "code",
   "execution_count": 2,
   "metadata": {},
   "outputs": [
    {
     "data": {
      "text/plain": [
       "False"
      ]
     },
     "execution_count": 2,
     "metadata": {},
     "output_type": "execute_result"
    }
   ],
   "source": [
    "a == b"
   ]
  },
  {
   "cell_type": "code",
   "execution_count": 3,
   "metadata": {},
   "outputs": [
    {
     "data": {
      "text/plain": [
       "True"
      ]
     },
     "execution_count": 3,
     "metadata": {},
     "output_type": "execute_result"
    }
   ],
   "source": [
    "a != b"
   ]
  },
  {
   "cell_type": "code",
   "execution_count": 4,
   "metadata": {},
   "outputs": [
    {
     "data": {
      "text/plain": [
       "False"
      ]
     },
     "execution_count": 4,
     "metadata": {},
     "output_type": "execute_result"
    }
   ],
   "source": [
    "a < b"
   ]
  },
  {
   "cell_type": "code",
   "execution_count": 5,
   "metadata": {},
   "outputs": [
    {
     "data": {
      "text/plain": [
       "False"
      ]
     },
     "execution_count": 5,
     "metadata": {},
     "output_type": "execute_result"
    }
   ],
   "source": [
    "a <= b"
   ]
  },
  {
   "cell_type": "code",
   "execution_count": 6,
   "metadata": {},
   "outputs": [
    {
     "data": {
      "text/plain": [
       "False"
      ]
     },
     "execution_count": 6,
     "metadata": {},
     "output_type": "execute_result"
    }
   ],
   "source": [
    "b >= a"
   ]
  },
  {
   "cell_type": "markdown",
   "metadata": {},
   "source": [
    "### Operadores Lógicos\n",
    "| Símbolo | Operação |\n",
    "|----|---|\n",
    "| and\t| Se ambos operandos são verdadeiros a condição se torna verdadeira |\n",
    "| or | Se algum dos operandos é verdadeiro a condição se torna verdadeira |\n",
    "| not | Usado para reverter o estado lógico do operando |"
   ]
  },
  {
   "cell_type": "code",
   "execution_count": 7,
   "metadata": {},
   "outputs": [
    {
     "data": {
      "text/plain": [
       "True"
      ]
     },
     "execution_count": 7,
     "metadata": {},
     "output_type": "execute_result"
    }
   ],
   "source": [
    "a > b and a > c"
   ]
  },
  {
   "cell_type": "code",
   "execution_count": 8,
   "metadata": {},
   "outputs": [
    {
     "data": {
      "text/plain": [
       "True"
      ]
     },
     "execution_count": 8,
     "metadata": {},
     "output_type": "execute_result"
    }
   ],
   "source": [
    "a == 0 or c == 0"
   ]
  },
  {
   "cell_type": "code",
   "execution_count": 9,
   "metadata": {},
   "outputs": [
    {
     "data": {
      "text/plain": [
       "False"
      ]
     },
     "execution_count": 9,
     "metadata": {},
     "output_type": "execute_result"
    }
   ],
   "source": [
    "a == 0 or b == 0"
   ]
  },
  {
   "cell_type": "code",
   "execution_count": 10,
   "metadata": {},
   "outputs": [
    {
     "data": {
      "text/plain": [
       "False"
      ]
     },
     "execution_count": 10,
     "metadata": {},
     "output_type": "execute_result"
    }
   ],
   "source": [
    "not a > b and a > c"
   ]
  },
  {
   "cell_type": "markdown",
   "metadata": {},
   "source": [
    "### Operadores de Conjunto\n",
    "\n",
    "| Símbolo | Operação |\n",
    "|----|---|\n",
    "| in\t| Retorna verdadeira (`True`) se o operador do lado esquerdo estiver contido no operador do lado direito |\n",
    "| not in | Retorna falso (`False`) se o operador do lado esquerdo estiver contido no operador do lado direito |"
   ]
  },
  {
   "cell_type": "code",
   "execution_count": 11,
   "metadata": {},
   "outputs": [
    {
     "data": {
      "text/plain": [
       "True"
      ]
     },
     "execution_count": 11,
     "metadata": {},
     "output_type": "execute_result"
    }
   ],
   "source": [
    "'P' in 'Python'"
   ]
  },
  {
   "cell_type": "code",
   "execution_count": 12,
   "metadata": {},
   "outputs": [
    {
     "data": {
      "text/plain": [
       "False"
      ]
     },
     "execution_count": 12,
     "metadata": {},
     "output_type": "execute_result"
    }
   ],
   "source": [
    "'Y' in 'Python'"
   ]
  },
  {
   "cell_type": "markdown",
   "metadata": {
    "_uuid": "3eb9f355dc3885ea4b0f38968a4bf14d20de02fd"
   },
   "source": [
    "<a id=\"2\"></a> <br>\n",
    "## 2 - Referências\n",
    "<div class=\"cite2c-biblio\"></div>\n",
    "\n",
    "\n",
    "###### [Voltar ao topo](#top)"
   ]
  },
  {
   "cell_type": "markdown",
   "metadata": {},
   "source": [
    "<!--NAVIGATION-->\n",
    "< [Data Structures](2.1-Data_Structures.ipynb) | [Contents](0-Index.ipynb) | [Control Structures](2.3-Control_Structures.ipynb) >"
   ]
  }
 ],
 "metadata": {
  "cite2c": {
   "citations": {
    "236589/5T4T73QM": {
     "author": [
      {
       "family": "Matthes",
       "given": "Eric"
      }
     ],
     "id": "236589/5T4T73QM",
     "issued": {
      "year": 2015
     },
     "publisher": "No Starch Press",
     "title": "Python crash course: a hands-on, project-based introduction to programming",
     "type": "book"
    }
   }
  },
  "kernelspec": {
   "display_name": "Python 3 (ipykernel)",
   "language": "python",
   "name": "python3"
  },
  "language_info": {
   "codemirror_mode": {
    "name": "ipython",
    "version": 3
   },
   "file_extension": ".py",
   "mimetype": "text/x-python",
   "name": "python",
   "nbconvert_exporter": "python",
   "pygments_lexer": "ipython3",
   "version": "3.12.4"
  }
 },
 "nbformat": 4,
 "nbformat_minor": 4
}
