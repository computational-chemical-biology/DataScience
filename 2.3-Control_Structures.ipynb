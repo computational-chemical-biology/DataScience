{
 "cells": [
  {
   "cell_type": "markdown",
   "metadata": {},
   "source": [
    "<!--NAVIGATION-->\n",
    "< [Logical Operations](2.2-Logical_Operations.ipynb) | [Contents](0-Index.ipynb) | [Functions](2.4-Functions.ipynb) >"
   ]
  },
  {
   "cell_type": "markdown",
   "metadata": {},
   "source": [
    "# 2 Conceitos básicos de programação\n",
    "## 2.3 Estruturas de controle"
   ]
  },
  {
   "cell_type": "markdown",
   "metadata": {},
   "source": [
    "[![Open In Colab](https://colab.research.google.com/assets/colab-badge.svg)](http://colab.research.google.com/github/computational-chemical-biology/DataScience/blob/master/2.3-Control_Structures.ipynb)"
   ]
  },
  {
   "cell_type": "markdown",
   "metadata": {
    "_uuid": "85b27cf82d3023fd69c338df2be7afb2d7afaf32"
   },
   "source": [
    " <a id=\"top\"></a> <br>\n",
    "**Conteúdo do *Notebook***\n",
    "1. [Estruturas](#1)\n",
    "    1. [Comparações](#11)\n",
    "    1. [If-Else](#12)\n",
    "    1. [For loop](#13)\n",
    "    1. [While loop](#14)\n",
    "    1. [Break e Continue](#15)    \n",
    "1. [List Comprehensions](#2)\n",
    "1. [Try e Except](#3)\n",
    "1. [Iterators](#4)\n",
    "1. [Referências](#5)"
   ]
  },
  {
   "cell_type": "markdown",
   "metadata": {},
   "source": [
    "<a id=\"1\"></a> <br>\n",
    "## 1 - Estruturas\n",
    "Nos exemplos seguintes, serão demonstrados laços (*loops*) , *loop* `for`, e *loop* `while`, utlizados para realizar operações em sequência. Também serão utilizados operadores em associação de estruturas de controle como `if-else` <cite data-cite=\"236589/5T4T73QM\"></cite>."
   ]
  },
  {
   "cell_type": "markdown",
   "metadata": {},
   "source": [
    "<a id=\"11\"></a> <br>\n",
    "### 1.1 - Comparações"
   ]
  },
  {
   "cell_type": "markdown",
   "metadata": {},
   "source": [
    "A sintaxe de Python para comparções foi apresentada na seção anterior, em resumo vamos utilizar: \n",
    "\n",
    "1. Maior (ou igual): `>` (`>=`)\n",
    "2. Menor (ou igual): `<` (`<=`)\n",
    "3. Igual a: `==` (__Lembre da diferença de `=` operador de atribuição__)\n",
    "4. Não é igual a: `!=`"
   ]
  },
  {
   "cell_type": "code",
   "execution_count": 1,
   "metadata": {
    "ExecuteTime": {
     "end_time": "2018-10-09T00:16:20.683160Z",
     "start_time": "2018-10-09T00:16:20.676171Z"
    }
   },
   "outputs": [
    {
     "data": {
      "text/plain": [
       "False"
      ]
     },
     "execution_count": 1,
     "metadata": {},
     "output_type": "execute_result"
    }
   ],
   "source": [
    "3 == 5 "
   ]
  },
  {
   "cell_type": "code",
   "execution_count": 2,
   "metadata": {
    "ExecuteTime": {
     "end_time": "2018-10-09T00:16:21.107023Z",
     "start_time": "2018-10-09T00:16:21.102607Z"
    }
   },
   "outputs": [
    {
     "data": {
      "text/plain": [
       "True"
      ]
     },
     "execution_count": 2,
     "metadata": {},
     "output_type": "execute_result"
    }
   ],
   "source": [
    "72 >= 2"
   ]
  },
  {
   "cell_type": "code",
   "execution_count": 3,
   "metadata": {
    "ExecuteTime": {
     "end_time": "2018-10-09T00:16:49.169393Z",
     "start_time": "2018-10-09T00:16:49.164386Z"
    }
   },
   "outputs": [],
   "source": [
    "nome_loja = 'Casas Bahia'"
   ]
  },
  {
   "cell_type": "code",
   "execution_count": 4,
   "metadata": {
    "ExecuteTime": {
     "end_time": "2018-10-09T00:16:49.460268Z",
     "start_time": "2018-10-09T00:16:49.453590Z"
    }
   },
   "outputs": [
    {
     "data": {
      "text/plain": [
       "True"
      ]
     },
     "execution_count": 4,
     "metadata": {},
     "output_type": "execute_result"
    }
   ],
   "source": [
    "nome_loja == \"Casas Bahia\" # Retorna True ou False"
   ]
  },
  {
   "cell_type": "markdown",
   "metadata": {},
   "source": [
    "<a id=\"12\"></a> <br>\n",
    "### 1.2 - If-Else"
   ]
  },
  {
   "cell_type": "code",
   "execution_count": 5,
   "metadata": {
    "ExecuteTime": {
     "end_time": "2018-10-09T01:38:46.027739Z",
     "start_time": "2018-10-09T01:38:46.023274Z"
    }
   },
   "outputs": [
    {
     "data": {
      "text/plain": [
       "6"
      ]
     },
     "execution_count": 5,
     "metadata": {},
     "output_type": "execute_result"
    }
   ],
   "source": [
    "soma = 6\n",
    "soma"
   ]
  },
  {
   "cell_type": "code",
   "execution_count": 6,
   "metadata": {
    "ExecuteTime": {
     "end_time": "2018-10-09T01:38:49.218876Z",
     "start_time": "2018-10-09T01:38:49.214871Z"
    }
   },
   "outputs": [
    {
     "name": "stdout",
     "output_type": "stream",
     "text": [
      "A soma está acima de 5\n"
     ]
    }
   ],
   "source": [
    "if soma > 5:\n",
    "    print('A soma está acima de 5')"
   ]
  },
  {
   "cell_type": "code",
   "execution_count": 7,
   "metadata": {
    "ExecuteTime": {
     "end_time": "2018-10-09T01:38:50.755605Z",
     "start_time": "2018-10-09T01:38:50.751523Z"
    }
   },
   "outputs": [],
   "source": [
    "# Mude o nome do bar e repita\n",
    "nome_bar = 'Bar do Marcão'"
   ]
  },
  {
   "cell_type": "code",
   "execution_count": 8,
   "metadata": {
    "ExecuteTime": {
     "end_time": "2018-10-09T01:38:57.568568Z",
     "start_time": "2018-10-09T01:38:57.563726Z"
    }
   },
   "outputs": [
    {
     "name": "stdout",
     "output_type": "stream",
     "text": [
      "Bar do Marção\n"
     ]
    }
   ],
   "source": [
    "if 'Marcão' in nome_bar:\n",
    "    print(\"Bar do Marção\")\n",
    "else:\n",
    "    print(\"O bar não é o Marcão. É o \" + nome_bar + \".\")"
   ]
  },
  {
   "cell_type": "code",
   "execution_count": 9,
   "metadata": {
    "ExecuteTime": {
     "end_time": "2018-10-09T01:38:47.709640Z",
     "start_time": "2018-10-09T01:38:47.704307Z"
    }
   },
   "outputs": [
    {
     "name": "stdout",
     "output_type": "stream",
     "text": [
      "A soma é maior que 0 e seu valor é 6\n"
     ]
    }
   ],
   "source": [
    "if soma == 0:\n",
    "    print(\"A soma é 0\")\n",
    "elif soma < 0:\n",
    "    print(\"A soma é menor que 0\")\n",
    "else:\n",
    "    print(\"A soma é maior que 0 e seu valor é \" + str(soma)) # Lembre se que temos que transformar o número em caractere"
   ]
  },
  {
   "cell_type": "markdown",
   "metadata": {},
   "source": [
    "<a id=\"13\"></a> <br>\n",
    "### 1.3 - For loop"
   ]
  },
  {
   "cell_type": "code",
   "execution_count": 10,
   "metadata": {
    "ExecuteTime": {
     "end_time": "2018-10-09T01:39:07.309307Z",
     "start_time": "2018-10-09T01:39:07.305696Z"
    }
   },
   "outputs": [
    {
     "name": "stdout",
     "output_type": "stream",
     "text": [
      "B\n",
      "a\n",
      "r\n",
      " \n",
      "d\n",
      "o\n",
      " \n",
      "M\n",
      "a\n",
      "r\n",
      "c\n",
      "ã\n",
      "o\n"
     ]
    }
   ],
   "source": [
    "for letra in nome_bar:\n",
    "    print(letra)"
   ]
  },
  {
   "cell_type": "markdown",
   "metadata": {
    "ExecuteTime": {
     "end_time": "2017-10-04T18:38:51.792543Z",
     "start_time": "2017-10-04T18:38:51.786228Z"
    }
   },
   "source": [
    "`range()` é uma função nativa do Python que cria sequências (tipo `iterator`) de inteiros:"
   ]
  },
  {
   "cell_type": "code",
   "execution_count": 11,
   "metadata": {
    "ExecuteTime": {
     "end_time": "2018-10-09T01:41:03.662280Z",
     "start_time": "2018-10-09T01:41:03.657790Z"
    }
   },
   "outputs": [
    {
     "name": "stdout",
     "output_type": "stream",
     "text": [
      "range(5) retorna: [0, 1, 2, 3, 4]\n",
      "range(1,9) retorna: [1, 2, 3, 4, 5, 6, 7, 8]\n"
     ]
    }
   ],
   "source": [
    "print(\"range(5) retorna: \" + str(list(range(5)))) # Por padrão começa por 0\n",
    "print(\"range(1,9) retorna: \" + str(list(range(1, 9)))) # De 1 a 9-1 (O índice final não é incluído.)"
   ]
  },
  {
   "cell_type": "code",
   "execution_count": 12,
   "metadata": {
    "ExecuteTime": {
     "end_time": "2018-10-09T01:41:05.935416Z",
     "start_time": "2018-10-09T01:41:05.930030Z"
    }
   },
   "outputs": [
    {
     "name": "stdout",
     "output_type": "stream",
     "text": [
      "A 0th letra no nome do bar é: B\n",
      "A 1th letra no nome do bar é: a\n",
      "A 2th letra no nome do bar é: r\n",
      "A 3th letra no nome do bar é:  \n",
      "A 4th letra no nome do bar é: d\n",
      "A 5th letra no nome do bar é: o\n",
      "A 6th letra no nome do bar é:  \n",
      "A 7th letra no nome do bar é: M\n",
      "A 8th letra no nome do bar é: a\n",
      "A 9th letra no nome do bar é: r\n",
      "A 10th letra no nome do bar é: c\n",
      "A 11th letra no nome do bar é: ã\n",
      "A 12th letra no nome do bar é: o\n"
     ]
    }
   ],
   "source": [
    "for indice in range(len(nome_bar)): # tamanho da sequência\n",
    "    print(\"A %ith letra no nome do bar é: %s\"%(indice, nome_bar[indice]))"
   ]
  },
  {
   "cell_type": "markdown",
   "metadata": {},
   "source": [
    "<a id=\"14\"></a> <br>\n",
    "### 1.4 - While loop"
   ]
  },
  {
   "cell_type": "markdown",
   "metadata": {},
   "source": [
    "Geralmente `for loops` são utilizados quando __o número de iterações é conhecido__; enquanto `while` quando __o número de iterações não é conhecido__."
   ]
  },
  {
   "cell_type": "code",
   "execution_count": 13,
   "metadata": {
    "ExecuteTime": {
     "end_time": "2018-10-09T01:41:12.053207Z",
     "start_time": "2018-10-09T01:41:12.049347Z"
    }
   },
   "outputs": [],
   "source": [
    "x = 2"
   ]
  },
  {
   "cell_type": "code",
   "execution_count": 14,
   "metadata": {
    "ExecuteTime": {
     "end_time": "2018-10-09T01:41:12.294825Z",
     "start_time": "2018-10-09T01:41:12.290846Z"
    }
   },
   "outputs": [
    {
     "name": "stdout",
     "output_type": "stream",
     "text": [
      "2\n",
      "3\n",
      "4\n",
      "5\n",
      "6\n",
      "7\n",
      "8\n",
      "9\n"
     ]
    }
   ],
   "source": [
    "while x < 10:\n",
    "    print(x)\n",
    "    x = x + 1"
   ]
  },
  {
   "cell_type": "markdown",
   "metadata": {},
   "source": [
    "<a id=\"15\"></a> <br>\n",
    "### 1.5 - Break e Continue"
   ]
  },
  {
   "cell_type": "markdown",
   "metadata": {},
   "source": [
    "`break` permite se terminar um *loop* imediatamente. Qualquer código após o `break` não será executado."
   ]
  },
  {
   "cell_type": "code",
   "execution_count": 15,
   "metadata": {
    "ExecuteTime": {
     "end_time": "2018-10-09T01:41:21.493159Z",
     "start_time": "2018-10-09T01:41:21.489747Z"
    }
   },
   "outputs": [],
   "source": [
    "nome_bar = 'Tiragosto'"
   ]
  },
  {
   "cell_type": "code",
   "execution_count": 16,
   "metadata": {
    "ExecuteTime": {
     "end_time": "2018-10-09T01:41:22.084338Z",
     "start_time": "2018-10-09T01:41:22.076857Z"
    }
   },
   "outputs": [
    {
     "name": "stdout",
     "output_type": "stream",
     "text": [
      "T\n",
      "i\n",
      "r\n",
      "Terminei aqui\n"
     ]
    }
   ],
   "source": [
    "indice = 0\n",
    "while True:\n",
    "    print(nome_bar[indice])\n",
    "    indice += 1 # a += b equivalente a = a + b\n",
    "    if nome_bar[indice] == \"a\":\n",
    "        print(\"Terminei aqui\")\n",
    "        break # ao invés de usar if e else, podemos optar por terminar o loop\n",
    "        print(\"Você me imprimiu!\") # Não executado"
   ]
  },
  {
   "cell_type": "markdown",
   "metadata": {},
   "source": [
    "`continue` permite passar para a próxima iteração em um *loop*. Irá parar (__break__) a iteração corrente e continuar (__continue__) a próxima."
   ]
  },
  {
   "cell_type": "code",
   "execution_count": 17,
   "metadata": {
    "ExecuteTime": {
     "end_time": "2018-10-09T01:41:23.822603Z",
     "start_time": "2018-10-09T01:41:23.818257Z"
    }
   },
   "outputs": [
    {
     "name": "stdout",
     "output_type": "stream",
     "text": [
      "T\n",
      "i\n",
      "r\n",
      "a\n",
      "g\n",
      "s\n",
      "t\n"
     ]
    }
   ],
   "source": [
    "for letra in nome_bar:\n",
    "    if letra == \"o\":\n",
    "        continue # Não imprimindo 'o'\n",
    "    else:\n",
    "        print(letra)"
   ]
  },
  {
   "cell_type": "code",
   "execution_count": 18,
   "metadata": {
    "ExecuteTime": {
     "end_time": "2018-10-09T01:41:24.791324Z",
     "start_time": "2018-10-09T01:41:24.780078Z"
    }
   },
   "outputs": [
    {
     "name": "stdout",
     "output_type": "stream",
     "text": [
      "T\n",
      "Não achei um `o`\n",
      "i\n",
      "Não achei um `o`\n",
      "r\n",
      "Não achei um `o`\n",
      "a\n",
      "Não achei um `o`\n",
      "g\n",
      "Não achei um `o`\n",
      "o\n",
      "Achei um `o`\n",
      "s\n",
      "Não achei um `o`\n",
      "t\n",
      "Não achei um `o`\n",
      "o\n",
      "Achei um `o`\n"
     ]
    }
   ],
   "source": [
    "indice = 0\n",
    "while indice <= len(nome_bar)-1:\n",
    "    print(nome_bar[indice])\n",
    "    if nome_bar[indice] == \"o\":\n",
    "        print(\"Achei um `o`\")\n",
    "        indice += 1 # a += b equivalente a = a + b\n",
    "        continue\n",
    "    print(\"Não achei um `o`\")\n",
    "    indice += 1 # a += b equivalente a = a + b"
   ]
  },
  {
   "cell_type": "markdown",
   "metadata": {
    "_uuid": "cd17913a07d4a0affecbeb9e57af99fd7600c723"
   },
   "source": [
    "<a id=\"2\"></a> <br>\n",
    "## 2 - *List Comprehensions*"
   ]
  },
  {
   "cell_type": "markdown",
   "metadata": {},
   "source": [
    "Como visto anteriormete, podemos iterar por uma lista utilizando um `for` *loop*."
   ]
  },
  {
   "cell_type": "code",
   "execution_count": 19,
   "metadata": {},
   "outputs": [
    {
     "data": {
      "text/plain": [
       "[0, 2, 4, 6, 8]"
      ]
     },
     "execution_count": 19,
     "metadata": {},
     "output_type": "execute_result"
    }
   ],
   "source": [
    "lista = []\n",
    "for num in range(0, 9):\n",
    "    if num % 2 == 0: # divisão sem resto\n",
    "        lista.append(num)\n",
    "\n",
    "lista"
   ]
  },
  {
   "cell_type": "markdown",
   "metadata": {
    "_uuid": "1bfe68a8553e5718a04b14a321262e6e88407b2c"
   },
   "source": [
    "Podemos fazer o mesmo de forma mais simples e mais compacta utilizando *list comprehensions* da seguinte forma"
   ]
  },
  {
   "cell_type": "code",
   "execution_count": 20,
   "metadata": {
    "_kg_hide-input": true,
    "_uuid": "ee501b9820296d1452845b8da201dbd69d4e0637"
   },
   "outputs": [
    {
     "data": {
      "text/plain": [
       "[0, 2, 4, 6, 8]"
      ]
     },
     "execution_count": 20,
     "metadata": {},
     "output_type": "execute_result"
    }
   ],
   "source": [
    "lista = [num for num in range(0,10) if num % 2 == 0]\n",
    "lista"
   ]
  },
  {
   "cell_type": "markdown",
   "metadata": {
    "_uuid": "af880b807b69c45d77b21433937a13772453b481"
   },
   "source": [
    "<a id=\"3\"></a> <br>\n",
    "## 3 - Try e Except\n",
    "\n",
    "O bloco **try** permite o teste de uma operação que pode resultar em erro.\n",
    "\n",
    "O bloco **except** permite o manejo do eventual erro obtido.\n",
    "\n",
    "E o bloco **finally** permite a execução de operações independentemente dos resultados em **try** e **except**."
   ]
  },
  {
   "cell_type": "code",
   "execution_count": 21,
   "metadata": {
    "_kg_hide-input": true,
    "_uuid": "078d0a98c43a742ff43460848dd6bf31a69975ce"
   },
   "outputs": [
    {
     "name": "stdout",
     "output_type": "stream",
     "text": [
      "A variável z não está definida\n"
     ]
    }
   ],
   "source": [
    "try:\n",
    "  print(z)\n",
    "except NameError:\n",
    "  print(\"A variável z não está definida\")"
   ]
  },
  {
   "cell_type": "code",
   "execution_count": 22,
   "metadata": {},
   "outputs": [
    {
     "name": "stdout",
     "output_type": "stream",
     "text": [
      "Agora sim\n"
     ]
    }
   ],
   "source": [
    "z = 'Agora sim'\n",
    "try:\n",
    "  print(z)\n",
    "except NameError:\n",
    "  print(\"A variável z não está definida\")"
   ]
  },
  {
   "cell_type": "code",
   "execution_count": 23,
   "metadata": {
    "_kg_hide-input": true,
    "_uuid": "c5e3cbfe7a287cda43736597455b95e2117ccf4d"
   },
   "outputs": [
    {
     "name": "stdout",
     "output_type": "stream",
     "text": [
      "A variável w não está definida\n",
      "Não foi possível imprimir a variável\n"
     ]
    }
   ],
   "source": [
    "try:\n",
    "  print(w)\n",
    "except NameError:\n",
    "  print(\"A variável w não está definida\")\n",
    "finally:\n",
    "  print(\"Não foi possível imprimir a variável\")"
   ]
  },
  {
   "cell_type": "markdown",
   "metadata": {
    "_uuid": "6d4ae311b6798fa03dff0516dfb59e7d271b040e"
   },
   "source": [
    "<a id=\"4\"></a> <br>\n",
    "## 4 - Iterators\n",
    "\n",
    "Um *iterator* é um objeto que possui um número contável de valores.\n",
    "\n",
    "Pode se iterar sobre um objeto *iterator*, ou seja, pode se atravessar todos seus valores."
   ]
  },
  {
   "cell_type": "code",
   "execution_count": 24,
   "metadata": {
    "_kg_hide-input": true,
    "_uuid": "830a5d61f4d7afec6525f32b8f8e9c0f4783acc0"
   },
   "outputs": [
    {
     "name": "stdout",
     "output_type": "stream",
     "text": [
      "maçã\n",
      "banana\n",
      "goiba\n"
     ]
    }
   ],
   "source": [
    "minha_tuple = (\"maçã\", \"banana\", \"goiba\")\n",
    "\n",
    "for x in minha_tuple:\n",
    "  print(x)"
   ]
  },
  {
   "cell_type": "markdown",
   "metadata": {
    "_uuid": "0fd29f43681c38533591b6cd0d3cff27e75b6b0c"
   },
   "source": [
    "Retornar um *iterator* de uma *tuple* a cada execução da função *next* e imprimir:"
   ]
  },
  {
   "cell_type": "code",
   "execution_count": 25,
   "metadata": {
    "_kg_hide-input": true,
    "_uuid": "d4f1c3ecdad754158b847660bfc92343470e9c55"
   },
   "outputs": [
    {
     "name": "stdout",
     "output_type": "stream",
     "text": [
      "maçã\n",
      "banana\n",
      "goiba\n"
     ]
    }
   ],
   "source": [
    "minha_tuple = (\"maçã\", \"banana\", \"goiba\")\n",
    "meu_iterator = iter(minha_tuple)\n",
    "\n",
    "print(next(meu_iterator))\n",
    "print(next(meu_iterator))\n",
    "print(next(meu_iterator))"
   ]
  },
  {
   "cell_type": "markdown",
   "metadata": {
    "_uuid": "3eb9f355dc3885ea4b0f38968a4bf14d20de02fd"
   },
   "source": [
    "<a id=\"5\"></a> <br>\n",
    "## 5- Referências\n",
    "<div class=\"cite2c-biblio\"></div>\n",
    "\n",
    "\n",
    "###### [Voltar ao topo](#top)"
   ]
  },
  {
   "cell_type": "markdown",
   "metadata": {},
   "source": [
    "<!--NAVIGATION-->\n",
    "< [Logical Operations](2.2-Logical_Operations.ipynb) | [Contents](0-Index.ipynb) | [Functions](2.4-Functions.ipynb) >"
   ]
  }
 ],
 "metadata": {
  "cite2c": {
   "citations": {
    "236589/5T4T73QM": {
     "author": [
      {
       "family": "Matthes",
       "given": "Eric"
      }
     ],
     "id": "236589/5T4T73QM",
     "issued": {
      "year": 2015
     },
     "publisher": "No Starch Press",
     "title": "Python crash course: a hands-on, project-based introduction to programming",
     "type": "book"
    }
   }
  },
  "kernelspec": {
   "display_name": "Python 3 (ipykernel)",
   "language": "python",
   "name": "python3"
  },
  "language_info": {
   "codemirror_mode": {
    "name": "ipython",
    "version": 3
   },
   "file_extension": ".py",
   "mimetype": "text/x-python",
   "name": "python",
   "nbconvert_exporter": "python",
   "pygments_lexer": "ipython3",
   "version": "3.12.4"
  }
 },
 "nbformat": 4,
 "nbformat_minor": 4
}
