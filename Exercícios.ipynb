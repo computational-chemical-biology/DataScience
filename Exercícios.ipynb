{
  "nbformat": 4,
  "nbformat_minor": 0,
  "metadata": {
    "colab": {
      "provenance": []
    },
    "kernelspec": {
      "name": "python3",
      "display_name": "Python 3"
    },
    "language_info": {
      "name": "python"
    }
  },
  "cells": [
    {
      "cell_type": "markdown",
      "source": [
        "# Exercícios\n",
        "\n",
        "Algumas listas de exercícios foram obtidas do canal [Curso em Vídeo](https://www.youtube.com/c/CursoemV%C3%ADdeo)."
      ],
      "metadata": {
        "id": "Dy0wQNpcXakm"
      }
    },
    {
      "cell_type": "markdown",
      "source": [
        "Lista | Link\n",
        "--|--\n",
        "Lista 1 - Noções básicas de python | [![Open In Colab](https://colab.research.google.com/assets/colab-badge.svg)](http://colab.research.google.com/github/computational-chemical-biology/DataScience/blob/master/exercicios/lista_1.ipynb)\n",
        "Lista 2 - NumPy e Pandas | [![Open In Colab](https://colab.research.google.com/assets/colab-badge.svg)](http://colab.research.google.com/github/computational-chemical-biology/DataScience/blob/master/exercicios/lista_2.ipynb)\n",
        "Lista 3 - scikit-learn | [![Open In Colab](https://colab.research.google.com/assets/colab-badge.svg)](http://colab.research.google.com/github/computational-chemical-biology/DataScience/blob/master/exercicios/lista_3.ipynb)\n",
        "Lista 4 - Regressão Linear | [![Open In Colab](https://colab.research.google.com/assets/colab-badge.svg)](http://colab.research.google.com/github/computational-chemical-biology/DataScience/blob/master/exercicios/lista_4.ipynb) [dados_regressao](https://raw.githubusercontent.com/computational-chemical-biology/DataScience/master/exercicios/dados_regressao.csv) [kc_house_data](https://raw.githubusercontent.com/computational-chemical-biology/DataScience/master/exercicios/kc_house_data.csv)\n",
        "Lista 5 - Classificação | [![Open In Colab](https://colab.research.google.com/assets/colab-badge.svg)](http://colab.research.google.com/github/computational-chemical-biology/DataScience/blob/master/exercicios/lista_5.ipynb)\n",
        "Lista 6 - Agrupamento | [![Open In Colab](https://colab.research.google.com/assets/colab-badge.svg)](http://colab.research.google.com/github/computational-chemical-biology/DataScience/blob/master/exercicios/lista_6.ipynb)\n",
        "Lista 6b - Agrupamento | [![Open In Colab](https://colab.research.google.com/assets/colab-badge.svg)](http://colab.research.google.com/github/computational-chemical-biology/DataScience/blob/master/exercicios/lista_6b.ipynb)\n",
        "Lista 7 - Extra Pandas | [![Open In Colab](https://colab.research.google.com/assets/colab-badge.svg)](http://colab.research.google.com/github/computational-chemical-biology/DataScience/blob/master/exercicios/exe_pandas_sem_respostas.ipynb)\n",
        "Lista 8 - Extra Regressão Logística | [![Open In Colab](https://colab.research.google.com/assets/colab-badge.svg)](http://colab.research.google.com/github/computational-chemical-biology/DataScience/blob/master/exercicios/regressao_logistica_exe.ipynb.ipynb)\n",
        "Lista 9 - Extra TensorFlow | [![Open In Colab](https://colab.research.google.com/assets/colab-badge.svg)](http://colab.research.google.com/github/computational-chemical-biology/DataScience/blob/master/exercicios/pratica_tensorflow.ipynb)\n",
        "Lista 10 - Extra TensorFlow | [![Open In Colab](https://colab.research.google.com/assets/colab-badge.svg)](http://colab.research.google.com/github/computational-chemical-biology/DataScience/blob/master/exercicios/pratica_dog_vs_cats.ipynb) [Dados](https://www.kaggle.com/c/dogs-vs-cats/data)"
      ],
      "metadata": {
        "id": "iqFecwiHXweT"
      }
    }
  ]
}