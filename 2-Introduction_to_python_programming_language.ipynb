{
 "cells": [
  {
   "cell_type": "markdown",
   "metadata": {},
   "source": [
    "<!--NAVIGATION-->\n",
    "< [Introduction to Jupyter Platform](1-Introduction_to_Jupyter_Platform.ipynb) | [Contents](0-Index.ipynb) | [Data Structures](2.1-Data_Structures.ipynb) >"
   ]
  },
  {
   "cell_type": "markdown",
   "metadata": {},
   "source": [
    " <a id=\"top\"></a> <br>\n",
    "# Introdução à linguagem de programação Python"
   ]
  },
  {
   "cell_type": "markdown",
   "metadata": {},
   "source": [
    "Python é uma linguagem de programação muito popular nas ciências dos dados <cite data-cite=\"236589/RHTQMH7D\"></cite>, e é uma linguagem de sintaxe simples, o que a torna uma boa escolha para cursos de introdução à programação <cite data-cite=\"236589/5T4T73QM\"></cite>.\n",
    "\n",
    "Nas próximas seções exploraremos os conceitos básicos de programação utilizando Python na plataforma Jupyter. Abaixo ilustramos alguns conceitos que são recorrentemente abordados em Python."
   ]
  },
  {
   "cell_type": "markdown",
   "metadata": {},
   "source": [
    " <a id=\"1\"></a> <br>\n",
    "# Python\n",
    "\n",
    "1. Python é uma linguagem interpretada:\n",
    "\n",
    "Uma [linguagem interpretada](https://en.wikipedia.org/wiki/Interpreted_language) executa as instruções descritas no código escrito diretamente, sem a necessidade de compilar o código em um formato interpretável pelo *hardware*.\n",
    "\n",
    "2. Python é uma linguagem de alto nível:\n",
    "\n",
    "Uma [linguagem de alto nível](https://en.wikipedia.org/wiki/High-level_programming_language) é uma linguagem que usa elementos das línguas faladas, para abstrair conceitos da comunicação das aplicações (*software*) com o *hardware*, tornando o aprendizado e a criação de aplicações mais simples e rápida.\n",
    "\n",
    "3. Python é uma linguagem de programação de propósitos diversos.\n",
    "\n",
    "Uma [linguagem de programação de propósitos diversos](https://en.wikipedia.org/wiki/General-purpose_programming_language) é desenhada para desenvolver aplicações em uma ampla gama de domínios. Exemplos incluem:\n",
    "\n",
    "    1. Desenvolvimento web (rede mundial de computadores do inglês: World Wide Web, WWW, web);\n",
    "    2. Aplicaçoes científicas e numéricas;\n",
    "    2. Educacional;\n",
    "    3. Aplicações Desktop;\n",
    "    4. Aplicações para negócios em geral.\n",
    "    \n",
    "4. Python prioriza a legibilidade do código\n",
    "\n",
    "A [legibilidade do código](https://en.wikipedia.org/wiki/Computer_programming#Readability_of_source_code) permite que o leitor ou desenvolvedor, mais especificamente, possa ler e compreender o fluxo e as operações do código fonte. Essa característica faz com que o código possa ser amplamente utilizado e o torna mais fácil de gerenciar."
   ]
  },
  {
   "cell_type": "markdown",
   "metadata": {},
   "source": [
    "## Folhas de dicas da linguagem"
   ]
  },
  {
   "cell_type": "markdown",
   "metadata": {},
   "source": [
    "<img src=\"./figuras/Python3_reference_cheat_sheet_front.png\">"
   ]
  },
  {
   "cell_type": "markdown",
   "metadata": {},
   "source": [
    "<img src=\"./figuras/Python3_reference_cheat_sheet_back.png\">"
   ]
  },
  {
   "cell_type": "markdown",
   "metadata": {},
   "source": [
    "# Referências\n",
    "<div class=\"cite2c-biblio\"></div>"
   ]
  },
  {
   "cell_type": "markdown",
   "metadata": {},
   "source": [
    "###### [Voltar ao topo](#top)"
   ]
  },
  {
   "cell_type": "markdown",
   "metadata": {},
   "source": [
    "<!--NAVIGATION-->\n",
    "< [Introduction to Jupyter Platform](1-Introduction_to_Jupyter_Platform.ipynb) | [Contents](0-Index.ipynb) | [Data Structures](2.1-Data_Structures.ipynb) >"
   ]
  }
 ],
 "metadata": {
  "cite2c": {
   "citations": {
    "236589/5T4T73QM": {
     "author": [
      {
       "family": "Matthes",
       "given": "Eric"
      }
     ],
     "id": "236589/5T4T73QM",
     "issued": {
      "year": 2015
     },
     "publisher": "No Starch Press",
     "title": "Python crash course: a hands-on, project-based introduction to programming",
     "type": "book"
    },
    "236589/RHTQMH7D": {
     "author": [
      {
       "family": "Clément",
       "given": "Levin"
      },
      {
       "family": "Emeric",
       "given": "Dynomant"
      },
      {
       "family": "Laurent",
       "given": "Mouchard"
      },
      {
       "family": "David",
       "given": "Landsman"
      },
      {
       "family": "Eivind",
       "given": "Hovig"
      },
      {
       "family": "Kristian",
       "given": "Vlahovicek"
      },
      {
       "family": "others",
       "given": ""
      }
     ],
     "container-title": "arXiv preprint arXiv:1807.06808",
     "id": "236589/RHTQMH7D",
     "issued": {
      "year": 2018
     },
     "title": "A data-supported history of bioinformatics tools",
     "type": "article-journal"
    }
   }
  },
  "kernelspec": {
   "display_name": "Python 3",
   "language": "python",
   "name": "python3"
  },
  "language_info": {
   "codemirror_mode": {
    "name": "ipython",
    "version": 3
   },
   "file_extension": ".py",
   "mimetype": "text/x-python",
   "name": "python",
   "nbconvert_exporter": "python",
   "pygments_lexer": "ipython3",
   "version": "3.6.5"
  }
 },
 "nbformat": 4,
 "nbformat_minor": 1
}
