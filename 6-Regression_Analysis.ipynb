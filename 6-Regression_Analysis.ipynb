{
 "cells": [
  {
   "cell_type": "markdown",
   "metadata": {},
   "source": [
    "<!--NAVIGATION-->\n",
    "<  [Scikit-Learn Library](5-Scikit-Learn_Library.ipynb) | [Contents](0-Index.ipynb) | [Classification Analysis](7-Classification_Analysis.ipynb) >"
   ]
  },
  {
   "cell_type": "markdown",
   "metadata": {},
   "source": [
    "# 6  Regressão Linear\n"
   ]
  },
  {
   "cell_type": "markdown",
   "metadata": {},
   "source": [
    "[![Open In Colab](https://colab.research.google.com/assets/colab-badge.svg)](http://colab.research.google.com/github/computational-chemical-biology/DataScience/blob/master/6-Regression_Analysis.ipynb)"
   ]
  },
  {
   "cell_type": "markdown",
   "metadata": {
    "_uuid": "85b27cf82d3023fd69c338df2be7afb2d7afaf32"
   },
   "source": [
    " <a id=\"top\"></a> <br>\n",
    "**Conteúdo do *Notebook***\n",
    "1. [Introdução à Regressão Linear](#1)\n",
    "    1. [Estimando os parâmetros do modelo de regressão](#11)\n",
    "2. [Explorando os dados antes de ajustar o modelo](#2)\n",
    "3. [Ajustando um modelo de regressão linear simples](#3)\n",
    "    1. [Teste de hipóteses para os regressores](#32)\n",
    "    1. [Medindo o ajuste do modelo](#33)\n",
    "4. [Ajustando um modelo de regressão linear múltipla](#4)    \n",
    "5. [Regressão Linear com a biblioteca Scikit-Learn](#5)\n",
    "6. [Regressão Linear com variáveis preditoras categóricas](#6)\n",
    "7. [Regressão na forma matricial](#7)\n",
    "8. [Referências](#8)"
   ]
  },
  {
   "cell_type": "markdown",
   "metadata": {},
   "source": [
    "<a id=\"1\"></a> <br>\n",
    "# 1 - Introdução à Regressão Linear"
   ]
  },
  {
   "cell_type": "markdown",
   "metadata": {},
   "source": [
    "Como visto anteriormente, a regressão linear é útil para predição de uma resposta quantitativa. Os conceitos introduzidos na análise de regressão podem ser generalizados para técnicas mais complexas, estudadas nas seções posteriores. A regressão linear tem por objetivo a predição de uma resposta quantitativa Y, com base em um conjunto de variáveis preditoras X <cite data-cite=\"236589/MJERACZD\"></cite>. O modelo assume que existe uma resposta aproximadamente linear entre X e Y. Podemos expressar uma regressão linear da seguinte forma:\n",
    "\n",
    "$y = \\beta_0 + \\beta_1x$\n",
    "\n",
    "onde $y$ representa a variável resposta, que se prentende predizer, $x$ as características (também conhecidas como variáveis preditoras ou dependentes), $\\beta_0$ é o intercepto da regressão e $\\beta_1$ é o coeficiente para $x$.\n",
    "\n",
    "A seguir veremos como estimar modelos de regressão. Utilizaremos as bibliotecas [scikit-learn](http://scikit-learn.org/stable/) e [Statsmodels](http://statsmodels.sourceforge.net/) assim como outras bibliotecas e conceitos de programação apresentados previamente."
   ]
  },
  {
   "cell_type": "markdown",
   "metadata": {},
   "source": [
    "<a id=\"11\"></a> <br>\n",
    "## 1.1 - Estimando os parâmetros do modelo de regressão"
   ]
  },
  {
   "cell_type": "markdown",
   "metadata": {},
   "source": [
    "Para criar um modelo de regressão, precisamos obter os parâmetros $\\beta_0$ e $\\beta_1$ de modo que o modelo de regressão se ajuste (*fit*) aos dados observados $y$ da melhor forma possível. Existem várias formas de estimar os parâmetros de um modelo, trabalharemos aqui com o método dos mínimos quadrados. De forma simplificada, seja\n",
    "\n",
    "$\\hat{y}_i = \\hat{\\beta}_0 + \\hat{\\beta}_1x_i$\n",
    "\n",
    "o preditor $\\hat{y}_i$ do *i*th valor da variável Y com o *i*th da variável X. O método dos mínimos quadrados utiliza o erro dado por:\n",
    "\n",
    "$e_i = y_i - \\hat{y}_i$\n",
    "\n",
    "onde $y_i$ e $\\hat{y}_i$ representam os valores observado e estimado respectivamente, para minimizar a soma dos quadrados dos erros dadas por\n",
    "\n",
    "$RSS = \\sum_{i=1}^{n}(y_i - \\hat{y}_i)^2$\n",
    "\n",
    "É possível provar <cite data-cite=\"236589/MJERACZD\"></cite> que os valores que minimizam a soma de quadrados dos resíduos (do inglês RSS - *Residual Sum of Squares*) para $\\beta_0$ e $\\beta_1$ podem ser obtidos por:\n",
    "\n",
    "$ \\hat{\\beta}_1 = \\frac{\\sum_{i=1}^{n}(x_i - \\bar{x}_i)(y_i - \\bar{y}_i)}{\\sum_{i=1}^{n}(x_i - \\bar{x}_i)^2} $\n",
    "\n",
    "e \n",
    "\n",
    "$ \\hat{\\beta}_0 = \\bar{y}-\\hat{\\beta}_1\\bar{x} $\n",
    "\n",
    "onde $n$ é o número de observações e $\\bar{y} = \\frac{1}{n}\\sum_{i=1}^{n}y_i$, $\\bar{x} = \\frac{1}{n}\\sum_{i=1}^{n}x_i$ são médias amostrais para $y$ e $x$ respectivamente.\n",
    "\n",
    "A seguir veremos como podemos explorar os dados graficamente e como podemos estimar estes parâmetros. "
   ]
  },
  {
   "cell_type": "markdown",
   "metadata": {},
   "source": [
    "<a id=\"2\"></a> <br>\n",
    "# 2 - Explorando os dados antes de ajustar o modelo\n",
    "\n",
    "Utilizaremos o que aprendemos em seções anteriores para explorar os dados. Utilizaremos um conjunto de dados públicos de anúncios publicitários descritos em <cite data-cite=\"236589/MJERACZD\"></cite>."
   ]
  },
  {
   "cell_type": "code",
   "execution_count": 1,
   "metadata": {},
   "outputs": [],
   "source": [
    "# importar bibliotecas\n",
    "import pandas as pd\n",
    "import matplotlib.pyplot as plt\n",
    "\n",
    "# lembre-se de adicionar essa linha para permitir que os gráficos sejam visualizados no notebook\n",
    "%matplotlib inline"
   ]
  },
  {
   "cell_type": "code",
   "execution_count": 2,
   "metadata": {},
   "outputs": [
    {
     "data": {
      "text/html": [
       "<div>\n",
       "<style scoped>\n",
       "    .dataframe tbody tr th:only-of-type {\n",
       "        vertical-align: middle;\n",
       "    }\n",
       "\n",
       "    .dataframe tbody tr th {\n",
       "        vertical-align: top;\n",
       "    }\n",
       "\n",
       "    .dataframe thead th {\n",
       "        text-align: right;\n",
       "    }\n",
       "</style>\n",
       "<table border=\"1\" class=\"dataframe\">\n",
       "  <thead>\n",
       "    <tr style=\"text-align: right;\">\n",
       "      <th></th>\n",
       "      <th>TV</th>\n",
       "      <th>Radio</th>\n",
       "      <th>Newspaper</th>\n",
       "      <th>Sales</th>\n",
       "    </tr>\n",
       "  </thead>\n",
       "  <tbody>\n",
       "    <tr>\n",
       "      <th>1</th>\n",
       "      <td>230.1</td>\n",
       "      <td>37.8</td>\n",
       "      <td>69.2</td>\n",
       "      <td>22.1</td>\n",
       "    </tr>\n",
       "    <tr>\n",
       "      <th>2</th>\n",
       "      <td>44.5</td>\n",
       "      <td>39.3</td>\n",
       "      <td>45.1</td>\n",
       "      <td>10.4</td>\n",
       "    </tr>\n",
       "    <tr>\n",
       "      <th>3</th>\n",
       "      <td>17.2</td>\n",
       "      <td>45.9</td>\n",
       "      <td>69.3</td>\n",
       "      <td>9.3</td>\n",
       "    </tr>\n",
       "    <tr>\n",
       "      <th>4</th>\n",
       "      <td>151.5</td>\n",
       "      <td>41.3</td>\n",
       "      <td>58.5</td>\n",
       "      <td>18.5</td>\n",
       "    </tr>\n",
       "    <tr>\n",
       "      <th>5</th>\n",
       "      <td>180.8</td>\n",
       "      <td>10.8</td>\n",
       "      <td>58.4</td>\n",
       "      <td>12.9</td>\n",
       "    </tr>\n",
       "  </tbody>\n",
       "</table>\n",
       "</div>"
      ],
      "text/plain": [
       "      TV  Radio  Newspaper  Sales\n",
       "1  230.1   37.8       69.2   22.1\n",
       "2   44.5   39.3       45.1   10.4\n",
       "3   17.2   45.9       69.3    9.3\n",
       "4  151.5   41.3       58.5   18.5\n",
       "5  180.8   10.8       58.4   12.9"
      ]
     },
     "execution_count": 2,
     "metadata": {},
     "output_type": "execute_result"
    }
   ],
   "source": [
    "# Sim, é possível ler dados diretamente de uma URL!\n",
    "dados = pd.read_csv('https://raw.githubusercontent.com/lneisenman/isl/master/data/Advertising.csv', index_col=0)\n",
    "dados.head()"
   ]
  },
  {
   "cell_type": "markdown",
   "metadata": {},
   "source": [
    "Nosso objetivo é predizer a resposta nos baseando em amostras (ou observações), das características: anúncios em TV, Rádio e Jornal (escala de milhares de Dólares). Estas características serão utilizadas para predizer uma variável de interesse (resposta), o número de vendas (escala de milhares de objetos)."
   ]
  },
  {
   "cell_type": "code",
   "execution_count": 3,
   "metadata": {},
   "outputs": [
    {
     "data": {
      "text/plain": [
       "(200, 4)"
      ]
     },
     "execution_count": 3,
     "metadata": {},
     "output_type": "execute_result"
    }
   ],
   "source": [
    "# dimensões do DataFrame\n",
    "dados.shape"
   ]
  },
  {
   "cell_type": "markdown",
   "metadata": {},
   "source": [
    "Temos 200 amostras e 3 características, que vamos utilizar para predizer as vendas (*Sales*). Podemos começar visualizando a relação das características e as vendas."
   ]
  },
  {
   "cell_type": "code",
   "execution_count": 4,
   "metadata": {},
   "outputs": [
    {
     "data": {
      "text/plain": [
       "<matplotlib.axes._subplots.AxesSubplot at 0x7faf07f45748>"
      ]
     },
     "execution_count": 4,
     "metadata": {},
     "output_type": "execute_result"
    },
    {
     "data": {
      "image/png": "[encoded data removed]",
      "text/plain": [
       "<matplotlib.figure.Figure at 0x7faf0a0521d0>"
      ]
     },
     "metadata": {
      "needs_background": "light"
     },
     "output_type": "display_data"
    }
   ],
   "source": [
    "# lembre-se da criação de sub-plots com a biblioteca matplotlib\n",
    "# aqui criamos três sub-plots em uma linha e compartilhamos o eixo y\n",
    "# com o parâmetro 'sharey=True'\n",
    "fig, axs = plt.subplots(1, 3, sharey=True)\n",
    "\n",
    "# Podemos utilizar o método 'plot' da biblioteca Pandas para adicionar um plot\n",
    "# a cada elemento da lista de objetos axs\n",
    "dados.plot(kind='scatter', x='TV', y='Sales', ax=axs[0], figsize=(16, 8))\n",
    "dados.plot(kind='scatter', x='Radio', y='Sales', ax=axs[1])\n",
    "dados.plot(kind='scatter', x='Newspaper', y='Sales', ax=axs[2])"
   ]
  },
  {
   "cell_type": "markdown",
   "metadata": {},
   "source": [
    "Podemos observar que a variável TV aparenta uma correlação linear mais forte com a variável vendas, a variável Rádio um pouco menor e a variável Jornal (*Newspaper*) aparentemente não está correlacionada. Veremos como podemos explorar essas relações adiante.  "
   ]
  },
  {
   "cell_type": "markdown",
   "metadata": {},
   "source": [
    "<a id=\"3\"></a> <br>\n",
    "# 3 - Ajustando um modelo de regressão linear simples\n",
    "\n",
    "Após observar os dados podemos estimar os parâmetros para o nosso modelo de regressão. Utilizaremos a biblioteca Stasmodels para aplicar o método dos mínimos quadrados visto [acima](#11)."
   ]
  },
  {
   "cell_type": "code",
   "execution_count": 5,
   "metadata": {},
   "outputs": [
    {
     "data": {
      "text/plain": [
       "Intercept    7.032594\n",
       "TV           0.047537\n",
       "dtype: float64"
      ]
     },
     "execution_count": 5,
     "metadata": {},
     "output_type": "execute_result"
    }
   ],
   "source": [
    "# Utilizaremos a função fórmula, que emula descrição de fórmulas no software R\n",
    "# que usa o formato 'variável resposta~variável preditora'\n",
    "import statsmodels.formula.api as smf\n",
    "\n",
    "# criar um modelo\n",
    "lm = smf.ols(formula='Sales ~ TV', data=dados)\n",
    "\n",
    "# ajustar o modelo\n",
    "lm = lm.fit()\n",
    "\n",
    "# imprimir o valor estimado para os coeficientes (parâmetros) do modelo\n",
    "# b_0 = Intercept\n",
    "# b_1 = relacionado a variável preditora, no caso TV\n",
    "lm.params"
   ]
  },
  {
   "cell_type": "markdown",
   "metadata": {},
   "source": [
    "O coeficiente $\\beta_1$ pode ser interpretado como o valor adicionado as Vendas (*Sales*), a cada unidade de incremento no valor gasto em anúnicios de TV. Ou seja, a cada unidade adicionada ao valor TV, 0.047537 são adicionadas ao valor de vendas, de acordo com o modelo predito."
   ]
  },
  {
   "cell_type": "markdown",
   "metadata": {},
   "source": [
    "Podemos também utilizar o modelo para predizer o valor de vendas no futuro, nos baseando no valor investido em anúncios. Como exemplo, com investimento de **$50,000**, para predizer o número de vendas faríamos:\n",
    "\n",
    "$$y = \\beta_0 + \\beta_1x$$\n",
    "$$y = 7.032594 + 0.047537 \\times 50$$"
   ]
  },
  {
   "cell_type": "code",
   "execution_count": 6,
   "metadata": {},
   "outputs": [
    {
     "data": {
      "text/plain": [
       "9.409444"
      ]
     },
     "execution_count": 6,
     "metadata": {},
     "output_type": "execute_result"
    }
   ],
   "source": [
    "# Calculando manualmente\n",
    "7.032594 + 0.047537*50"
   ]
  },
  {
   "cell_type": "markdown",
   "metadata": {},
   "source": [
    "Podemos também utilizar a biblioteca Statsmodels para fazer a predição:"
   ]
  },
  {
   "cell_type": "code",
   "execution_count": 7,
   "metadata": {},
   "outputs": [
    {
     "data": {
      "text/html": [
       "<div>\n",
       "<style scoped>\n",
       "    .dataframe tbody tr th:only-of-type {\n",
       "        vertical-align: middle;\n",
       "    }\n",
       "\n",
       "    .dataframe tbody tr th {\n",
       "        vertical-align: top;\n",
       "    }\n",
       "\n",
       "    .dataframe thead th {\n",
       "        text-align: right;\n",
       "    }\n",
       "</style>\n",
       "<table border=\"1\" class=\"dataframe\">\n",
       "  <thead>\n",
       "    <tr style=\"text-align: right;\">\n",
       "      <th></th>\n",
       "      <th>TV</th>\n",
       "    </tr>\n",
       "  </thead>\n",
       "  <tbody>\n",
       "    <tr>\n",
       "      <th>0</th>\n",
       "      <td>50</td>\n",
       "    </tr>\n",
       "  </tbody>\n",
       "</table>\n",
       "</div>"
      ],
      "text/plain": [
       "   TV\n",
       "0  50"
      ]
     },
     "execution_count": 7,
     "metadata": {},
     "output_type": "execute_result"
    }
   ],
   "source": [
    "# o valor de entrada para a biblioteca Statsmodels é um objeto DataFrame\n",
    "X_novo = pd.DataFrame({'TV': [50]})\n",
    "X_novo.head()"
   ]
  },
  {
   "cell_type": "code",
   "execution_count": 8,
   "metadata": {},
   "outputs": [
    {
     "data": {
      "text/plain": [
       "0    9.409426\n",
       "dtype: float64"
      ]
     },
     "execution_count": 8,
     "metadata": {},
     "output_type": "execute_result"
    }
   ],
   "source": [
    "# utilize o método 'predict' para realizar a predição\n",
    "lm.predict(X_novo)"
   ]
  },
  {
   "cell_type": "markdown",
   "metadata": {},
   "source": [
    "Uma forma de vizualizar a reta estimada pelo modelo de regressão, é estimar os valores preditos pelo modelo para Vendas com o menor e o maior valor de anúncios de TV, e então plotar a reta entre estes pontos."
   ]
  },
  {
   "cell_type": "code",
   "execution_count": 9,
   "metadata": {},
   "outputs": [
    {
     "data": {
      "text/html": [
       "<div>\n",
       "<style scoped>\n",
       "    .dataframe tbody tr th:only-of-type {\n",
       "        vertical-align: middle;\n",
       "    }\n",
       "\n",
       "    .dataframe tbody tr th {\n",
       "        vertical-align: top;\n",
       "    }\n",
       "\n",
       "    .dataframe thead th {\n",
       "        text-align: right;\n",
       "    }\n",
       "</style>\n",
       "<table border=\"1\" class=\"dataframe\">\n",
       "  <thead>\n",
       "    <tr style=\"text-align: right;\">\n",
       "      <th></th>\n",
       "      <th>TV</th>\n",
       "    </tr>\n",
       "  </thead>\n",
       "  <tbody>\n",
       "    <tr>\n",
       "      <th>0</th>\n",
       "      <td>0.7</td>\n",
       "    </tr>\n",
       "    <tr>\n",
       "      <th>1</th>\n",
       "      <td>296.4</td>\n",
       "    </tr>\n",
       "  </tbody>\n",
       "</table>\n",
       "</div>"
      ],
      "text/plain": [
       "      TV\n",
       "0    0.7\n",
       "1  296.4"
      ]
     },
     "execution_count": 9,
     "metadata": {},
     "output_type": "execute_result"
    }
   ],
   "source": [
    "# criar um DataFrame com os valores mínimo e máximo de anúncios de TV\n",
    "X_novo = pd.DataFrame({'TV': [dados.TV.min(), dados.TV.max()]})\n",
    "X_novo.head()"
   ]
  },
  {
   "cell_type": "code",
   "execution_count": 10,
   "metadata": {},
   "outputs": [
    {
     "data": {
      "text/plain": [
       "0     7.065869\n",
       "1    21.122454\n",
       "dtype: float64"
      ]
     },
     "execution_count": 10,
     "metadata": {},
     "output_type": "execute_result"
    }
   ],
   "source": [
    "# fazer as predições e armazenar os valores em uma variável\n",
    "preds = lm.predict(X_novo)\n",
    "preds"
   ]
  },
  {
   "cell_type": "code",
   "execution_count": 11,
   "metadata": {},
   "outputs": [
    {
     "data": {
      "text/plain": [
       "[<matplotlib.lines.Line2D at 0x7faeff546940>]"
      ]
     },
     "execution_count": 11,
     "metadata": {},
     "output_type": "execute_result"
    },
    {
     "data": {
      "image/png": "[encoded data removed]",
      "text/plain": [
       "<matplotlib.figure.Figure at 0x7faf00020668>"
      ]
     },
     "metadata": {
      "needs_background": "light"
     },
     "output_type": "display_data"
    }
   ],
   "source": [
    "# Plotar os dados observados\n",
    "dados.plot(kind='scatter', x='TV', y='Sales')\n",
    "\n",
    "# Plotar uma linha entre os pontos estimados\n",
    "plt.plot(X_novo, preds, c='red', linewidth=2)"
   ]
  },
  {
   "cell_type": "markdown",
   "metadata": {},
   "source": [
    "<a id=\"32\"></a> <br>\n",
    "## 3.2 - Teste de hipóteses para os regressores\n",
    "\n",
    "Os erros padrão também podem ser utilizados para calcular testes de hipóteses para os coeficientes, o teste mais comum é verificar a hipótese:\n",
    "\n",
    "$H_0$: *Não existe relacionamento entre X e Y*\n",
    "\n",
    "contra a hipótese alternativa:\n",
    "\n",
    "$H_a$: *Existe um relacionamento entre X e Y*,\n",
    "\n",
    "onde o correspondente matemático seria:\n",
    "\n",
    "$H_0: \\beta_1=0$\n",
    "\n",
    "contra \n",
    "\n",
    "$H_a: \\beta_1 \\neq 0$\n",
    "\n",
    "Podemos obter o *valor-p* (*p-value*), primeiro calculando a estatística *t*:\n",
    "\n",
    "$$ t = \\frac{\\hat{\\beta}-0}{SE(\\hat{\\beta})} $$\n",
    "\n",
    "Comparando o valor $t$ calculado a uma distribuição $t$, com o número apropriado de graus de liberdade, pode se obter a probabilidade de se observar um valor igual ou maior que $|t|$, assumindo que $\\beta_1=0$. Essa probabilidade é conhecida como *valor-p*."
   ]
  },
  {
   "cell_type": "code",
   "execution_count": 12,
   "metadata": {},
   "outputs": [
    {
     "data": {
      "text/plain": [
       "Intercept    1.406300e-35\n",
       "TV           1.467390e-42\n",
       "dtype: float64"
      ]
     },
     "execution_count": 12,
     "metadata": {},
     "output_type": "execute_result"
    }
   ],
   "source": [
    "# Para obter os valores-p dos coeficientes, fazemos\n",
    "lm.pvalues"
   ]
  },
  {
   "cell_type": "markdown",
   "metadata": {},
   "source": [
    "<a id=\"33\"></a> <br>\n",
    "## 3.3 - Medindo o ajuste do modelo\n",
    "\n",
    "Uma das estatísticas mais utilizadas para medir o ajuste dos modelos de regressão é o $R^2$ (Coeficiente de Determinação) que mede a proporção da variância explicada pelo modelo de regressão. O valor de $R^2$ assume valores entre 0 e 1 e é independente da escala de Y. O Coeficiente de Determinação $R^2$ pode ser calculado como:\n",
    "\n",
    "$R^2= 1 - \\frac{\\sum_{i=1}^{n}(y_i-\\hat{y}_i)^2}{\\sum_{i=1}^{n}(y_i-\\bar{y}_i)^2} $"
   ]
  },
  {
   "cell_type": "code",
   "execution_count": 13,
   "metadata": {},
   "outputs": [
    {
     "data": {
      "text/plain": [
       "0.611875050850071"
      ]
     },
     "execution_count": 13,
     "metadata": {},
     "output_type": "execute_result"
    }
   ],
   "source": [
    "# Calculando o R2 manualmente\n",
    "# soma de quadrados dos resíduos (residual sum of squares)\n",
    "rss = sum((dados['Sales']-lm.predict(dados['TV']))**2)\n",
    "# soma de quadrados totais (total sum of squares)\n",
    "tss = sum((dados['Sales']-dados['Sales'].mean())**2)       \n",
    "# R2\n",
    "1-rss/tss"
   ]
  },
  {
   "cell_type": "code",
   "execution_count": 14,
   "metadata": {},
   "outputs": [
    {
     "data": {
      "text/plain": [
       "0.611875050850071"
      ]
     },
     "execution_count": 14,
     "metadata": {},
     "output_type": "execute_result"
    }
   ],
   "source": [
    "# acessando o valor pelo modelo ajustado\n",
    "lm.rsquared"
   ]
  },
  {
   "cell_type": "markdown",
   "metadata": {},
   "source": [
    "<a id=\"4\"></a> <br>\n",
    "# 4 - Ajustando um modelo de regressão linear múltipla\n",
    "\n",
    "A regressão linear simples pode ser estendida para múltiplas características, incorporando coeficientes associados a cada característica, assumindo a seguinte forma:\n",
    "\n",
    "$y = \\beta_0 + \\beta_1x_1 + ... + \\beta_nx_n$\n",
    "\n",
    "cada variável $x$ representa uma caracterśtica diferente, e cada característica tem seu coeficiente $\\beta$ associado. No presente problema, podemos extender o modelo da seguinte forma:\n",
    "\n",
    "$y = \\beta_0 + \\beta_1 \\times TV + \\beta_2 \\times Radio + \\beta_3 \\times Newspaper$\n",
    "\n",
    "Vejamos como podemos ajustar um modelo de regressão linear múltipla com a biblioteca Statsmodels."
   ]
  },
  {
   "cell_type": "code",
   "execution_count": 15,
   "metadata": {},
   "outputs": [
    {
     "data": {
      "text/plain": [
       "Intercept    2.938889\n",
       "TV           0.045765\n",
       "Radio        0.188530\n",
       "Newspaper   -0.001037\n",
       "dtype: float64"
      ]
     },
     "execution_count": 15,
     "metadata": {},
     "output_type": "execute_result"
    }
   ],
   "source": [
    "# criar um modelo com as três características\n",
    "lm = smf.ols(formula='Sales ~ TV + Radio + Newspaper', data=dados).fit()\n",
    "\n",
    "# imprimir os coeficientes\n",
    "lm.params"
   ]
  },
  {
   "cell_type": "markdown",
   "metadata": {},
   "source": [
    "De maneira similar ao modelo com uma característica podemos obter as estatísticas descritas acima para regressão múltipla:"
   ]
  },
  {
   "cell_type": "code",
   "execution_count": 16,
   "metadata": {},
   "outputs": [
    {
     "data": {
      "text/html": [
       "<table class=\"simpletable\">\n",
       "<caption>OLS Regression Results</caption>\n",
       "<tr>\n",
       "  <th>Dep. Variable:</th>          <td>Sales</td>      <th>  R-squared:         </th> <td>   0.897</td>\n",
       "</tr>\n",
       "<tr>\n",
       "  <th>Model:</th>                   <td>OLS</td>       <th>  Adj. R-squared:    </th> <td>   0.896</td>\n",
       "</tr>\n",
       "<tr>\n",
       "  <th>Method:</th>             <td>Least Squares</td>  <th>  F-statistic:       </th> <td>   570.3</td>\n",
       "</tr>\n",
       "<tr>\n",
       "  <th>Date:</th>             <td>Mon, 04 Nov 2019</td> <th>  Prob (F-statistic):</th> <td>1.58e-96</td>\n",
       "</tr>\n",
       "<tr>\n",
       "  <th>Time:</th>                 <td>13:51:44</td>     <th>  Log-Likelihood:    </th> <td> -386.18</td>\n",
       "</tr>\n",
       "<tr>\n",
       "  <th>No. Observations:</th>      <td>   200</td>      <th>  AIC:               </th> <td>   780.4</td>\n",
       "</tr>\n",
       "<tr>\n",
       "  <th>Df Residuals:</th>          <td>   196</td>      <th>  BIC:               </th> <td>   793.6</td>\n",
       "</tr>\n",
       "<tr>\n",
       "  <th>Df Model:</th>              <td>     3</td>      <th>                     </th>     <td> </td>   \n",
       "</tr>\n",
       "<tr>\n",
       "  <th>Covariance Type:</th>      <td>nonrobust</td>    <th>                     </th>     <td> </td>   \n",
       "</tr>\n",
       "</table>\n",
       "<table class=\"simpletable\">\n",
       "<tr>\n",
       "      <td></td>         <th>coef</th>     <th>std err</th>      <th>t</th>      <th>P>|t|</th>  <th>[0.025</th>    <th>0.975]</th>  \n",
       "</tr>\n",
       "<tr>\n",
       "  <th>Intercept</th> <td>    2.9389</td> <td>    0.312</td> <td>    9.422</td> <td> 0.000</td> <td>    2.324</td> <td>    3.554</td>\n",
       "</tr>\n",
       "<tr>\n",
       "  <th>TV</th>        <td>    0.0458</td> <td>    0.001</td> <td>   32.809</td> <td> 0.000</td> <td>    0.043</td> <td>    0.049</td>\n",
       "</tr>\n",
       "<tr>\n",
       "  <th>Radio</th>     <td>    0.1885</td> <td>    0.009</td> <td>   21.893</td> <td> 0.000</td> <td>    0.172</td> <td>    0.206</td>\n",
       "</tr>\n",
       "<tr>\n",
       "  <th>Newspaper</th> <td>   -0.0010</td> <td>    0.006</td> <td>   -0.177</td> <td> 0.860</td> <td>   -0.013</td> <td>    0.011</td>\n",
       "</tr>\n",
       "</table>\n",
       "<table class=\"simpletable\">\n",
       "<tr>\n",
       "  <th>Omnibus:</th>       <td>60.414</td> <th>  Durbin-Watson:     </th> <td>   2.084</td>\n",
       "</tr>\n",
       "<tr>\n",
       "  <th>Prob(Omnibus):</th> <td> 0.000</td> <th>  Jarque-Bera (JB):  </th> <td> 151.241</td>\n",
       "</tr>\n",
       "<tr>\n",
       "  <th>Skew:</th>          <td>-1.327</td> <th>  Prob(JB):          </th> <td>1.44e-33</td>\n",
       "</tr>\n",
       "<tr>\n",
       "  <th>Kurtosis:</th>      <td> 6.332</td> <th>  Cond. No.          </th> <td>    454.</td>\n",
       "</tr>\n",
       "</table><br/><br/>Warnings:<br/>[1] Standard Errors assume that the covariance matrix of the errors is correctly specified."
      ],
      "text/plain": [
       "<class 'statsmodels.iolib.summary.Summary'>\n",
       "\"\"\"\n",
       "                            OLS Regression Results                            \n",
       "==============================================================================\n",
       "Dep. Variable:                  Sales   R-squared:                       0.897\n",
       "Model:                            OLS   Adj. R-squared:                  0.896\n",
       "Method:                 Least Squares   F-statistic:                     570.3\n",
       "Date:                Mon, 04 Nov 2019   Prob (F-statistic):           1.58e-96\n",
       "Time:                        13:51:44   Log-Likelihood:                -386.18\n",
       "No. Observations:                 200   AIC:                             780.4\n",
       "Df Residuals:                     196   BIC:                             793.6\n",
       "Df Model:                           3                                         \n",
       "Covariance Type:            nonrobust                                         \n",
       "==============================================================================\n",
       "                 coef    std err          t      P>|t|      [0.025      0.975]\n",
       "------------------------------------------------------------------------------\n",
       "Intercept      2.9389      0.312      9.422      0.000       2.324       3.554\n",
       "TV             0.0458      0.001     32.809      0.000       0.043       0.049\n",
       "Radio          0.1885      0.009     21.893      0.000       0.172       0.206\n",
       "Newspaper     -0.0010      0.006     -0.177      0.860      -0.013       0.011\n",
       "==============================================================================\n",
       "Omnibus:                       60.414   Durbin-Watson:                   2.084\n",
       "Prob(Omnibus):                  0.000   Jarque-Bera (JB):              151.241\n",
       "Skew:                          -1.327   Prob(JB):                     1.44e-33\n",
       "Kurtosis:                       6.332   Cond. No.                         454.\n",
       "==============================================================================\n",
       "\n",
       "Warnings:\n",
       "[1] Standard Errors assume that the covariance matrix of the errors is correctly specified.\n",
       "\"\"\""
      ]
     },
     "execution_count": 16,
     "metadata": {},
     "output_type": "execute_result"
    }
   ],
   "source": [
    "# imprimir estatísticas de ajuste do modelo\n",
    "lm.summary()"
   ]
  },
  {
   "cell_type": "markdown",
   "metadata": {},
   "source": [
    "Alguns pontos interessantes do sumário estatístico acima. Como observado pelo gráfico das características, os valores da variável Jornal (*Newspaper*) não se mostravam correlacionadas aos valores de Vendas (*Sales*). Podemos observar que o valor-p (*p-value*) para *Newspaper* 0.86, é por convenção não significativo (valor-p > 0.05), logo falhamos em rejeitar a hipótese ($\\beta_3=0$). O valor do Coeficiente de Determinação ($R^2$) 0.897, é maior que o $R^2$ observado para regressão linear simples (0.612), sendo um indício de que a adição de características contribuiu para descrição de um modelo mais relevante."
   ]
  },
  {
   "cell_type": "markdown",
   "metadata": {},
   "source": [
    "<a id=\"5\"></a> <br>\n",
    "# 5 - Regressão Linear com a biblioteca Scikit-Learn\n",
    "\n",
    "Como discutido anteriormente, a biblioteca Scikit-Learn possui uma série de implementações eficientes para diferentes algoritmos. Utilizamos a biblioteca Statsmodels até o momento, pois a mesma possui uma interface que permite a ilustração dos conceitos básicos de regressão linear de forma mais transparente. Uma vez que o usuário for familiar com os conceitos, a utilização da biblioteca Scikit-Learn pode ser adotada com as vantagens de eficência e padronização da API.  "
   ]
  },
  {
   "cell_type": "code",
   "execution_count": 17,
   "metadata": {},
   "outputs": [],
   "source": [
    "# importar as funções para regressão, como visto anteriormente\n",
    "from sklearn.linear_model import LinearRegression"
   ]
  },
  {
   "cell_type": "code",
   "execution_count": 18,
   "metadata": {},
   "outputs": [
    {
     "data": {
      "text/plain": [
       "(200, 3)"
      ]
     },
     "execution_count": 18,
     "metadata": {},
     "output_type": "execute_result"
    }
   ],
   "source": [
    "# criar as entradas com as matrizes X e y\n",
    "nomes_caracteristicas = ['TV', 'Radio', 'Newspaper']\n",
    "X = dados[nomes_caracteristicas]\n",
    "y = dados.Sales\n",
    "X.shape"
   ]
  },
  {
   "cell_type": "code",
   "execution_count": 19,
   "metadata": {},
   "outputs": [
    {
     "data": {
      "text/plain": [
       "LinearRegression(copy_X=True, fit_intercept=True, n_jobs=None, normalize=False)"
      ]
     },
     "execution_count": 19,
     "metadata": {},
     "output_type": "execute_result"
    }
   ],
   "source": [
    "# criar um objeto com as funções para ajuste do modelo\n",
    "lm = LinearRegression()\n",
    "\n",
    "# Ajustar o modelo\n",
    "lm.fit(X, y)"
   ]
  },
  {
   "cell_type": "code",
   "execution_count": 20,
   "metadata": {},
   "outputs": [
    {
     "name": "stdout",
     "output_type": "stream",
     "text": [
      "2.9388893694594103\n",
      "[ 0.04576465  0.18853002 -0.00103749]\n"
     ]
    }
   ],
   "source": [
    "# imprimir os coeficientes, lembre-se que atributos são terminados em _\n",
    "# observe que os coeficientes são idênticos aos calculados acima\n",
    "print(lm.intercept_)\n",
    "print(lm.coef_)"
   ]
  },
  {
   "cell_type": "code",
   "execution_count": 21,
   "metadata": {},
   "outputs": [
    {
     "data": {
      "text/plain": [
       "[('TV', 0.0457646454553976),\n",
       " ('Radio', 0.18853001691820442),\n",
       " ('Newspaper', -0.0010374930424763007)]"
      ]
     },
     "execution_count": 21,
     "metadata": {},
     "output_type": "execute_result"
    }
   ],
   "source": [
    "# uma forma simplificada de associar os coeficientes às características\n",
    "list(zip(nomes_caracteristicas, lm.coef_))"
   ]
  },
  {
   "cell_type": "code",
   "execution_count": 22,
   "metadata": {},
   "outputs": [
    {
     "data": {
      "text/plain": [
       "array([12.20266701])"
      ]
     },
     "execution_count": 22,
     "metadata": {},
     "output_type": "execute_result"
    }
   ],
   "source": [
    "# lembre-se que nosso modelo possui\n",
    "# 3 características, logo, para predição, \n",
    "# necessitamos de novos valores para as 3 características\n",
    "lm.predict(pd.DataFrame([100, 25, 25]).T)"
   ]
  },
  {
   "cell_type": "code",
   "execution_count": 23,
   "metadata": {},
   "outputs": [
    {
     "data": {
      "text/plain": [
       "12.202667011892373"
      ]
     },
     "execution_count": 23,
     "metadata": {},
     "output_type": "execute_result"
    }
   ],
   "source": [
    "# Calcular manualmente\n",
    "lm.intercept_+(lm.coef_*pd.DataFrame([100, 25, 25]).T).stack().sum()"
   ]
  },
  {
   "cell_type": "code",
   "execution_count": 24,
   "metadata": {},
   "outputs": [
    {
     "data": {
      "text/plain": [
       "0.8972106381789521"
      ]
     },
     "execution_count": 24,
     "metadata": {},
     "output_type": "execute_result"
    }
   ],
   "source": [
    "# calcular o R2\n",
    "lm.score(X, y)"
   ]
  },
  {
   "cell_type": "markdown",
   "metadata": {},
   "source": [
    "<a id=\"6\"></a> <br>\n",
    "# 6 - Regressão Linear com preditores categóricos\n",
    "\n",
    "Até o momento trabalhamos com preditores númericos. Em muitos cenários podemos ter a disposição características categóricas que podem ser utilizadas para análise de regressão.\n",
    "\n",
    "Vamos criar uma nova característica chamada *Tamanho* (do anúncio), e aleatoriamente atribuir observações como *grande* ou *pequeno*."
   ]
  },
  {
   "cell_type": "code",
   "execution_count": 25,
   "metadata": {},
   "outputs": [
    {
     "data": {
      "text/html": [
       "<div>\n",
       "<style scoped>\n",
       "    .dataframe tbody tr th:only-of-type {\n",
       "        vertical-align: middle;\n",
       "    }\n",
       "\n",
       "    .dataframe tbody tr th {\n",
       "        vertical-align: top;\n",
       "    }\n",
       "\n",
       "    .dataframe thead th {\n",
       "        text-align: right;\n",
       "    }\n",
       "</style>\n",
       "<table border=\"1\" class=\"dataframe\">\n",
       "  <thead>\n",
       "    <tr style=\"text-align: right;\">\n",
       "      <th></th>\n",
       "      <th>TV</th>\n",
       "      <th>Radio</th>\n",
       "      <th>Newspaper</th>\n",
       "      <th>Sales</th>\n",
       "      <th>Tamanho</th>\n",
       "    </tr>\n",
       "  </thead>\n",
       "  <tbody>\n",
       "    <tr>\n",
       "      <th>1</th>\n",
       "      <td>230.1</td>\n",
       "      <td>37.8</td>\n",
       "      <td>69.2</td>\n",
       "      <td>22.1</td>\n",
       "      <td>grande</td>\n",
       "    </tr>\n",
       "    <tr>\n",
       "      <th>2</th>\n",
       "      <td>44.5</td>\n",
       "      <td>39.3</td>\n",
       "      <td>45.1</td>\n",
       "      <td>10.4</td>\n",
       "      <td>pequeno</td>\n",
       "    </tr>\n",
       "    <tr>\n",
       "      <th>3</th>\n",
       "      <td>17.2</td>\n",
       "      <td>45.9</td>\n",
       "      <td>69.3</td>\n",
       "      <td>9.3</td>\n",
       "      <td>pequeno</td>\n",
       "    </tr>\n",
       "    <tr>\n",
       "      <th>4</th>\n",
       "      <td>151.5</td>\n",
       "      <td>41.3</td>\n",
       "      <td>58.5</td>\n",
       "      <td>18.5</td>\n",
       "      <td>pequeno</td>\n",
       "    </tr>\n",
       "    <tr>\n",
       "      <th>5</th>\n",
       "      <td>180.8</td>\n",
       "      <td>10.8</td>\n",
       "      <td>58.4</td>\n",
       "      <td>12.9</td>\n",
       "      <td>grande</td>\n",
       "    </tr>\n",
       "  </tbody>\n",
       "</table>\n",
       "</div>"
      ],
      "text/plain": [
       "      TV  Radio  Newspaper  Sales  Tamanho\n",
       "1  230.1   37.8       69.2   22.1   grande\n",
       "2   44.5   39.3       45.1   10.4  pequeno\n",
       "3   17.2   45.9       69.3    9.3  pequeno\n",
       "4  151.5   41.3       58.5   18.5  pequeno\n",
       "5  180.8   10.8       58.4   12.9   grande"
      ]
     },
     "execution_count": 25,
     "metadata": {},
     "output_type": "execute_result"
    }
   ],
   "source": [
    "import numpy as np\n",
    "\n",
    "# fixar a semente para garantir a reprodutibilidade\n",
    "np.random.seed(12345)\n",
    "\n",
    "# criar uma Series de booleans em que metade sejam True\n",
    "nums = np.random.rand(len(dados))\n",
    "molde_grande = nums > 0.5\n",
    "\n",
    "# iniciar o DataFrame com valores 'pequeno'e substituir a metade por 'grande'\n",
    "dados['Tamanho'] = 'pequeno'\n",
    "dados.loc[molde_grande, 'Tamanho'] = 'grande'\n",
    "dados.head()"
   ]
  },
  {
   "cell_type": "markdown",
   "metadata": {},
   "source": [
    "Para a biblioteca Scikit-Learn, necessitamos que os dados sejam representados numericamente. Para duas categórias podemos criar valores binários que representem estas categórias."
   ]
  },
  {
   "cell_type": "code",
   "execution_count": 26,
   "metadata": {},
   "outputs": [
    {
     "data": {
      "text/html": [
       "<div>\n",
       "<style scoped>\n",
       "    .dataframe tbody tr th:only-of-type {\n",
       "        vertical-align: middle;\n",
       "    }\n",
       "\n",
       "    .dataframe tbody tr th {\n",
       "        vertical-align: top;\n",
       "    }\n",
       "\n",
       "    .dataframe thead th {\n",
       "        text-align: right;\n",
       "    }\n",
       "</style>\n",
       "<table border=\"1\" class=\"dataframe\">\n",
       "  <thead>\n",
       "    <tr style=\"text-align: right;\">\n",
       "      <th></th>\n",
       "      <th>TV</th>\n",
       "      <th>Radio</th>\n",
       "      <th>Newspaper</th>\n",
       "      <th>Sales</th>\n",
       "      <th>Tamanho</th>\n",
       "      <th>Egrande</th>\n",
       "    </tr>\n",
       "  </thead>\n",
       "  <tbody>\n",
       "    <tr>\n",
       "      <th>1</th>\n",
       "      <td>230.1</td>\n",
       "      <td>37.8</td>\n",
       "      <td>69.2</td>\n",
       "      <td>22.1</td>\n",
       "      <td>grande</td>\n",
       "      <td>1</td>\n",
       "    </tr>\n",
       "    <tr>\n",
       "      <th>2</th>\n",
       "      <td>44.5</td>\n",
       "      <td>39.3</td>\n",
       "      <td>45.1</td>\n",
       "      <td>10.4</td>\n",
       "      <td>pequeno</td>\n",
       "      <td>0</td>\n",
       "    </tr>\n",
       "    <tr>\n",
       "      <th>3</th>\n",
       "      <td>17.2</td>\n",
       "      <td>45.9</td>\n",
       "      <td>69.3</td>\n",
       "      <td>9.3</td>\n",
       "      <td>pequeno</td>\n",
       "      <td>0</td>\n",
       "    </tr>\n",
       "    <tr>\n",
       "      <th>4</th>\n",
       "      <td>151.5</td>\n",
       "      <td>41.3</td>\n",
       "      <td>58.5</td>\n",
       "      <td>18.5</td>\n",
       "      <td>pequeno</td>\n",
       "      <td>0</td>\n",
       "    </tr>\n",
       "    <tr>\n",
       "      <th>5</th>\n",
       "      <td>180.8</td>\n",
       "      <td>10.8</td>\n",
       "      <td>58.4</td>\n",
       "      <td>12.9</td>\n",
       "      <td>grande</td>\n",
       "      <td>1</td>\n",
       "    </tr>\n",
       "  </tbody>\n",
       "</table>\n",
       "</div>"
      ],
      "text/plain": [
       "      TV  Radio  Newspaper  Sales  Tamanho  Egrande\n",
       "1  230.1   37.8       69.2   22.1   grande        1\n",
       "2   44.5   39.3       45.1   10.4  pequeno        0\n",
       "3   17.2   45.9       69.3    9.3  pequeno        0\n",
       "4  151.5   41.3       58.5   18.5  pequeno        0\n",
       "5  180.8   10.8       58.4   12.9   grande        1"
      ]
     },
     "execution_count": 26,
     "metadata": {},
     "output_type": "execute_result"
    }
   ],
   "source": [
    "# criar uma nova Series Egrande\n",
    "dados['Egrande'] = dados.Tamanho.map({'pequeno':0, 'grande':1})\n",
    "dados.head()"
   ]
  },
  {
   "cell_type": "markdown",
   "metadata": {},
   "source": [
    "Podemos recalcular a regressão utilizando como variável adicionando a nova característica codificada por 'Egrande':"
   ]
  },
  {
   "cell_type": "code",
   "execution_count": 27,
   "metadata": {},
   "outputs": [
    {
     "data": {
      "text/plain": [
       "[('TV', 0.04571982092436276),\n",
       " ('Radio', 0.1887281431342785),\n",
       " ('Newspaper', -0.0010976794483515406),\n",
       " ('Egrande', 0.05742385085482782)]"
      ]
     },
     "execution_count": 27,
     "metadata": {},
     "output_type": "execute_result"
    }
   ],
   "source": [
    "# formatar dados de entrada X e y\n",
    "nomes_caracteristicas = ['TV', 'Radio', 'Newspaper', 'Egrande']\n",
    "X = dados[nomes_caracteristicas]\n",
    "y = dados.Sales\n",
    "\n",
    "# criar o modelo e ajustar\n",
    "lm = LinearRegression()\n",
    "lm.fit(X, y)\n",
    "\n",
    "# imprimir os coeficientes\n",
    "list(zip(nomes_caracteristicas, lm.coef_))"
   ]
  },
  {
   "cell_type": "markdown",
   "metadata": {},
   "source": [
    "Como anteriormente, a intepretação do coeficiente para a característica Egrande, segue, que para o valor investido nos anúncios de TV/Rádio/Jornal, ser da categória 'grande' é associado a um incremento de 57.42 unidades (lembre se que as unidades se contam aos milhares) na Venda. Este incremento é dado em comparação ao valor de referência 'pequeno'. Se invertessemos a codificação arbitrária de 1/0, deveríamos obter um coeficiente negativo, veja abaixo:"
   ]
  },
  {
   "cell_type": "code",
   "execution_count": 28,
   "metadata": {},
   "outputs": [
    {
     "data": {
      "text/html": [
       "<div>\n",
       "<style scoped>\n",
       "    .dataframe tbody tr th:only-of-type {\n",
       "        vertical-align: middle;\n",
       "    }\n",
       "\n",
       "    .dataframe tbody tr th {\n",
       "        vertical-align: top;\n",
       "    }\n",
       "\n",
       "    .dataframe thead th {\n",
       "        text-align: right;\n",
       "    }\n",
       "</style>\n",
       "<table border=\"1\" class=\"dataframe\">\n",
       "  <thead>\n",
       "    <tr style=\"text-align: right;\">\n",
       "      <th></th>\n",
       "      <th>TV</th>\n",
       "      <th>Radio</th>\n",
       "      <th>Newspaper</th>\n",
       "      <th>Sales</th>\n",
       "      <th>Tamanho</th>\n",
       "      <th>Egrande</th>\n",
       "    </tr>\n",
       "  </thead>\n",
       "  <tbody>\n",
       "    <tr>\n",
       "      <th>1</th>\n",
       "      <td>230.1</td>\n",
       "      <td>37.8</td>\n",
       "      <td>69.2</td>\n",
       "      <td>22.1</td>\n",
       "      <td>grande</td>\n",
       "      <td>0</td>\n",
       "    </tr>\n",
       "    <tr>\n",
       "      <th>2</th>\n",
       "      <td>44.5</td>\n",
       "      <td>39.3</td>\n",
       "      <td>45.1</td>\n",
       "      <td>10.4</td>\n",
       "      <td>pequeno</td>\n",
       "      <td>1</td>\n",
       "    </tr>\n",
       "    <tr>\n",
       "      <th>3</th>\n",
       "      <td>17.2</td>\n",
       "      <td>45.9</td>\n",
       "      <td>69.3</td>\n",
       "      <td>9.3</td>\n",
       "      <td>pequeno</td>\n",
       "      <td>1</td>\n",
       "    </tr>\n",
       "    <tr>\n",
       "      <th>4</th>\n",
       "      <td>151.5</td>\n",
       "      <td>41.3</td>\n",
       "      <td>58.5</td>\n",
       "      <td>18.5</td>\n",
       "      <td>pequeno</td>\n",
       "      <td>1</td>\n",
       "    </tr>\n",
       "    <tr>\n",
       "      <th>5</th>\n",
       "      <td>180.8</td>\n",
       "      <td>10.8</td>\n",
       "      <td>58.4</td>\n",
       "      <td>12.9</td>\n",
       "      <td>grande</td>\n",
       "      <td>0</td>\n",
       "    </tr>\n",
       "  </tbody>\n",
       "</table>\n",
       "</div>"
      ],
      "text/plain": [
       "      TV  Radio  Newspaper  Sales  Tamanho  Egrande\n",
       "1  230.1   37.8       69.2   22.1   grande        0\n",
       "2   44.5   39.3       45.1   10.4  pequeno        1\n",
       "3   17.2   45.9       69.3    9.3  pequeno        1\n",
       "4  151.5   41.3       58.5   18.5  pequeno        1\n",
       "5  180.8   10.8       58.4   12.9   grande        0"
      ]
     },
     "execution_count": 28,
     "metadata": {},
     "output_type": "execute_result"
    }
   ],
   "source": [
    "# criar uma nova Series Egrande\n",
    "dados['Egrande'] = dados.Tamanho.map({'pequeno':1, 'grande':0})\n",
    "dados.head()"
   ]
  },
  {
   "cell_type": "code",
   "execution_count": 29,
   "metadata": {},
   "outputs": [
    {
     "data": {
      "text/plain": [
       "[('TV', 0.04571982092436276),\n",
       " ('Radio', 0.18872814313427855),\n",
       " ('Newspaper', -0.0010976794483515406),\n",
       " ('Egrande', -0.05742385085482793)]"
      ]
     },
     "execution_count": 29,
     "metadata": {},
     "output_type": "execute_result"
    }
   ],
   "source": [
    "# formatar dados de entrada X e y\n",
    "nomes_caracteristicas = ['TV', 'Radio', 'Newspaper', 'Egrande']\n",
    "X = dados[nomes_caracteristicas]\n",
    "y = dados.Sales\n",
    "\n",
    "# criar o modelo e ajustar\n",
    "lm = LinearRegression()\n",
    "lm.fit(X, y)\n",
    "\n",
    "# imprimir os coeficientes\n",
    "list(zip(nomes_caracteristicas, lm.coef_))"
   ]
  },
  {
   "cell_type": "markdown",
   "metadata": {},
   "source": [
    "<a id=\"7\"></a> <br>\n",
    "# 7 - Regressão na forma matricial"
   ]
  },
  {
   "cell_type": "markdown",
   "metadata": {},
   "source": [
    "Vamos calcular abaixo a forma matricial da regressão <cite data-cite=\"236589/V399824H\"></cite>, como discutido na aula teórica\n",
    "\n",
    "$$\n",
    "\\hat{\\beta} = (\\mathbf{X}^T\\mathbf{X})^{-1}\\mathbf{X}^T\\mathbf{y}\n",
    "$$"
   ]
  },
  {
   "cell_type": "code",
   "execution_count": 30,
   "metadata": {},
   "outputs": [],
   "source": [
    "import numpy as np\n",
    "\n",
    "X = np.asarray([[3.0,3.0,4.0,0.0],[3.0,3.0,3.0,0.0],[3.0,2.0,2.0,5.0],\n",
    "[2.0,2.0,4.0,0.0],[3.0,3.0,4.0,4.0],[4.0,4.0,3.0,0.0],\n",
    "[2.0,2.0,4.0,0.0],[2.0,2.0,2.0,0.0],[3.0,4.0,2.0,5.0],\n",
    "[2.0,2.0,3.0,0.0],[2.0,4.0,2.0,0.0],[3.0,3.0,3.0,0.0],\n",
    "[2.0,2.0,4.0,5.0],[4.0,3.0,2.0,6.0],[3.0,4.0,4.0,4.0],\n",
    "[3.0,2.0,2.0,6.0],[3.0,3.0,3.0,0.0],[3.0,2.0,4.0,0.0],\n",
    "[3.0,3.0,4.0,4.0],[3.0,4.0,2.0,0.0]])\n",
    "\n",
    "Y = np.asarray([4.0,3.0,2.0,3.0,3.0,4.0,3.0,2.0,3.0,\n",
    "3.0,3.0,3.0,2.0,2.0,3.0,2.0,3.0,3.0,3.0,3.0])"
   ]
  },
  {
   "cell_type": "code",
   "execution_count": 31,
   "metadata": {},
   "outputs": [
    {
     "data": {
      "text/plain": [
       "array([[3., 3., 4., 0.],\n",
       "       [3., 3., 3., 0.],\n",
       "       [3., 2., 2., 5.],\n",
       "       [2., 2., 4., 0.],\n",
       "       [3., 3., 4., 4.],\n",
       "       [4., 4., 3., 0.],\n",
       "       [2., 2., 4., 0.],\n",
       "       [2., 2., 2., 0.],\n",
       "       [3., 4., 2., 5.],\n",
       "       [2., 2., 3., 0.],\n",
       "       [2., 4., 2., 0.],\n",
       "       [3., 3., 3., 0.],\n",
       "       [2., 2., 4., 5.],\n",
       "       [4., 3., 2., 6.],\n",
       "       [3., 4., 4., 4.],\n",
       "       [3., 2., 2., 6.],\n",
       "       [3., 3., 3., 0.],\n",
       "       [3., 2., 4., 0.],\n",
       "       [3., 3., 4., 4.],\n",
       "       [3., 4., 2., 0.]])"
      ]
     },
     "execution_count": 31,
     "metadata": {},
     "output_type": "execute_result"
    }
   ],
   "source": [
    "X"
   ]
  },
  {
   "cell_type": "code",
   "execution_count": 32,
   "metadata": {},
   "outputs": [
    {
     "data": {
      "text/plain": [
       "array([4., 3., 2., 3., 3., 4., 3., 2., 3., 3., 3., 3., 2., 2., 3., 2., 3.,\n",
       "       3., 3., 3.])"
      ]
     },
     "execution_count": 32,
     "metadata": {},
     "output_type": "execute_result"
    }
   ],
   "source": [
    "Y"
   ]
  },
  {
   "cell_type": "code",
   "execution_count": 33,
   "metadata": {},
   "outputs": [],
   "source": [
    "def regressao_matriz(X,Y):\n",
    "    N = len(Y)\n",
    "    # Lembre-se de adicionar uma coluna\n",
    "    # de 1s se o modelo inclui beta_0\n",
    "    X1 = np.hstack((np.ones((N,1)),X))\n",
    "    # A in inversa da multiplicação X'X-1:\n",
    "    XX = np.linalg.inv(np.dot(X1.transpose(),X1))\n",
    "    # A multiplicação X'y:\n",
    "    Xy = np.dot(X1.transpose(),Y)\n",
    "    betas = np.dot(XX,Xy)  \n",
    "    return betas"
   ]
  },
  {
   "cell_type": "code",
   "execution_count": 34,
   "metadata": {},
   "outputs": [
    {
     "data": {
      "text/plain": [
       "array([ 0.56423213,  0.22205474,  0.34284882,  0.30886232, -0.13083827])"
      ]
     },
     "execution_count": 34,
     "metadata": {},
     "output_type": "execute_result"
    }
   ],
   "source": [
    "betas = regressao_matriz(X,Y)\n",
    "betas"
   ]
  },
  {
   "cell_type": "code",
   "execution_count": 35,
   "metadata": {},
   "outputs": [
    {
     "data": {
      "text/plain": [
       "[0.5642321263403107,\n",
       " array([ 0.22205474,  0.34284882,  0.30886232, -0.13083827])]"
      ]
     },
     "execution_count": 35,
     "metadata": {},
     "output_type": "execute_result"
    }
   ],
   "source": [
    "from sklearn.linear_model import LinearRegression\n",
    "lm = LinearRegression()\n",
    "lm.fit(X, Y)\n",
    "[lm.intercept_, lm.coef_]"
   ]
  },
  {
   "cell_type": "markdown",
   "metadata": {},
   "source": [
    "<a id=\"8\"></a> <br>\n",
    "# 8 - Referências\n",
    "\n",
    "<div class=\"cite2c-biblio\"></div>"
   ]
  },
  {
   "cell_type": "markdown",
   "metadata": {},
   "source": [
    "###### [Voltar ao topo](#top)"
   ]
  },
  {
   "cell_type": "markdown",
   "metadata": {},
   "source": [
    "<!--NAVIGATION-->\n",
    "<  [Scikit-Learn Library](5-Scikit-Learn_Library.ipynb) | [Contents](0-Index.ipynb) | [Classification Analysis](7-Classification_Analysis.ipynb) >"
   ]
  }
 ],
 "metadata": {
  "anaconda-cloud": {},
  "cite2c": {
   "citations": {
    "236589/MJERACZD": {
     "author": [
      {
       "family": "James",
       "given": "Gareth"
      },
      {
       "family": "Witten",
       "given": "Daniela"
      },
      {
       "family": "Hastie",
       "given": "Trevor"
      },
      {
       "family": "Tibshirani",
       "given": "Robert"
      }
     ],
     "id": "236589/MJERACZD",
     "issued": {
      "year": 2013
     },
     "publisher": "Springer",
     "title": "An introduction to statistical learning",
     "type": "book",
     "volume": "112"
    },
    "236589/V399824H": {
     "author": [
      {
       "family": "Rogers",
       "given": "Simon"
      },
      {
       "family": "Girolami",
       "given": "Mark"
      }
     ],
     "id": "236589/V399824H",
     "issued": {
      "year": 2016
     },
     "publisher": "Chapman and Hall/CRC",
     "title": "A first course in machine learning",
     "type": "book"
    }
   }
  },
  "kernelspec": {
   "display_name": "Python 3 (ipykernel)",
   "language": "python",
   "name": "python3"
  },
  "language_info": {
   "codemirror_mode": {
    "name": "ipython",
    "version": 3
   },
   "file_extension": ".py",
   "mimetype": "text/x-python",
   "name": "python",
   "nbconvert_exporter": "python",
   "pygments_lexer": "ipython3",
   "version": "3.12.4"
  }
 },
 "nbformat": 4,
 "nbformat_minor": 4
}
