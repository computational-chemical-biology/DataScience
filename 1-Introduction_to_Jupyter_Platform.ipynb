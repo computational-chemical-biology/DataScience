{
 "cells": [
  {
   "cell_type": "markdown",
   "metadata": {},
   "source": [
    "<!--NAVIGATION-->\n",
    "< [Contents](0-Index.ipynb) | [Introduction to python programming language](2-Introduction_to_python_programming_language.ipynb) >"
   ]
  },
  {
   "cell_type": "markdown",
   "metadata": {
    "slideshow": {
     "slide_type": "slide"
    }
   },
   "source": [
    " <a id=\"top\"></a> <br>\n",
    "# IPython "
   ]
  },
  {
   "cell_type": "markdown",
   "metadata": {},
   "source": [
    "$\\sum_i^nx_i$"
   ]
  },
  {
   "cell_type": "markdown",
   "metadata": {},
   "source": [
    "IPython (Interactive Python) é um ambiente interativo para execução de código em python. Toda a sintaxe the python é válida em IPython, que também oferece um conjunto de opções que permitem maior eficiência e fluidez na execução do código. IPython tem seu desenvolvimento relacionado ao [projeto Jupyter](http://jupyter.org), que oferece ‘cadernos’ (*notebooks*) baseados nos navegadores *web* com ferramentas para auxiliar o desenvolvimento, compartilhamento e até publicação de resultados científicos <cite data-cite=\"236589/R4D47YI3\"></cite>. \n",
    "\n",
    "Os *notebooks* utilizados nesse curso são compostos de IPython. Esta introdução tem o objetivo de apresentar as principais funcionalidades dos *notebooks*, que serão utilizadas durante o curso."
   ]
  },
  {
   "cell_type": "markdown",
   "metadata": {},
   "source": [
    "## Criando um novo notebook"
   ]
  },
  {
   "cell_type": "markdown",
   "metadata": {},
   "source": [
    "<img src=\"./figuras/create_notebook.gif\">"
   ]
  },
  {
   "cell_type": "markdown",
   "metadata": {},
   "source": [
    "## Componentes básicos de um *notebook*"
   ]
  },
  {
   "cell_type": "markdown",
   "metadata": {},
   "source": [
    "<img src=\"./figuras/menu.png\">"
   ]
  },
  {
   "cell_type": "markdown",
   "metadata": {},
   "source": [
    "## <span style=\"color:red\">Antes de começar</span>\n",
    "\n",
    "<img src=\"figuras/make_copy.gif\">"
   ]
  },
  {
   "cell_type": "markdown",
   "metadata": {
    "slideshow": {
     "slide_type": "slide"
    }
   },
   "source": [
    "## Execução de código, obtendo ajuda"
   ]
  },
  {
   "cell_type": "markdown",
   "metadata": {},
   "source": [
    "No *notebook*, para executar uma célula, pressione `Shift-Enter`. Este comando executa a célula e coloca o cursor na próxima célula abaixo, ou cria uma nova se você estiver no fim. Alternativas são: \n",
    "\n",
    "- `Alt-Enter` para forçar a criação de uma nova célula incondicionalmente.\n",
    "- `Control-Enter` executa a célula e mantém o cursor na mesma célula.\n"
   ]
  },
  {
   "cell_type": "code",
   "execution_count": 1,
   "metadata": {},
   "outputs": [
    {
     "name": "stdout",
     "output_type": "stream",
     "text": [
      "Alô, Alô, Terezinha!\n"
     ]
    }
   ],
   "source": [
    "print(\"Alô, Alô, Terezinha!\")"
   ]
  },
  {
   "cell_type": "code",
   "execution_count": null,
   "metadata": {},
   "outputs": [],
   "source": [
    "!"
   ]
  },
  {
   "cell_type": "markdown",
   "metadata": {
    "slideshow": {
     "slide_type": "slide"
    }
   },
   "source": [
    "Obtendo ajuda:"
   ]
  },
  {
   "cell_type": "code",
   "execution_count": 2,
   "metadata": {},
   "outputs": [],
   "source": [
    "?"
   ]
  },
  {
   "cell_type": "markdown",
   "metadata": {
    "slideshow": {
     "slide_type": "slide"
    }
   },
   "source": [
    "Digitando `nome do objeto?` serão impressos detalhes sobre o objeto, incluindo *docstrings*, linhas definidoras de funções (para parâmetros da função) e detalhes para construtores de classes."
   ]
  },
  {
   "cell_type": "code",
   "execution_count": 3,
   "metadata": {},
   "outputs": [],
   "source": [
    "import collections\n",
    "collections.namedtuple?"
   ]
  },
  {
   "cell_type": "code",
   "execution_count": 4,
   "metadata": {},
   "outputs": [],
   "source": [
    "collections.Counter??"
   ]
  },
  {
   "cell_type": "code",
   "execution_count": 5,
   "metadata": {},
   "outputs": [],
   "source": [
    "*int*?"
   ]
  },
  {
   "cell_type": "markdown",
   "metadata": {
    "slideshow": {
     "slide_type": "slide"
    }
   },
   "source": [
    "Para obter referências resumidas de IPython:"
   ]
  },
  {
   "cell_type": "code",
   "execution_count": 6,
   "metadata": {},
   "outputs": [],
   "source": [
    "%quickref"
   ]
  },
  {
   "cell_type": "markdown",
   "metadata": {
    "slideshow": {
     "slide_type": "slide"
    }
   },
   "source": [
    "## Tab auto-complete"
   ]
  },
  {
   "cell_type": "markdown",
   "metadata": {},
   "source": [
    "Tab auto-complete, especialmente para atributos, é uma forma conveniente de explorar a estrutura de um objeto. Simplesmente faça `nome do objeto.<TAB>` para visualizar os atributos de um objeto. Além de atributos, Tab auto-complete também funciona para nomes de arquivos e diretórios."
   ]
  },
  {
   "cell_type": "code",
   "execution_count": null,
   "metadata": {},
   "outputs": [],
   "source": [
    "collections."
   ]
  },
  {
   "cell_type": "markdown",
   "metadata": {
    "slideshow": {
     "slide_type": "slide"
    }
   },
   "source": [
    "## Interatividade: entrada (*input*), saída (*output*), história (*history*)"
   ]
  },
  {
   "cell_type": "code",
   "execution_count": 7,
   "metadata": {},
   "outputs": [
    {
     "data": {
      "text/plain": [
       "12"
      ]
     },
     "execution_count": 7,
     "metadata": {},
     "output_type": "execute_result"
    }
   ],
   "source": [
    "2+10"
   ]
  },
  {
   "cell_type": "code",
   "execution_count": 8,
   "metadata": {},
   "outputs": [
    {
     "data": {
      "text/plain": [
       "22"
      ]
     },
     "execution_count": 8,
     "metadata": {},
     "output_type": "execute_result"
    }
   ],
   "source": [
    "# ultimo valor é atribuido à _\n",
    "_+10"
   ]
  },
  {
   "cell_type": "markdown",
   "metadata": {
    "slideshow": {
     "slide_type": "slide"
    }
   },
   "source": [
    "Você pode suprimir o armazenamento e renderização da saída adicionando ';' ao final do comando."
   ]
  },
  {
   "cell_type": "code",
   "execution_count": 9,
   "metadata": {},
   "outputs": [],
   "source": [
    "10+20;"
   ]
  },
  {
   "cell_type": "code",
   "execution_count": 10,
   "metadata": {},
   "outputs": [
    {
     "data": {
      "text/plain": [
       "22"
      ]
     },
     "execution_count": 10,
     "metadata": {},
     "output_type": "execute_result"
    }
   ],
   "source": [
    "_"
   ]
  },
  {
   "cell_type": "markdown",
   "metadata": {
    "slideshow": {
     "slide_type": "slide"
    }
   },
   "source": [
    "A saída é armazenada na variáveis `_N` e `Out[N]`:"
   ]
  },
  {
   "cell_type": "code",
   "execution_count": 11,
   "metadata": {},
   "outputs": [
    {
     "data": {
      "text/plain": [
       "True"
      ]
     },
     "execution_count": 11,
     "metadata": {},
     "output_type": "execute_result"
    }
   ],
   "source": [
    "# assumindo que 11 células foram executadas até o momento\n",
    "_10 == Out[10]"
   ]
  },
  {
   "cell_type": "markdown",
   "metadata": {},
   "source": [
    "Entradas prévias estão também disponíveis:"
   ]
  },
  {
   "cell_type": "code",
   "execution_count": 12,
   "metadata": {
    "slideshow": {
     "slide_type": "-"
    }
   },
   "outputs": [
    {
     "data": {
      "text/plain": [
       "'# assumindo que 11 células foram executadas até o momento\\n_10 == Out[10]'"
      ]
     },
     "execution_count": 12,
     "metadata": {},
     "output_type": "execute_result"
    }
   ],
   "source": [
    "In[11]"
   ]
  },
  {
   "cell_type": "code",
   "execution_count": 13,
   "metadata": {},
   "outputs": [
    {
     "data": {
      "text/plain": [
       "'In[11]'"
      ]
     },
     "execution_count": 13,
     "metadata": {},
     "output_type": "execute_result"
    }
   ],
   "source": [
    "_i"
   ]
  },
  {
   "cell_type": "code",
   "execution_count": 14,
   "metadata": {},
   "outputs": [
    {
     "name": "stdout",
     "output_type": "stream",
     "text": [
      "   1: print(\"Alô, Alô, Terezinha!\")\n",
      "   2: ?\n",
      "   3:\n",
      "import collections\n",
      "collections.namedtuple?\n",
      "   4: collections.Counter??\n",
      "   5: *int*?\n"
     ]
    }
   ],
   "source": [
    "%history -n 1-5"
   ]
  },
  {
   "cell_type": "markdown",
   "metadata": {
    "slideshow": {
     "slide_type": "subslide"
    }
   },
   "source": [
    "**Exercício**\n",
    "\n",
    "Use `%history?` para observar a documentação *magic* de `%history`, e escreva as últimas 10 linhas da história para um arquivo nomeado `log.py`."
   ]
  },
  {
   "cell_type": "code",
   "execution_count": 15,
   "metadata": {},
   "outputs": [],
   "source": [
    "%history?\n",
    "\n",
    "%history -f log.py 10-20"
   ]
  },
  {
   "cell_type": "markdown",
   "metadata": {
    "slideshow": {
     "slide_type": "slide"
    }
   },
   "source": [
    "## Acessando funções do sistema operacional"
   ]
  },
  {
   "cell_type": "markdown",
   "metadata": {},
   "source": [
    "Utilizando o ponto de exclamação (!), é possível acessar funções do terminal <cite data-cite=\"236589/2B5TW4AR\"></cite>."
   ]
  },
  {
   "cell_type": "code",
   "execution_count": 16,
   "metadata": {},
   "outputs": [
    {
     "name": "stdout",
     "output_type": "stream",
     "text": [
      "/home/rsilva/Documents/ejupyter/notebooks\r\n"
     ]
    }
   ],
   "source": [
    "!pwd"
   ]
  },
  {
   "cell_type": "code",
   "execution_count": 17,
   "metadata": {},
   "outputs": [
    {
     "name": "stdout",
     "output_type": "stream",
     "text": [
      "Arquivos no diretório notebooks:\n",
      "['0-Index.ipynb', '1-Introduction_to_Jupyter_Platform.ipynb', '2.1-Data_Structures.ipynb', '2.2-Logical_Operations.ipynb', '2.3-Control_Structures.ipynb', '2.4-Functions.ipynb', '2-Introduction_to_python_programming_language.ipynb', '3-NumPy_Library.ipynb', '4-Pandas_Library.ipynb', '5-Scikit-Learn_Library.ipynb', '6-Regression_Analysis.ipynb', '7-Classification_Analysis.ipynb', '8-Cluster_Analysis.ipynb', 'arquivo_1.csv', 'COMP562_Lect4.ipynb', 'dados', 'dendrograma.pdf', 'figuras', 'log.py', 'residuals.py', 'short-tutorial.ipynb', 'tabela.csv', 'tabela.xls']\n"
     ]
    }
   ],
   "source": [
    "files = !ls .\n",
    "print(\"Arquivos no diretório notebooks:\")\n",
    "print(files)"
   ]
  },
  {
   "cell_type": "code",
   "execution_count": 18,
   "metadata": {},
   "outputs": [
    {
     "name": "stdout",
     "output_type": "stream",
     "text": [
      "[0-Index.ipynb, 1-Introduction_to_Jupyter_Platform.ipynb, 2.1-Data_Structures.ipynb, 2.2-Logical_Operations.ipynb, 2.3-Control_Structures.ipynb, 2.4-Functions.ipynb, 2-Introduction_to_python_programming_language.ipynb, 3-NumPy_Library.ipynb, 4-Pandas_Library.ipynb, 5-Scikit-Learn_Library.ipynb, 6-Regression_Analysis.ipynb, 7-Classification_Analysis.ipynb, 8-Cluster_Analysis.ipynb, arquivo_1.csv, COMP562_Lect4.ipynb, dados, dendrograma.pdf, figuras, log.py, residuals.py, short-tutorial.ipynb, tabela.csv, tabela.xls]\r\n"
     ]
    }
   ],
   "source": [
    "!echo $files"
   ]
  },
  {
   "cell_type": "code",
   "execution_count": 19,
   "metadata": {},
   "outputs": [
    {
     "name": "stdout",
     "output_type": "stream",
     "text": [
      "0-INDEX.IPYNB\r\n"
     ]
    }
   ],
   "source": [
    "!echo {files[0].upper()}"
   ]
  },
  {
   "cell_type": "markdown",
   "metadata": {},
   "source": [
    "Note que estas funcionalidades estão disponíveis até em blocos com múltiplas linhas."
   ]
  },
  {
   "cell_type": "code",
   "execution_count": 20,
   "metadata": {},
   "outputs": [
    {
     "name": "stdout",
     "output_type": "stream",
     "text": [
      "00 - 0-Index\n",
      "01 - 1-Introduction_to_Jupyter_Platform\n",
      "02 - 2.1-Data_Structures\n",
      "03 - 2.2-Logical_Operations\n",
      "04 - 2.3-Control_Structures\n",
      "05 - 2.4-Functions\n",
      "06 - 2-Introduction_to_python_programming_language\n",
      "07 - 3-NumPy_Library\n",
      "08 - 4-Pandas_Library\n",
      "09 - 5-Scikit-Learn_Library\n",
      "10 - 6-Regression_Analysis\n",
      "11 - 7-Classification_Analysis\n",
      "12 - 8-Cluster_Analysis\n",
      "--\n",
      "14 - COMP562_Lect4\n",
      "--\n",
      "--\n",
      "--\n",
      "--\n",
      "--\n",
      "20 - short-tutorial\n",
      "--\n",
      "--\n"
     ]
    }
   ],
   "source": [
    "import os\n",
    "for i,f in enumerate(files):\n",
    "    if f.endswith('ipynb'):\n",
    "        !echo {\"%02d\" % i} - \"{os.path.splitext(f)[0]}\"\n",
    "    else:\n",
    "        print('--')"
   ]
  },
  {
   "cell_type": "markdown",
   "metadata": {},
   "source": [
    "## Funções 'mágicas' (*magic*)"
   ]
  },
  {
   "cell_type": "markdown",
   "metadata": {},
   "source": [
    "As funções mágicas de IPython são um conjunto de comandos, invocados pela adição de um ou dois caracteres `%` antes dos comandos, que existem em um ambiente (*namespace*) separado do python regular, e fornece uma interface mais semelhante a linha de comando. Os comandos recebem dois argumentos, sem aspas, parêntesis ou vírgulas <cite data-cite=\"236589/R4D47YI3\"></cite>."
   ]
  },
  {
   "cell_type": "code",
   "execution_count": 21,
   "metadata": {},
   "outputs": [],
   "source": [
    "%magic"
   ]
  },
  {
   "cell_type": "markdown",
   "metadata": {},
   "source": [
    "*Line* vs *cell magics*:"
   ]
  },
  {
   "cell_type": "code",
   "execution_count": 22,
   "metadata": {},
   "outputs": [
    {
     "name": "stdout",
     "output_type": "stream",
     "text": [
      "13.2 µs ± 81.4 ns per loop (mean ± std. dev. of 7 runs, 100000 loops each)\n"
     ]
    }
   ],
   "source": [
    "%timeit list(range(1000))"
   ]
  },
  {
   "cell_type": "code",
   "execution_count": 23,
   "metadata": {},
   "outputs": [
    {
     "name": "stdout",
     "output_type": "stream",
     "text": [
      "1.34 µs ± 24.5 ns per loop (mean ± std. dev. of 7 runs, 1000000 loops each)\n"
     ]
    }
   ],
   "source": [
    "%%timeit\n",
    "list(range(10))\n",
    "list(range(100))"
   ]
  },
  {
   "cell_type": "markdown",
   "metadata": {},
   "source": [
    "*Line magics* podem ser usadas dentro de blocos de código:"
   ]
  },
  {
   "cell_type": "code",
   "execution_count": 24,
   "metadata": {},
   "outputs": [
    {
     "name": "stdout",
     "output_type": "stream",
     "text": [
      "size: 100 777 ns ± 4.14 ns per loop (mean ± std. dev. of 7 runs, 1000000 loops each)\n",
      "size: 200 1.52 µs ± 36.9 ns per loop (mean ± std. dev. of 7 runs, 1000000 loops each)\n",
      "size: 300 2.38 µs ± 42.9 ns per loop (mean ± std. dev. of 7 runs, 100000 loops each)\n",
      "size: 400 4.13 µs ± 151 ns per loop (mean ± std. dev. of 7 runs, 100000 loops each)\n"
     ]
    }
   ],
   "source": [
    "for i in range(1, 5):\n",
    "    size = i*100\n",
    "    print('size:', size, end=' ')\n",
    "    %timeit list(range(size))"
   ]
  },
  {
   "cell_type": "markdown",
   "metadata": {},
   "source": [
    "*Magics* podem não necessitar ser código em python:"
   ]
  },
  {
   "cell_type": "code",
   "execution_count": 25,
   "metadata": {},
   "outputs": [
    {
     "name": "stdout",
     "output_type": "stream",
     "text": [
      "My shell is: /bin/bash\n",
      "My disk usage is:\n",
      "Filesystem      Size  Used Avail Use% Mounted on\n",
      "udev            3,9G     0  3,9G   0% /dev\n",
      "tmpfs           787M  2,0M  785M   1% /run\n",
      "/dev/sda2       900G  779G   76G  92% /\n",
      "tmpfs           3,9G  703M  3,2G  18% /dev/shm\n",
      "tmpfs           5,0M  4,0K  5,0M   1% /run/lock\n",
      "tmpfs           3,9G     0  3,9G   0% /sys/fs/cgroup\n",
      "/dev/loop0      3,8M  3,8M     0 100% /snap/gnome-system-monitor/100\n",
      "/dev/loop2      141M  141M     0 100% /snap/gnome-3-26-1604/97\n",
      "/dev/loop1       55M   55M     0 100% /snap/core18/1192\n",
      "/dev/loop3      4,3M  4,3M     0 100% /snap/gnome-calculator/536\n",
      "/dev/loop4       90M   90M     0 100% /snap/core/7713\n",
      "/dev/loop7      3,8M  3,8M     0 100% /snap/gnome-system-monitor/107\n",
      "/dev/loop5       45M   45M     0 100% /snap/gtk-common-themes/1353\n",
      "/dev/loop6      157M  157M     0 100% /snap/gnome-3-28-1804/91\n",
      "/dev/loop8       15M   15M     0 100% /snap/gnome-characters/317\n",
      "/dev/loop9      1,0M  1,0M     0 100% /snap/gnome-logs/81\n",
      "/dev/loop10      55M   55M     0 100% /snap/core18/1223\n",
      "/dev/loop12      15M   15M     0 100% /snap/gnome-characters/359\n",
      "/dev/loop11      90M   90M     0 100% /snap/core/7917\n",
      "/dev/loop15     141M  141M     0 100% /snap/gnome-3-26-1604/94\n",
      "/dev/loop13     150M  150M     0 100% /snap/gnome-3-28-1804/71\n",
      "/dev/loop14     4,3M  4,3M     0 100% /snap/gnome-calculator/544\n",
      "/dev/loop16      43M   43M     0 100% /snap/gtk-common-themes/1313\n",
      "/dev/loop17     1,0M  1,0M     0 100% /snap/gnome-logs/73\n",
      "/dev/sda1       511M  6,1M  505M   2% /boot/efi\n",
      "tmpfs           787M   16K  787M   1% /run/user/121\n",
      "tmpfs           787M   60K  787M   1% /run/user/1000\n"
     ]
    }
   ],
   "source": [
    "%%bash\n",
    "echo \"My shell is:\" $SHELL\n",
    "echo \"My disk usage is:\"\n",
    "df -h"
   ]
  },
  {
   "cell_type": "markdown",
   "metadata": {},
   "source": [
    "Exemplo interessante de mágica para célula: criar um arquivo de um notebook local::"
   ]
  },
  {
   "cell_type": "code",
   "execution_count": 26,
   "metadata": {},
   "outputs": [
    {
     "name": "stdout",
     "output_type": "stream",
     "text": [
      "Writing test.txt\n"
     ]
    }
   ],
   "source": [
    "%%writefile test.txt\n",
    "Este é um arquivo!\n",
    "Ele pode conter qualquer coisa...\n",
    "\n",
    "E mais..."
   ]
  },
  {
   "cell_type": "code",
   "execution_count": 27,
   "metadata": {},
   "outputs": [
    {
     "name": "stdout",
     "output_type": "stream",
     "text": [
      "Este é um arquivo!\r\n",
      "Ele pode conter qualquer coisa...\r\n",
      "\r\n",
      "E mais...\r\n"
     ]
    }
   ],
   "source": [
    "!cat test.txt"
   ]
  },
  {
   "cell_type": "code",
   "execution_count": 28,
   "metadata": {},
   "outputs": [],
   "source": [
    "# este é um comentário, texto precedido por #\n",
    "# nas células do Jupyter ou em outro código \n",
    "# Python não serão executadas, os comentários servem\n",
    "# para adicionar informações úteis sobre o código\n",
    "# como abaixo\n",
    "\n",
    "# comando para apagar o arquivo criado\n",
    "!rm test.txt"
   ]
  },
  {
   "cell_type": "markdown",
   "metadata": {},
   "source": [
    "Inspecionar mágicas disponíveis no sistema:"
   ]
  },
  {
   "cell_type": "code",
   "execution_count": 29,
   "metadata": {},
   "outputs": [
    {
     "data": {
      "application/json": {
       "cell": {
        "!": "OSMagics",
        "HTML": "Other",
        "SVG": "Other",
        "bash": "Other",
        "capture": "ExecutionMagics",
        "debug": "ExecutionMagics",
        "file": "Other",
        "html": "DisplayMagics",
        "javascript": "DisplayMagics",
        "js": "DisplayMagics",
        "latex": "DisplayMagics",
        "markdown": "DisplayMagics",
        "perl": "Other",
        "prun": "ExecutionMagics",
        "pypy": "Other",
        "python": "Other",
        "python2": "Other",
        "python3": "Other",
        "ruby": "Other",
        "script": "ScriptMagics",
        "sh": "Other",
        "svg": "DisplayMagics",
        "sx": "OSMagics",
        "system": "OSMagics",
        "time": "ExecutionMagics",
        "timeit": "ExecutionMagics",
        "writefile": "OSMagics"
       },
       "line": {
        "alias": "OSMagics",
        "alias_magic": "BasicMagics",
        "autoawait": "AsyncMagics",
        "autocall": "AutoMagics",
        "automagic": "AutoMagics",
        "autosave": "KernelMagics",
        "bookmark": "OSMagics",
        "cat": "Other",
        "cd": "OSMagics",
        "clear": "KernelMagics",
        "colors": "BasicMagics",
        "conda": "PackagingMagics",
        "config": "ConfigMagics",
        "connect_info": "KernelMagics",
        "cp": "Other",
        "debug": "ExecutionMagics",
        "dhist": "OSMagics",
        "dirs": "OSMagics",
        "doctest_mode": "BasicMagics",
        "ed": "Other",
        "edit": "KernelMagics",
        "env": "OSMagics",
        "gui": "BasicMagics",
        "hist": "Other",
        "history": "HistoryMagics",
        "killbgscripts": "ScriptMagics",
        "ldir": "Other",
        "less": "KernelMagics",
        "lf": "Other",
        "lk": "Other",
        "ll": "Other",
        "load": "CodeMagics",
        "load_ext": "ExtensionMagics",
        "loadpy": "CodeMagics",
        "logoff": "LoggingMagics",
        "logon": "LoggingMagics",
        "logstart": "LoggingMagics",
        "logstate": "LoggingMagics",
        "logstop": "LoggingMagics",
        "ls": "Other",
        "lsmagic": "BasicMagics",
        "lx": "Other",
        "macro": "ExecutionMagics",
        "magic": "BasicMagics",
        "man": "KernelMagics",
        "matplotlib": "PylabMagics",
        "mkdir": "Other",
        "more": "KernelMagics",
        "mv": "Other",
        "notebook": "BasicMagics",
        "page": "BasicMagics",
        "pastebin": "CodeMagics",
        "pdb": "ExecutionMagics",
        "pdef": "NamespaceMagics",
        "pdoc": "NamespaceMagics",
        "pfile": "NamespaceMagics",
        "pinfo": "NamespaceMagics",
        "pinfo2": "NamespaceMagics",
        "pip": "PackagingMagics",
        "popd": "OSMagics",
        "pprint": "BasicMagics",
        "precision": "BasicMagics",
        "prun": "ExecutionMagics",
        "psearch": "NamespaceMagics",
        "psource": "NamespaceMagics",
        "pushd": "OSMagics",
        "pwd": "OSMagics",
        "pycat": "OSMagics",
        "pylab": "PylabMagics",
        "qtconsole": "KernelMagics",
        "quickref": "BasicMagics",
        "recall": "HistoryMagics",
        "rehashx": "OSMagics",
        "reload_ext": "ExtensionMagics",
        "rep": "Other",
        "rerun": "HistoryMagics",
        "reset": "NamespaceMagics",
        "reset_selective": "NamespaceMagics",
        "rm": "Other",
        "rmdir": "Other",
        "run": "ExecutionMagics",
        "save": "CodeMagics",
        "sc": "OSMagics",
        "set_env": "OSMagics",
        "store": "StoreMagics",
        "sx": "OSMagics",
        "system": "OSMagics",
        "tb": "ExecutionMagics",
        "time": "ExecutionMagics",
        "timeit": "ExecutionMagics",
        "unalias": "OSMagics",
        "unload_ext": "ExtensionMagics",
        "who": "NamespaceMagics",
        "who_ls": "NamespaceMagics",
        "whos": "NamespaceMagics",
        "xdel": "NamespaceMagics",
        "xmode": "BasicMagics"
       }
      },
      "text/plain": [
       "Available line magics:\n",
       "%alias  %alias_magic  %autoawait  %autocall  %automagic  %autosave  %bookmark  %cat  %cd  %clear  %colors  %conda  %config  %connect_info  %cp  %debug  %dhist  %dirs  %doctest_mode  %ed  %edit  %env  %gui  %hist  %history  %killbgscripts  %ldir  %less  %lf  %lk  %ll  %load  %load_ext  %loadpy  %logoff  %logon  %logstart  %logstate  %logstop  %ls  %lsmagic  %lx  %macro  %magic  %man  %matplotlib  %mkdir  %more  %mv  %notebook  %page  %pastebin  %pdb  %pdef  %pdoc  %pfile  %pinfo  %pinfo2  %pip  %popd  %pprint  %precision  %prun  %psearch  %psource  %pushd  %pwd  %pycat  %pylab  %qtconsole  %quickref  %recall  %rehashx  %reload_ext  %rep  %rerun  %reset  %reset_selective  %rm  %rmdir  %run  %save  %sc  %set_env  %store  %sx  %system  %tb  %time  %timeit  %unalias  %unload_ext  %who  %who_ls  %whos  %xdel  %xmode\n",
       "\n",
       "Available cell magics:\n",
       "%%!  %%HTML  %%SVG  %%bash  %%capture  %%debug  %%file  %%html  %%javascript  %%js  %%latex  %%markdown  %%perl  %%prun  %%pypy  %%python  %%python2  %%python3  %%ruby  %%script  %%sh  %%svg  %%sx  %%system  %%time  %%timeit  %%writefile\n",
       "\n",
       "Automagic is ON, % prefix IS NOT needed for line magics."
      ]
     },
     "execution_count": 29,
     "metadata": {},
     "output_type": "execute_result"
    }
   ],
   "source": [
    "%lsmagic"
   ]
  },
  {
   "cell_type": "code",
   "execution_count": 30,
   "metadata": {},
   "outputs": [],
   "source": [
    "# Definindo uma função para ilustrar \n",
    "# a 'mágica' abaixo\n",
    "# veremos mais sobre as funções, adiante\n",
    "def to_optimize(N):\n",
    "    total = [0,0]\n",
    "    ta = 0\n",
    "    tb = 0\n",
    "    for i in range(N):\n",
    "        for j in range(N):\n",
    "            a = i**2\n",
    "            b = j*2\n",
    "            total[0] +=  a\n",
    "            total[1] +=  b\n",
    "    return total"
   ]
  },
  {
   "cell_type": "code",
   "execution_count": 31,
   "metadata": {},
   "outputs": [
    {
     "name": "stdout",
     "output_type": "stream",
     "text": [
      "378 ms ± 16.7 ms per loop (mean ± std. dev. of 7 runs, 1 loop each)\n"
     ]
    }
   ],
   "source": [
    "%timeit to_optimize(1_000)"
   ]
  },
  {
   "cell_type": "code",
   "execution_count": 32,
   "metadata": {},
   "outputs": [
    {
     "name": "stdout",
     "output_type": "stream",
     "text": [
      " "
     ]
    }
   ],
   "source": [
    "%prun to_optimize(1_000)"
   ]
  },
  {
   "cell_type": "markdown",
   "metadata": {},
   "source": [
    "# Referências\n",
    "\n",
    "<div class=\"cite2c-biblio\"></div>"
   ]
  },
  {
   "cell_type": "markdown",
   "metadata": {},
   "source": [
    "###### [Voltar ao topo](#top)"
   ]
  },
  {
   "cell_type": "markdown",
   "metadata": {},
   "source": [
    "<!--NAVIGATION-->\n",
    "< [Contents](0-Index.ipynb) | [Introduction to python programming language](2-Introduction_to_python_programming_language.ipynb) >"
   ]
  }
 ],
 "metadata": {
  "cite2c": {
   "citations": {
    "236589/2B5TW4AR": {
     "ISBN": "978-1-59327-389-7",
     "abstract": "You&#39;ve experienced the shiny, point-and-click surface of your Linux computer—now dive below and explore its depths with the power of the command line.The Linux Command Line takes you from your very first terminal keystrokes to writing full programs in Bash, the most popular Linux shell. Along the way you&#39;ll learn the timeless skills handed down by generations of gray-bearded, mouse-shunning gurus: file navigation, environment configuration, command chaining, pattern matching with regular expressions, and more.In addition to that practical knowledge, author William Shotts reveals the philosophy behind these tools and the rich heritage that your desktop Linux machine has inherited from Unix supercomputers of yore.As you make your way through the book&#39;s short, easily-digestible chapters, you&#39;ll learn how to:* Create and delete files, directories, and symlinks* Administer your system, including networking, package installation, and process management* Use standard input and output, redirection, and pipelines* Edit files with Vi, the world’s most popular text editor* Write shell scripts to automate common or boring tasks* Slice and dice text files with cut, paste, grep, patch, and sedOnce you overcome your initial &quot;shell shock,&quot; you&#39;ll find that the command line is a natural and expressive way to communicate with your computer. Just don&#39;t be surprised if your mouse starts to gather dust.A featured resource in the Linux Foundation&#39;s &quot;Evolution of a SysAdmin&quot;",
     "author": [
      {
       "family": "Jr",
       "given": "William E. Shotts"
      }
     ],
     "id": "236589/2B5TW4AR",
     "issued": {
      "year": 2012
     },
     "language": "en",
     "note": "Google-Books-ID: OCFKdl3wEDIC",
     "number-of-pages": "482",
     "publisher": "No Starch Press",
     "shortTitle": "The Linux Command Line",
     "title": "The Linux Command Line: A Complete Introduction",
     "title-short": "The Linux Command Line",
     "type": "book"
    },
    "236589/R4D47YI3": {
     "author": [
      {
       "family": "VanderPlas",
       "given": "Jake"
      }
     ],
     "id": "236589/R4D47YI3",
     "issued": {
      "year": 2016
     },
     "publisher": " O'Reilly Media, Inc.",
     "title": "Python data science handbook: essential tools for working with data",
     "type": "book"
    }
   }
  },
  "kernelspec": {
   "display_name": "Python 3",
   "language": "python",
   "name": "python3"
  },
  "language_info": {
   "codemirror_mode": {
    "name": "ipython",
    "version": 3
   },
   "file_extension": ".py",
   "mimetype": "text/x-python",
   "name": "python",
   "nbconvert_exporter": "python",
   "pygments_lexer": "ipython3",
   "version": "3.6.5"
  }
 },
 "nbformat": 4,
 "nbformat_minor": 2
}
