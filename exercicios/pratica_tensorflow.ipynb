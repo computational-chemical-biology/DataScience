{
  "cells": [
    {
      "cell_type": "code",
      "execution_count": null,
      "metadata": {
        "colab": {
          "background_save": true
        },
        "id": "lIYdn1woOS1n",
        "outputId": "9c05fb9a-3c12-439e-ba6b-af0caae67a24"
      },
      "outputs": [
        {
          "name": "stdout",
          "output_type": "stream",
          "text": [
            "TensorFlow version: 2.9.2\n"
          ]
        }
      ],
      "source": [
        "import tensorflow as tf\n",
        "print(\"TensorFlow version:\", tf.__version__)"
      ]
    },
    {
      "cell_type": "code",
      "execution_count": null,
      "metadata": {
        "colab": {
          "base_uri": "https://localhost:8080/"
        },
        "id": "AY_pr_nYK0AT",
        "outputId": "082819c6-da8f-405f-9c60-6eb0c43e1cae"
      },
      "outputs": [
        {
          "name": "stdout",
          "output_type": "stream",
          "text": [
            "Downloading data from https://storage.googleapis.com/tensorflow/tf-keras-datasets/mnist.npz\n",
            "11490434/11490434 [==============================] - 0s 0us/step\n"
          ]
        }
      ],
      "source": [
        "mnist = tf.keras.datasets.mnist\n",
        "\n",
        "(x_train, y_train), (x_test, y_test) = mnist.load_data()\n",
        "x_train, x_test = x_train / 255.0, x_test / 255.0"
      ]
    },
    {
      "cell_type": "markdown",
      "metadata": {
        "id": "7mxBNc0uQXWK"
      },
      "source": [
        "Utilizando o conjunto de dados acima, ajuste um modelo com o módulo `sklearn.RandomForestClassifier`"
      ]
    },
    {
      "cell_type": "markdown",
      "metadata": {
        "id": "E0jQ0WQoQpH8"
      },
      "source": [
        "Meça o ajuste do modelo no conjunto de teste."
      ]
    },
    {
      "cell_type": "markdown",
      "metadata": {
        "id": "C4cbqcvPQw-q"
      },
      "source": [
        "Visualize uma imagem do conjunto de dados."
      ]
    },
    {
      "cell_type": "markdown",
      "metadata": {
        "id": "XI5IxekVQ7CF"
      },
      "source": [
        "Siga o tutorial passo a passo e crie um modelo a bibliote _tensorflow_\n",
        "\n",
        "https://www.tensorflow.org/tutorials/quickstart/beginner\n",
        "\n",
        "Como o modelo se compara com o Random Forest?"
      ]
    }
  ],
  "metadata": {
    "colab": {
      "provenance": []
    },
    "kernelspec": {
      "display_name": "Python 3",
      "name": "python3"
    }
  },
  "nbformat": 4,
  "nbformat_minor": 0
}