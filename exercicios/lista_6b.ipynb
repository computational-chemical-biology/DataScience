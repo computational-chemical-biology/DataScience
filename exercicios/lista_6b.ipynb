{
  "cells": [
    {
      "cell_type": "code",
      "execution_count": 1,
      "metadata": {
        "colab": {
          "base_uri": "https://localhost:8080/"
        },
        "id": "lIYdn1woOS1n",
        "outputId": "382c64dc-b4ab-4b19-b20a-10ad9ffc91b7"
      },
      "outputs": [
        {
          "output_type": "stream",
          "name": "stdout",
          "text": [
            "--2022-10-18 13:14:29--  https://raw.githubusercontent.com/MFuchs1989/Datasets-and-Miscellaneous/main/datasets/Mall_Customers.csv\n",
            "Resolving raw.githubusercontent.com (raw.githubusercontent.com)... 185.199.111.133, 185.199.110.133, 185.199.108.133, ...\n",
            "Connecting to raw.githubusercontent.com (raw.githubusercontent.com)|185.199.111.133|:443... connected.\n",
            "HTTP request sent, awaiting response... 200 OK\n",
            "Length: 3780 (3.7K) [text/plain]\n",
            "Saving to: ‘Mall_Customers.csv’\n",
            "\n",
            "\rMall_Customers.csv    0%[                    ]       0  --.-KB/s               \rMall_Customers.csv  100%[===================>]   3.69K  --.-KB/s    in 0s      \n",
            "\n",
            "2022-10-18 13:14:29 (40.3 MB/s) - ‘Mall_Customers.csv’ saved [3780/3780]\n",
            "\n"
          ]
        }
      ],
      "source": [
        "!wget https://raw.githubusercontent.com/MFuchs1989/Datasets-and-Miscellaneous/main/datasets/Mall_Customers.csv"
      ]
    },
    {
      "cell_type": "markdown",
      "source": [
        "### Exercício - 001\n",
        "Faça o _download_ dos dados listados acima, leia os dados com a biblioteca _pandas_ e remova as colunas 'CustomerID' e 'Gender'."
      ],
      "metadata": {
        "id": "ypamoGU3Jo6w"
      }
    },
    {
      "cell_type": "markdown",
      "source": [
        "### Exercício - 002\n",
        "Utilize o método _dendrogram_ do módulo `scipy.cluster.hierarchy` para criar um dendrograma."
      ],
      "metadata": {
        "id": "9f6JcgzFKnZK"
      }
    },
    {
      "cell_type": "markdown",
      "source": [
        "### Exercício - 003\n",
        "Modifique o método aglomerativa para 'ward' no método _linkage_ e repita o dendrograma."
      ],
      "metadata": {
        "id": "eZXCwKGVLajt"
      }
    },
    {
      "cell_type": "markdown",
      "source": [
        "### Exercíco - 004\n",
        "Utilize o método _axhline_ do módulo `pyplot` para traçar uma linha horizontal no valor de distância 350 no dendrograma acima. Se você cortasse o dendrograma nessa altura, quantos grupos seriam formados?"
      ],
      "metadata": {
        "id": "33ixLoYmMbI4"
      }
    },
    {
      "cell_type": "markdown",
      "source": [
        "### Exercício - 005\n",
        "Utilize o método _AgglomerativeClustering_ do módulo `sklearn.cluster` para obter os grupos formados pelo corte no dendrograma realizado acima."
      ],
      "metadata": {
        "id": "obf2O8nGNrPO"
      }
    },
    {
      "cell_type": "markdown",
      "source": [
        "### Exercício - 006\n",
        "Faça um diagrama de disperção com as duas variáveis do conjunto de dados, e utilize os grupos atribuidos no exercício anterior para colorir os pontos em duas dimensões. Os consumidores agrupados pelo método estão separadas nas duas dimensões?"
      ],
      "metadata": {
        "id": "7wHKHvp1PAQ5"
      }
    },
    {
      "cell_type": "markdown",
      "source": [
        "### Exercício - 007\n",
        "Crie uma coluna com os grupos atribuidos acima. Utilize o método _groupby_ de pandas para agrupar os dados pela nova coluna criada. No objeto criado com o agrupamento utilize o método _agg_ para criar médias dos grupos. Existe uma diferença na média da idade dos grupos? "
      ],
      "metadata": {
        "id": "hYEg7GcUQXUX"
      }
    },
    {
      "cell_type": "markdown",
      "source": [
        "### Exercício - 008\n",
        "Utilize a planilha original, com a coluna _Gender_ para fazer uma tabela de contingência (use o método _crosstab_) com os grupos determinados com o agrupamento hierárquico. Parece assitir associação entre o gênero e os grupos encontrados?"
      ],
      "metadata": {
        "id": "09y69lu6S_t0"
      }
    },
    {
      "cell_type": "markdown",
      "source": [
        "### Exercíco - 009\n",
        "Utilize o método _clustermap_ para criar um mapa de calor do conjunto de dados com uma barra de cor correspondente aos grupos utilizando o parâmetro _row_colors_."
      ],
      "metadata": {
        "id": "j2rufm74VTCT"
      }
    }
  ],
  "metadata": {
    "colab": {
      "provenance": []
    },
    "kernelspec": {
      "display_name": "Python 3",
      "name": "python3"
    }
  },
  "nbformat": 4,
  "nbformat_minor": 0
}