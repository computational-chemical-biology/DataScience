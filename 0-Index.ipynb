{
 "cells": [
  {
   "cell_type": "markdown",
   "metadata": {},
   "source": [
    "# Introdução à ciência dos dados"
   ]
  },
  {
   "cell_type": "markdown",
   "metadata": {},
   "source": [
    "Este índice contém links rápidos para os cadernos (*notebooks*) deste curso."
   ]
  },
  {
   "cell_type": "markdown",
   "metadata": {},
   "source": [
    "## índice\n",
    "\n",
    "### [0. Introdução à plataforma Jupyter](1-Introduction_to_Jupyter_Platform.ipynb)\n",
    "\n",
    "### [1. Introdução à linguagem de programação Python](2-Introduction_to_python_programming_language.ipynb)\n",
    "\n",
    "### [2. Conceitos básicos de programação]()\n",
    "- [2.1 Estruturas de dados](2.1-Data_Structures.ipynb)\n",
    "- [2.2 Operações Lógicas](2.2-Logical_Operations.ipynb)\n",
    "- [2.3 Estruturas de controle](2.3-Control_Structures.ipynb)\n",
    "- [2.4 Funções](2.4-Functions.ipynb)\n",
    "\n",
    "### [3.  Biblioteca NumPy](3-NumPy_Library.ipynb)\n",
    "- [3.1 Introdução à biblioteca NumPy](3-NumPy_Library.ipynb#1)\n",
    "- [3.2 Tipos de dados em NumPy](3-NumPy_Library.ipynb#2)\n",
    "- [3.3 Funções universais](3-NumPy_Library.ipynb#3)\n",
    "\n",
    "### [4.  Biblioteca Pandas](4-Pandas_Library.ipynb)\n",
    "- [4.1 Introdução à biblioteca Pandas](4-Pandas_Library.ipynb#1)\n",
    "- [4.2 Objetos da biblioteca Pandas](4-Pandas_Library.ipynb#2)\n",
    "- [4.3 Manipulação de índices e seleção](4-Pandas_Library.ipynb#3)\n",
    "- [4.4 Aplicação de operações aos dados](4-Pandas_Library.ipynb#4)\n",
    "\n",
    "### [5. Biblioteca Scikit-Learn](5-Scikit-Learn_Library.ipynb)\n",
    "- [5.1 Introdução à biblioteca Scikit-Learn](5-Scikit-Learn_Library.ipynb#1)\n",
    "- [5.2 Dados em Scikit-Learn](5-Scikit-Learn_Library.ipynb#2)\n",
    "- [5.3 Conceitos da API de Scikit-Learn](5-Scikit-Learn_Library.ipynb#3)\n",
    "- [5.4 Ilustração da API - Análise de Regressão](5-Scikit-Learn_Library.ipynb#4)\n",
    "- [5.5 Ilustração da API - Análise de Classificação](5-Scikit-Learn_Library.ipynb#5)\n",
    "\n",
    "### [6.  Regressão Linear](6-Regression_Analysis.ipynb)\n",
    "- [6.1 Introdução à Regressão Linear](6-Regression_Analysis.ipynb#1)\n",
    "- [6.2 Explorando os dados antes de ajustar o modelo](6-Regression_Analysis.ipynb#2)\n",
    "- [6.3 Ajustando um modelo de regressão linear simples](6-Regression_Analysis.ipynb#3)\n",
    "- [6.4 Ajustando um modelo de regressão linear múltipla](6-Regression_Analysis.ipynb#4)\n",
    "- [6.5 Ajustando um modelo de regressão linear múltipla](6-Regression_Analysis.ipynb#5)\n",
    "\n",
    "### [7.  Análise de Classificação](7-Classification_Analysis.ipynb)\n",
    "- [7.1 Introdução à Regressão Linear](7-Classification_Analysis.ipynb#1)\n",
    "- [7.2 Regressão Logística](7-Classification_Analysis.ipynb#2)\n",
    "- [7.3 Discriminante Linear](7-Classification_Analysis.ipynb#3)\n",
    "- [7.4 Classificador dos K vizinhos mais próximos](7-Classification_Analysis.ipynb#4)\n",
    "\n",
    "### [8.  Análise de Agrupamento](8-Cluster_Analysis.ipynb)\n",
    "- [8.1 Introdução à Análise de Agrupamento](8-Cluster_Analysis.ipynb#1)\n",
    "- [8.2 Análise de Componentes Principais](8-Cluster_Analysis.ipynb#2)\n",
    "- [8.3 Análise de Agrupamento Hierárquico](8-Cluster_Analysis.ipynb#3)\n",
    "\n",
    "### [Extra - Conceitos resumidos de Python e da biblioteca Pandas](short-tutorial.ipynb)"
   ]
  }
 ],
 "metadata": {
  "anaconda-cloud": {},
  "kernelspec": {
   "display_name": "Python 3",
   "language": "python",
   "name": "python3"
  },
  "language_info": {
   "codemirror_mode": {
    "name": "ipython",
    "version": 3
   },
   "file_extension": ".py",
   "mimetype": "text/x-python",
   "name": "python",
   "nbconvert_exporter": "python",
   "pygments_lexer": "ipython3",
   "version": "3.6.5"
  }
 },
 "nbformat": 4,
 "nbformat_minor": 1
}
