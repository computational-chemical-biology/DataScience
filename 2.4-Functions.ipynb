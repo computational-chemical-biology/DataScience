{
  "cells": [
    {
      "cell_type": "markdown",
      "metadata": {
        "id": "C_qwmXBffkTm"
      },
      "source": [
        "<!--NAVIGATION-->\n",
        "< [Control Structures](2.3-Control_Structures.ipynb) | [Contents](0-Index.ipynb) | [NumPy_Library](3-NumPy_Library.ipynb) >"
      ]
    },
    {
      "cell_type": "markdown",
      "metadata": {
        "id": "WAbNj9UFfkTo"
      },
      "source": [
        "# 2 Conceitos básicos de programação\n",
        "## 2.4 Funções"
      ]
    },
    {
      "cell_type": "markdown",
      "metadata": {
        "id": "Us47kqs8fkTo"
      },
      "source": [
        "[![Open In Colab](https://colab.research.google.com/assets/colab-badge.svg)](http://colab.research.google.com/github/computational-chemical-biology/DataScience/blob/master/2.4-Functions.ipynb)"
      ]
    },
    {
      "cell_type": "markdown",
      "metadata": {
        "_uuid": "85b27cf82d3023fd69c338df2be7afb2d7afaf32",
        "id": "XC_lHhCHfkTp"
      },
      "source": [
        " <a id=\"top\"></a> <br>\n",
        "**Conteúdo do *Notebook***\n",
        "1. [Funções](#1)\n",
        "    1. [Executando funções](#11)\n",
        "    1. [Definindo uma função](#12)\n",
        "    1. [Funções *lambda*](#13)\n",
        "1. [Entrada e saída de arquivos (I/O)](#2)\n",
        "    1. [Escrever dados para um arquivo](#21)\n",
        "    1. [Ler dados de um arquivo](#22)\n",
        "1. [Bibliotecas](#3)\n",
        "    1. [Bibliotecas nativas](#31)\n",
        "    1. [Bibliotecas externas](#32)    \n",
        "1. [Programação Orientada a Objetos](#4)\n",
        "1. [Referências](#5)"
      ]
    },
    {
      "cell_type": "markdown",
      "metadata": {
        "id": "9JfmKwyhfkTp"
      },
      "source": [
        "<a id=\"1\"></a> <br>\n",
        "# 1 - Funções"
      ]
    },
    {
      "cell_type": "markdown",
      "metadata": {
        "id": "liFkYBpNfkTq"
      },
      "source": [
        "<a id=\"11\"></a> <br>\n",
        "## 1.1 - Executando funcões"
      ]
    },
    {
      "cell_type": "markdown",
      "metadata": {
        "id": "TBRqrVJufkTq"
      },
      "source": [
        "Previamente utilizamos funções nativas (*built-in*) para facilitar a programação. Função é um bloco de código com parâmetros de entrada (e opcionalmente retornando repostas) para propósitos específicos <cite data-cite=\"236589/5T4T73QM\"></cite>. Em Python uma função é executada da seguinte maneira:\n",
        "\n",
        "```python\n",
        ">> saida = função(parâmetros)\n",
        "```"
      ]
    },
    {
      "cell_type": "markdown",
      "metadata": {
        "id": "rGXz0JZOfkTq"
      },
      "source": [
        "Por exemplo:"
      ]
    },
    {
      "cell_type": "code",
      "execution_count": null,
      "metadata": {
        "ExecuteTime": {
          "end_time": "2018-10-25T17:47:37.407545Z",
          "start_time": "2018-10-25T17:47:37.389644Z"
        },
        "id": "EJ14INSdfkTq",
        "outputId": "1b82877e-1607-4822-c922-c9eddea8647f"
      },
      "outputs": [
        {
          "data": {
            "text/plain": [
              "range(0, 5)"
            ]
          },
          "execution_count": 1,
          "metadata": {},
          "output_type": "execute_result"
        }
      ],
      "source": [
        "range(5)"
      ]
    },
    {
      "cell_type": "markdown",
      "metadata": {
        "id": "yB8WUHxufkTs"
      },
      "source": [
        "Em Python 3 se retorna o tipo `iterator` para a função 'range', para visualizar a saída podemos converter em uma lista:"
      ]
    },
    {
      "cell_type": "code",
      "execution_count": null,
      "metadata": {
        "ExecuteTime": {
          "end_time": "2018-10-25T17:48:25.160955Z",
          "start_time": "2018-10-25T17:48:25.155505Z"
        },
        "id": "_MnGPZK5fkTs",
        "outputId": "a46ebfcf-d9c2-4552-e0cd-6f18af2e2d9c"
      },
      "outputs": [
        {
          "data": {
            "text/plain": [
              "[0, 1, 2, 3, 4]"
            ]
          },
          "execution_count": 2,
          "metadata": {},
          "output_type": "execute_result"
        }
      ],
      "source": [
        "list(range(5))"
      ]
    },
    {
      "cell_type": "markdown",
      "metadata": {
        "id": "5e5ntvLlfkTt"
      },
      "source": [
        "Outro exemplo:"
      ]
    },
    {
      "cell_type": "code",
      "execution_count": null,
      "metadata": {
        "ExecuteTime": {
          "end_time": "2018-10-25T17:48:45.482719Z",
          "start_time": "2018-10-25T17:48:45.476899Z"
        },
        "id": "kXML8n4SfkTt",
        "outputId": "c0fb4f8f-8f5a-4fa9-9402-e31405294e9c"
      },
      "outputs": [
        {
          "data": {
            "text/plain": [
              "3.5"
            ]
          },
          "execution_count": 3,
          "metadata": {},
          "output_type": "execute_result"
        }
      ],
      "source": [
        "abs(-3.5)"
      ]
    },
    {
      "cell_type": "markdown",
      "metadata": {
        "id": "y0sARoibfkTt"
      },
      "source": [
        "Em muitos casos uma função pode receber múltiplos parâmetros, por exemplo:"
      ]
    },
    {
      "cell_type": "code",
      "execution_count": null,
      "metadata": {
        "ExecuteTime": {
          "end_time": "2018-10-25T17:20:29.734990Z",
          "start_time": "2018-10-25T17:20:29.729907Z"
        },
        "id": "_Lwopw7DfkTt",
        "outputId": "60c62262-0651-4d09-97ab-353085ff7372"
      },
      "outputs": [
        {
          "data": {
            "text/plain": [
              "[5, 4, 3, 2, 1]"
            ]
          },
          "execution_count": 4,
          "metadata": {},
          "output_type": "execute_result"
        }
      ],
      "source": [
        "# Para saber como a função 'range'\n",
        "# funciona especificamente\n",
        "# range?\n",
        "list(range(5, 0, -1))"
      ]
    },
    {
      "cell_type": "markdown",
      "metadata": {
        "id": "eei8I1N5fkTt"
      },
      "source": [
        "Outro exemplo, ordernar um dicionário:"
      ]
    },
    {
      "cell_type": "code",
      "execution_count": null,
      "metadata": {
        "ExecuteTime": {
          "end_time": "2018-10-25T17:50:16.189583Z",
          "start_time": "2018-10-25T17:50:16.183753Z"
        },
        "id": "JkEumgK9fkTu",
        "outputId": "01eb0e9f-85ca-47a9-9f5e-e57d4eacc8c1"
      },
      "outputs": [
        {
          "data": {
            "text/plain": [
              "['a', 'b', 'c']"
            ]
          },
          "execution_count": 5,
          "metadata": {},
          "output_type": "execute_result"
        }
      ],
      "source": [
        "d = {'a': 100, 'c': 50, 'b': 70}\n",
        "sorted(d)"
      ]
    },
    {
      "cell_type": "code",
      "execution_count": null,
      "metadata": {
        "ExecuteTime": {
          "end_time": "2018-10-25T17:53:27.808548Z",
          "start_time": "2018-10-25T17:53:27.798150Z"
        },
        "id": "PjamFSgPfkTu",
        "outputId": "aae80c6c-d5d6-42e0-8846-c584eaad9764"
      },
      "outputs": [
        {
          "data": {
            "text/plain": [
              "{'a': 100, 'c': 50, 'b': 70}"
            ]
          },
          "execution_count": 6,
          "metadata": {},
          "output_type": "execute_result"
        }
      ],
      "source": [
        "d"
      ]
    },
    {
      "cell_type": "code",
      "execution_count": null,
      "metadata": {
        "ExecuteTime": {
          "end_time": "2018-10-25T17:53:33.866813Z",
          "start_time": "2018-10-25T17:53:33.861638Z"
        },
        "id": "eP2iCXuUfkTu",
        "outputId": "643d8cf7-8b9b-40ae-b772-c4ecd16b496b"
      },
      "outputs": [
        {
          "data": {
            "text/plain": [
              "100"
            ]
          },
          "execution_count": 7,
          "metadata": {},
          "output_type": "execute_result"
        }
      ],
      "source": [
        "d['a']"
      ]
    },
    {
      "cell_type": "code",
      "execution_count": null,
      "metadata": {
        "ExecuteTime": {
          "end_time": "2018-10-25T17:51:39.294194Z",
          "start_time": "2018-10-25T17:51:39.286761Z"
        },
        "id": "B5k7oQ1ufkTv",
        "outputId": "3311f806-846e-431a-febe-808429cdb931"
      },
      "outputs": [
        {
          "data": {
            "text/plain": [
              "['c', 'b', 'a']"
            ]
          },
          "execution_count": 8,
          "metadata": {},
          "output_type": "execute_result"
        }
      ],
      "source": [
        "# Veremos o significado de lambda abaixo\n",
        "sorted(d, key=lambda k: d[k])"
      ]
    },
    {
      "cell_type": "markdown",
      "metadata": {
        "id": "2_o4U19efkTv"
      },
      "source": [
        "<a id=\"12\"></a> <br>\n",
        "## 1.2 - Definindo uma função"
      ]
    },
    {
      "cell_type": "markdown",
      "metadata": {
        "id": "kxqoFnNCfkTv"
      },
      "source": [
        "Além das funções nativas (*built-in*), podemos definir funções para executar operações específicas. A estrutura básica de uma função em Python tem a seguinte estrutura\n",
        "\n",
        "```python\n",
        "def nome_da_funcao(parametro_1, parametro_2, parametro_3, ...):\n",
        "    ##########################\n",
        "    # Execute operações aqui #\n",
        "    ##########################\n",
        "    \n",
        "    return saida\n",
        "```\n",
        "\n",
        "\\* *`return output` NÃO é estritamente necessário*"
      ]
    },
    {
      "cell_type": "markdown",
      "metadata": {
        "id": "cgN-TN6nfkTv"
      },
      "source": [
        "No primeiro exemplo utilizamos uma função nativa, `sum`, para somar os números de uma lista e retornar a soma."
      ]
    },
    {
      "cell_type": "code",
      "execution_count": null,
      "metadata": {
        "ExecuteTime": {
          "end_time": "2018-10-25T18:00:12.954116Z",
          "start_time": "2018-10-25T18:00:12.950910Z"
        },
        "id": "8PjHKGjPfkTw"
      },
      "outputs": [],
      "source": [
        "def minha_soma(lista_de_numeros):\n",
        "    return sum(lista_de_numeros)"
      ]
    },
    {
      "cell_type": "code",
      "execution_count": null,
      "metadata": {
        "ExecuteTime": {
          "end_time": "2018-10-25T18:00:13.219092Z",
          "start_time": "2018-10-25T18:00:13.214135Z"
        },
        "id": "3f6cnSvWfkTw",
        "outputId": "53d58e31-6d65-4265-bed7-48bbe8a3a48d"
      },
      "outputs": [
        {
          "data": {
            "text/plain": [
              "10"
            ]
          },
          "execution_count": 10,
          "metadata": {},
          "output_type": "execute_result"
        }
      ],
      "source": [
        "minha_soma(range(5))"
      ]
    },
    {
      "cell_type": "markdown",
      "metadata": {
        "id": "vKTpDcSOfkTw"
      },
      "source": [
        "Uma função um pouco mais detalhada, sem utilizar uma função nativa:"
      ]
    },
    {
      "cell_type": "code",
      "execution_count": null,
      "metadata": {
        "ExecuteTime": {
          "end_time": "2018-10-25T18:00:55.632800Z",
          "start_time": "2018-10-25T18:00:55.628985Z"
        },
        "id": "dnzrjbLkfkTx"
      },
      "outputs": [],
      "source": [
        "def soma_em_loop(lista):\n",
        "    soma = lista[0]\n",
        "    for item in lista[1:]:\n",
        "        soma += item\n",
        "    return soma"
      ]
    },
    {
      "cell_type": "code",
      "execution_count": null,
      "metadata": {
        "ExecuteTime": {
          "end_time": "2018-10-25T18:00:55.894819Z",
          "start_time": "2018-10-25T18:00:55.887776Z"
        },
        "id": "55-n4qJmfkTx",
        "outputId": "54e488ce-0afe-48b4-8137-ba34280ca53d"
      },
      "outputs": [
        {
          "data": {
            "text/plain": [
              "10"
            ]
          },
          "execution_count": 12,
          "metadata": {},
          "output_type": "execute_result"
        }
      ],
      "source": [
        "soma_em_loop(range(5))"
      ]
    },
    {
      "cell_type": "markdown",
      "metadata": {
        "id": "X348zAFffkTx"
      },
      "source": [
        "Voltando ao problema da seção anterior, vamos ordenar as chaves de um dicionário utilizando uma função customizada ao invés da função `lambda`."
      ]
    },
    {
      "cell_type": "code",
      "execution_count": null,
      "metadata": {
        "ExecuteTime": {
          "end_time": "2018-10-25T18:01:10.928528Z",
          "start_time": "2018-10-25T18:01:10.923553Z"
        },
        "id": "wWGpuMtKfkTx",
        "outputId": "f8e239f4-8eac-49e8-ebec-dfadb7d828a1"
      },
      "outputs": [
        {
          "data": {
            "text/plain": [
              "{'a': 100, 'c': 50, 'b': 70}"
            ]
          },
          "execution_count": 13,
          "metadata": {},
          "output_type": "execute_result"
        }
      ],
      "source": [
        "d"
      ]
    },
    {
      "cell_type": "code",
      "execution_count": null,
      "metadata": {
        "ExecuteTime": {
          "end_time": "2018-10-25T18:01:11.516168Z",
          "start_time": "2018-10-25T18:01:11.512844Z"
        },
        "id": "--JqN8HefkTx"
      },
      "outputs": [],
      "source": [
        "def minha_chave(chave):\n",
        "    return d[chave]"
      ]
    },
    {
      "cell_type": "code",
      "execution_count": null,
      "metadata": {
        "ExecuteTime": {
          "end_time": "2018-10-25T18:01:30.640489Z",
          "start_time": "2018-10-25T18:01:30.634567Z"
        },
        "id": "Sm3KyTlFfkTy",
        "outputId": "a75da7fc-0650-41a0-f4bc-082aaade8101"
      },
      "outputs": [
        {
          "data": {
            "text/plain": [
              "['c', 'b', 'a']"
            ]
          },
          "execution_count": 15,
          "metadata": {},
          "output_type": "execute_result"
        }
      ],
      "source": [
        "sorted(d, key=minha_chave)"
      ]
    },
    {
      "cell_type": "markdown",
      "metadata": {
        "id": "_fb6vF71fkTy"
      },
      "source": [
        "Veja abaixo por que em algumas circuntâncias utilizar a função `lambda` é conveniente."
      ]
    },
    {
      "cell_type": "markdown",
      "metadata": {
        "id": "SlgWIbX8fkTy"
      },
      "source": [
        "<a id=\"13\"></a> <br>\n",
        "## 1.3 - Funcões *lambda*"
      ]
    },
    {
      "cell_type": "markdown",
      "metadata": {
        "id": "JnbJzGi7fkTy"
      },
      "source": [
        "Funções *lambda* são simplesmente funções, com o detalhe de serem anônimas. Resumidamente, pode se utilizar funções regulares para executar as tarefas das funções *lambda*, entretanto, estas são úteis por serem simples e eficientes."
      ]
    },
    {
      "cell_type": "markdown",
      "metadata": {
        "id": "1jIR5hbrfkTz"
      },
      "source": [
        "O exemplo abaixo é um exemplo de aplicação da função `lambda`:"
      ]
    },
    {
      "cell_type": "code",
      "execution_count": null,
      "metadata": {
        "ExecuteTime": {
          "end_time": "2018-10-25T17:20:29.761643Z",
          "start_time": "2018-10-25T17:20:29.757012Z"
        },
        "id": "3D_5eIRefkTz",
        "outputId": "32c4046e-076b-43fa-b2e7-d825b3faa51a"
      },
      "outputs": [
        {
          "data": {
            "text/plain": [
              "['c', 'b', 'a']"
            ]
          },
          "execution_count": 16,
          "metadata": {},
          "output_type": "execute_result"
        }
      ],
      "source": [
        "sorted(d, key=lambda k: d[k])"
      ]
    },
    {
      "cell_type": "markdown",
      "metadata": {
        "id": "kPwZJDUdfkTz"
      },
      "source": [
        "Existe apenas uma expressão dentro da função `lambda`. Neste caso a entrada é `k`, uma chave dentro do dicionário `d` e de saída `d[k]` (o valor do dicionário correspondente à chave `k`). Logo, as chaves do dicionário são ordenadas pelos valores."
      ]
    },
    {
      "cell_type": "markdown",
      "metadata": {
        "id": "ak4969rEfkTz"
      },
      "source": [
        "<a id=\"2\"></a> <br>\n",
        "# Entrada e saída de arquivos (I/O)"
      ]
    },
    {
      "cell_type": "markdown",
      "metadata": {
        "id": "jTkM70twfkTz"
      },
      "source": [
        "Nas próximas seções veremos bibliotecas que possuem funções sofisticadas para ler e escrever arquivos, aqui veremos funções nativas que são simples e eficientes para muitas aplicações."
      ]
    },
    {
      "cell_type": "markdown",
      "metadata": {
        "id": "4BYHZ0nxfkT0"
      },
      "source": [
        "<a id=\"21\"></a> <br>\n",
        "## 2.1 - Escrever dados para um arquivo"
      ]
    },
    {
      "cell_type": "code",
      "execution_count": null,
      "metadata": {
        "ExecuteTime": {
          "end_time": "2018-10-25T18:04:05.330388Z",
          "start_time": "2018-10-25T18:04:05.317270Z"
        },
        "id": "maHMNwIEfkT0"
      },
      "outputs": [],
      "source": [
        "f = open(\"arquivo_1.csv\", \"w\") # a função open cria um manipulador de arquivos (handler),\n",
        "                               # que é atribuído para a variável f,\n",
        "                               # enquanto \"w\" é o parâmetro que indica o modo (w para write)\n",
        "for item in range(6):\n",
        "    f.write(str(item)) # escreve o número para o arquivo\n",
        "    # adicione uma caractere que faz com que o arquivo mude de linha\n",
        "    f.write(\"\\n\")\n",
        "    # alternativamente podemos fazer:\n",
        "    # f.write(str(item)+\"\\n\") # como vimos anteriormente `+` concatena caracteres\n",
        "f.close() # fecha o manipulador de arquivos por motivos de segurança"
      ]
    },
    {
      "cell_type": "markdown",
      "metadata": {
        "id": "4f9VP0P8fkT1"
      },
      "source": [
        "inspecione o arquivo `arquivo_1.csv` criado"
      ]
    },
    {
      "cell_type": "code",
      "execution_count": null,
      "metadata": {
        "ExecuteTime": {
          "end_time": "2018-10-25T18:04:14.746566Z",
          "start_time": "2018-10-25T18:04:14.613060Z"
        },
        "id": "l5JWRZmcfkT1",
        "outputId": "06fdd9bf-a2be-4e00-c9d2-8235881e5d1b"
      },
      "outputs": [
        {
          "name": "stdout",
          "output_type": "stream",
          "text": [
            "0\r\n",
            "1\r\n",
            "2\r\n",
            "3\r\n",
            "4\r\n",
            "5\r\n"
          ]
        }
      ],
      "source": [
        "!cat arquivo_1.csv"
      ]
    },
    {
      "cell_type": "markdown",
      "metadata": {
        "id": "JVC0vWImfkT1"
      },
      "source": [
        "Note que houve uma conversão de `int` para `str`."
      ]
    },
    {
      "cell_type": "markdown",
      "metadata": {
        "id": "CkQhzJdffkT1"
      },
      "source": [
        "Uma outra opção nativa para escrever arquivos:"
      ]
    },
    {
      "cell_type": "code",
      "execution_count": null,
      "metadata": {
        "ExecuteTime": {
          "end_time": "2018-10-25T18:05:39.217600Z",
          "start_time": "2018-10-25T18:05:39.211303Z"
        },
        "id": "qx1ZcW8ffkT1"
      },
      "outputs": [],
      "source": [
        "with open(\"arquivo_2.csv\", \"w\") as f: # a função with se encarrega de abrir e fechar o manipulador de arquivos\n",
        "    for item in range(4):\n",
        "        f.write(str(item))\n",
        "        f.write(\"\\n\")"
      ]
    },
    {
      "cell_type": "code",
      "execution_count": null,
      "metadata": {
        "ExecuteTime": {
          "end_time": "2018-10-25T18:05:39.624751Z",
          "start_time": "2018-10-25T18:05:39.496854Z"
        },
        "id": "T78VzpC5fkT2",
        "outputId": "2e7a6b53-11b1-4d3e-91f3-162cb4e9d287"
      },
      "outputs": [
        {
          "name": "stdout",
          "output_type": "stream",
          "text": [
            "0\r\n",
            "1\r\n",
            "2\r\n",
            "3\r\n"
          ]
        }
      ],
      "source": [
        "!cat arquivo_2.csv"
      ]
    },
    {
      "cell_type": "markdown",
      "metadata": {
        "id": "LH8DlmvWfkT2"
      },
      "source": [
        "Quando necessário _adicionar novos elementos_ ao invés de _sobrescrever_ arquivos existentes. Neste caso podemos usar o parâmetro `a` para o modo adicionar na função `open`:"
      ]
    },
    {
      "cell_type": "code",
      "execution_count": null,
      "metadata": {
        "ExecuteTime": {
          "end_time": "2018-10-25T18:06:09.439732Z",
          "start_time": "2018-10-25T18:06:09.434341Z"
        },
        "id": "Q15QZN-mfkT2"
      },
      "outputs": [],
      "source": [
        "with open(\"arquivo_2.csv\", \"a\") as f:\n",
        "    for item in range(15, 19):\n",
        "        f.write(str(item)+\"\\n\")"
      ]
    },
    {
      "cell_type": "code",
      "execution_count": null,
      "metadata": {
        "ExecuteTime": {
          "end_time": "2018-10-25T18:06:09.845265Z",
          "start_time": "2018-10-25T18:06:09.718758Z"
        },
        "id": "qXK5BagjfkT2",
        "outputId": "a46a4e48-9389-4d6c-e377-2562b536b60a"
      },
      "outputs": [
        {
          "name": "stdout",
          "output_type": "stream",
          "text": [
            "0\r\n",
            "1\r\n",
            "2\r\n",
            "3\r\n",
            "15\r\n",
            "16\r\n",
            "17\r\n",
            "18\r\n"
          ]
        }
      ],
      "source": [
        "!cat arquivo_2.csv"
      ]
    },
    {
      "cell_type": "markdown",
      "metadata": {
        "id": "faxu5gA4fkT2"
      },
      "source": [
        "<a id=\"22\"></a> <br>\n",
        "## 2.2 - Ler dados de um arquivo"
      ]
    },
    {
      "cell_type": "markdown",
      "metadata": {
        "id": "ls8eK5-OfkT3"
      },
      "source": [
        "Para ler texto de um arquivo pode se usar o parâmetro `r`  (para _read_) como o modo."
      ]
    },
    {
      "cell_type": "code",
      "execution_count": null,
      "metadata": {
        "ExecuteTime": {
          "end_time": "2018-10-25T18:08:01.936428Z",
          "start_time": "2018-10-25T18:08:01.931565Z"
        },
        "id": "OxEjZBNafkT3",
        "outputId": "0cd74a62-5e35-4b77-d837-ed1f264f7794"
      },
      "outputs": [
        {
          "name": "stdout",
          "output_type": "stream",
          "text": [
            "['0\\n', '1\\n', '2\\n', '3\\n', '4\\n', '5\\n']\n"
          ]
        }
      ],
      "source": [
        "f = open(\"arquivo_1.csv\", \"r\") # modo leitura\n",
        "conteudo = [item for item in f] # lembra se do list comprehension? Se não, volte a seção anterior\n",
        "print(conteudo)"
      ]
    },
    {
      "cell_type": "markdown",
      "metadata": {
        "id": "uN1R7lC0fkT3"
      },
      "source": [
        "Usualmente se remove o caractere 'nova linha' (*newline*)"
      ]
    },
    {
      "cell_type": "code",
      "execution_count": null,
      "metadata": {
        "ExecuteTime": {
          "end_time": "2018-10-25T18:08:02.351111Z",
          "start_time": "2018-10-25T18:08:02.341732Z"
        },
        "id": "Pv7yKq1TfkT3",
        "outputId": "ad15949e-d100-4939-a33d-36b41bdb68a4"
      },
      "outputs": [
        {
          "name": "stdout",
          "output_type": "stream",
          "text": [
            "['0', '1', '2', '3', '4', '5']\n"
          ]
        }
      ],
      "source": [
        "conteudo = [item.strip(\"\\n\") for item in conteudo] # usando função strip um método de caracteres em Python\n",
        "print(conteudo)"
      ]
    },
    {
      "cell_type": "markdown",
      "metadata": {
        "id": "t1t-hkOlfkT3"
      },
      "source": [
        "Uma outra alternativa é a função `map` que muda o 'tipo' de variáveis em uma lista"
      ]
    },
    {
      "cell_type": "code",
      "execution_count": null,
      "metadata": {
        "ExecuteTime": {
          "end_time": "2018-10-25T18:08:45.960510Z",
          "start_time": "2018-10-25T18:08:45.956406Z"
        },
        "id": "MnExNPQAfkT4",
        "outputId": "b9b27368-8533-4a24-d8ee-2d759c62cfcf"
      },
      "outputs": [
        {
          "name": "stdout",
          "output_type": "stream",
          "text": [
            "[0, 1, 2, 3, 4, 5]\n"
          ]
        }
      ],
      "source": [
        "valores_numericos = list(map(int, conteudo)) # use map para converter caracteres em números inteiros\n",
        "print(valores_numericos)\n",
        "f.close() # temos que fechar o manipulador de arquivos depois de lermos"
      ]
    },
    {
      "cell_type": "markdown",
      "metadata": {
        "id": "fqr83LxpfkT4"
      },
      "source": [
        "Podemos também usar a função `with` para ler um arquivo:"
      ]
    },
    {
      "cell_type": "code",
      "execution_count": null,
      "metadata": {
        "ExecuteTime": {
          "end_time": "2018-10-25T18:09:06.950061Z",
          "start_time": "2018-10-25T18:09:06.943884Z"
        },
        "id": "7P7G4O86fkT4",
        "outputId": "8ab50fd4-dd93-4670-fdab-a10b7d5ee03c"
      },
      "outputs": [
        {
          "name": "stdout",
          "output_type": "stream",
          "text": [
            "Antes de converte para `int`\n",
            "['0', '1', '2', '3', '15', '16', '17', '18']\n",
            "Depois ...\n",
            "[0, 1, 2, 3, 15, 16, 17, 18]\n"
          ]
        }
      ],
      "source": [
        "with open(\"arquivo_2.csv\", \"r\") as f:\n",
        "    conteudo = [item for item in f]\n",
        "    conteudo = [item.strip(\"\\n\") for item in conteudo]\n",
        "    print('Antes de converte para `int`')\n",
        "    print(conteudo)\n",
        "    valores_inteiros = list(map(int, conteudo))\n",
        "    print('Depois ...')\n",
        "    print(valores_inteiros)"
      ]
    },
    {
      "cell_type": "code",
      "execution_count": null,
      "metadata": {
        "id": "zvZYQcAlfkT4"
      },
      "outputs": [],
      "source": [
        "# se lembra como remover os arquivos criados?"
      ]
    },
    {
      "cell_type": "markdown",
      "metadata": {
        "id": "hrIIDfQifkT5"
      },
      "source": [
        "<a id=\"3\"></a> <br>\n",
        "# 3 - Bibliotecas"
      ]
    },
    {
      "cell_type": "markdown",
      "metadata": {
        "id": "ge8UMKrZfkT5"
      },
      "source": [
        "Frequentemente necessitamos realizar tarefas complexas e podemos utilizar código desenvolvido préviamente e disponível como bibliotecas (*libraries*) externas."
      ]
    },
    {
      "cell_type": "markdown",
      "metadata": {
        "id": "t_Tp3yPofkT5"
      },
      "source": [
        "<a id=\"31\"></a> <br>\n",
        "## 3.1 - Bibliotecas nativas"
      ]
    },
    {
      "cell_type": "markdown",
      "metadata": {
        "id": "PUVniEcCfkT5"
      },
      "source": [
        "Python fornece muitas bibliotecas nativas (*built-in*) para executar algumas tarefas comuns de utilidade geral.\n",
        "\n",
        "Como exemplo a biblioteca __math__ pode ser importada com:"
      ]
    },
    {
      "cell_type": "code",
      "execution_count": null,
      "metadata": {
        "ExecuteTime": {
          "end_time": "2018-10-25T18:11:30.413987Z",
          "start_time": "2018-10-25T18:11:30.411351Z"
        },
        "id": "tOf7yR6BfkT5"
      },
      "outputs": [],
      "source": [
        "import math # use o comando import para carregar a biblioteca"
      ]
    },
    {
      "cell_type": "markdown",
      "metadata": {
        "id": "O2mr7fXvfkT6"
      },
      "source": [
        "Para usar funções disponíveis na biblioteca, faça: `nome_da_biblioteca.nome_da_funcao`. Por exemplo, quando queremos calcular o logaritmo usando uma função da biblioteca `math`, utilizamos `math.log`"
      ]
    },
    {
      "cell_type": "code",
      "execution_count": null,
      "metadata": {
        "ExecuteTime": {
          "end_time": "2018-10-25T18:12:36.793378Z",
          "start_time": "2018-10-25T18:12:36.788201Z"
        },
        "id": "jxdimb2rfkT6",
        "outputId": "1c3bd9be-32b4-444b-89f9-9175d5db0189"
      },
      "outputs": [
        {
          "name": "stdout",
          "output_type": "stream",
          "text": [
            "e^x = e^3 = 20.085537\n",
            "log(x) = log(3) = 1.098612\n"
          ]
        }
      ],
      "source": [
        "x = 3\n",
        "print(\"e^x = e^3 = %f\" % math.exp(x)) # potência de 3\n",
        "print(\"log(x) = log(3) = %f\" % math.log(x)) # logaritimo de 3"
      ]
    },
    {
      "cell_type": "markdown",
      "metadata": {
        "id": "ZKD3ufJxfkT6"
      },
      "source": [
        "Também é possível importar uma função específica"
      ]
    },
    {
      "cell_type": "code",
      "execution_count": null,
      "metadata": {
        "ExecuteTime": {
          "end_time": "2018-10-25T18:12:37.162731Z",
          "start_time": "2018-10-25T18:12:37.157103Z"
        },
        "id": "cNMOFC_CfkT6",
        "outputId": "ed60fa32-d0da-4a24-f152-5f0347e588f1"
      },
      "outputs": [
        {
          "name": "stdout",
          "output_type": "stream",
          "text": [
            "20.085536923187668\n"
          ]
        }
      ],
      "source": [
        "from math import exp # Importe a função exponencial da biblioteca math\n",
        "print(exp(x)) # Use a função sem mencionar o nome da biblioteca"
      ]
    },
    {
      "cell_type": "markdown",
      "metadata": {
        "id": "fUiP_n47fkT7"
      },
      "source": [
        "Ou importe todas as funções de uma biblioteca:"
      ]
    },
    {
      "cell_type": "code",
      "execution_count": null,
      "metadata": {
        "ExecuteTime": {
          "end_time": "2018-10-25T17:20:30.324507Z",
          "start_time": "2018-10-25T17:20:30.320936Z"
        },
        "id": "y2c9WJR0fkT7"
      },
      "outputs": [],
      "source": [
        "from math import * # Importe todas as funções"
      ]
    },
    {
      "cell_type": "code",
      "execution_count": null,
      "metadata": {
        "ExecuteTime": {
          "end_time": "2018-10-25T17:20:30.331795Z",
          "start_time": "2018-10-25T17:20:30.327483Z"
        },
        "id": "1GBZjgwOfkT7",
        "outputId": "f24b99ca-a0ae-402b-d91b-cbcc3251ec07"
      },
      "outputs": [
        {
          "name": "stdout",
          "output_type": "stream",
          "text": [
            "20.085536923187668\n",
            "1.0986122886681098\n"
          ]
        }
      ],
      "source": [
        "print(exp(x))\n",
        "print(log(x)) # Tentar executar uma função antes de importa la gera erros"
      ]
    },
    {
      "cell_type": "markdown",
      "metadata": {
        "id": "vpGcYy1MfkT7"
      },
      "source": [
        "<a id=\"32\"></a> <br>\n",
        "## 3.1 - Bibliotecas externas"
      ]
    },
    {
      "cell_type": "markdown",
      "metadata": {
        "ExecuteTime": {
          "end_time": "2017-10-21T16:45:05.266743Z",
          "start_time": "2017-10-21T16:45:05.260803Z"
        },
        "id": "8UqMEwewfkT7"
      },
      "source": [
        "Python é uma das linguagens de programação mais populares da atualidade, e como tal conta com um número muito grande de bibliotecas para executar um amplo número de tarefas. É importante pesquisar bem antes de começar a desenvolver para saber se já não existe uma biblioteca para executar a tarefa desejada.\n",
        "\n",
        "Usaremos como exemplo inicial a biblioteca __numpy__, que veremos em mais detalhe a frente (__scipy__, __matplotlib__, e __pandas__ também  serão utilizadas em próximas seções).\n",
        "\n",
        "A instalação de bibliotecas em Python é facilitada pela ferramenta linha de comando <a href=\"https://packaging.python.org/installing/\" target=\"_blank\">pip</a>. Podemos instalar um ou mais pacotes com o seguinte comando"
      ]
    },
    {
      "cell_type": "markdown",
      "metadata": {
        "id": "ynFtPqGsfkT7"
      },
      "source": [
        "```bash\n",
        "~$ pip install numpy scipy pandas\n",
        "```"
      ]
    },
    {
      "cell_type": "markdown",
      "metadata": {
        "id": "xUkIettmfkT8"
      },
      "source": [
        "Carregar bibliotecas externas é realizado da mesma forma que as nativas. Podemos ainda usar _alias_ para atribuir um nome mais curto às bibliotecas, fazendo: `import nome_longo_da_biblioteca as nome_curto`"
      ]
    },
    {
      "cell_type": "code",
      "execution_count": null,
      "metadata": {
        "ExecuteTime": {
          "end_time": "2018-10-25T18:13:42.776598Z",
          "start_time": "2018-10-25T18:13:42.770831Z"
        },
        "id": "-JkIwDAifkT8"
      },
      "outputs": [],
      "source": [
        "# Depois de instalada a biblioteca numpy pode ser importada\n",
        "import numpy as np # depois de importada usaremos np para executar as funções"
      ]
    },
    {
      "cell_type": "code",
      "execution_count": null,
      "metadata": {
        "ExecuteTime": {
          "end_time": "2018-10-25T18:15:33.255909Z",
          "start_time": "2018-10-25T18:15:33.250898Z"
        },
        "id": "w7ZNn3b0fkT8",
        "outputId": "70c383a4-4c2b-4f22-e58c-8dc55f941186"
      },
      "outputs": [
        {
          "name": "stdout",
          "output_type": "stream",
          "text": [
            "[[1. 2. 3.]\n",
            " [4. 5. 7.]]\n",
            "<class 'numpy.ndarray'>\n"
          ]
        }
      ],
      "source": [
        "x = np.array([[1,2,3], [4,5,7]], dtype=np.float) # crie um objecto numpy to tipo array (vetor ou matriz),\n",
        "                                                 # especificando o tipo de dados com float (fração)\n",
        "print(x)\n",
        "print(type(x))"
      ]
    },
    {
      "cell_type": "markdown",
      "metadata": {
        "id": "ZGBIGgFafkT8"
      },
      "source": [
        "Podemos usar o atributo `shape` presente na 'classe' `numpy.ndarray` para checar as dimensões da matriz"
      ]
    },
    {
      "cell_type": "code",
      "execution_count": null,
      "metadata": {
        "ExecuteTime": {
          "end_time": "2018-10-25T18:15:44.041903Z",
          "start_time": "2018-10-25T18:15:44.036465Z"
        },
        "id": "ibx-udDzfkT8",
        "outputId": "0d40e463-6d98-48aa-ff35-2951c8e72264"
      },
      "outputs": [
        {
          "data": {
            "text/plain": [
              "(2, 3)"
            ]
          },
          "execution_count": 35,
          "metadata": {},
          "output_type": "execute_result"
        }
      ],
      "source": [
        "x.shape"
      ]
    },
    {
      "cell_type": "markdown",
      "metadata": {
        "id": "FOWFOGo1fkT9"
      },
      "source": [
        "Diferentemente do tipo `list`, temos que ter todos os elementos em um `array` do mesmo tipo"
      ]
    },
    {
      "cell_type": "code",
      "execution_count": null,
      "metadata": {
        "ExecuteTime": {
          "end_time": "2018-10-25T18:16:19.660627Z",
          "start_time": "2018-10-25T18:16:19.655016Z"
        },
        "id": "I5T1p-aEfkT9",
        "outputId": "3c35828d-46d5-4665-e7ed-2c32ed232056"
      },
      "outputs": [
        {
          "data": {
            "text/plain": [
              "array(['1', 'yes'], dtype='<U21')"
            ]
          },
          "execution_count": 36,
          "metadata": {},
          "output_type": "execute_result"
        }
      ],
      "source": [
        "y = np.array([1, 'yes'])\n",
        "y"
      ]
    },
    {
      "cell_type": "code",
      "execution_count": null,
      "metadata": {
        "ExecuteTime": {
          "end_time": "2018-10-25T18:16:34.203322Z",
          "start_time": "2018-10-25T18:16:34.195223Z"
        },
        "id": "nj1tr1w0fkT9",
        "outputId": "bfb9fdf4-9127-4359-b83a-121114c762e3"
      },
      "outputs": [
        {
          "data": {
            "text/plain": [
              "('1', numpy.str_)"
            ]
          },
          "execution_count": 37,
          "metadata": {},
          "output_type": "execute_result"
        }
      ],
      "source": [
        "y[0], type(y[0])"
      ]
    },
    {
      "cell_type": "code",
      "execution_count": null,
      "metadata": {
        "ExecuteTime": {
          "end_time": "2018-10-25T18:16:49.525338Z",
          "start_time": "2018-10-25T18:16:49.519782Z"
        },
        "id": "eV_thEMCfkT9",
        "outputId": "99150cc9-92a7-454e-ec6b-0fadd18b2ad0"
      },
      "outputs": [
        {
          "data": {
            "text/plain": [
              "(1, int)"
            ]
          },
          "execution_count": 38,
          "metadata": {},
          "output_type": "execute_result"
        }
      ],
      "source": [
        "y_list = [1, 'yes']\n",
        "y_list[0], type(y_list[0])"
      ]
    },
    {
      "cell_type": "markdown",
      "metadata": {
        "id": "q_ISGGY8fkT-"
      },
      "source": [
        "As bibliotecas __Scipy/Numpy__ fornecem um grande número de funcionalidades para manipulação númerica."
      ]
    },
    {
      "cell_type": "code",
      "execution_count": null,
      "metadata": {
        "ExecuteTime": {
          "end_time": "2018-10-25T18:17:50.704195Z",
          "start_time": "2018-10-25T18:17:50.701194Z"
        },
        "id": "8Zhp1rZ_fkT-"
      },
      "outputs": [],
      "source": [
        "from scipy.stats import pearsonr, spearmanr # funçãoes para correlação"
      ]
    },
    {
      "cell_type": "code",
      "execution_count": null,
      "metadata": {
        "ExecuteTime": {
          "end_time": "2018-10-25T18:17:50.766246Z",
          "start_time": "2018-10-25T18:17:50.743057Z"
        },
        "id": "HRChZbCHfkT-",
        "outputId": "fac6402b-0d25-4bc6-ef54-8bc4b6901099"
      },
      "outputs": [
        {
          "name": "stdout",
          "output_type": "stream",
          "text": [
            "(0.9819805060619659, 0.1210377183236763)\n",
            "SpearmanrResult(correlation=1.0, pvalue=0.0)\n"
          ]
        }
      ],
      "source": [
        "print(pearsonr(x[1, :], x[0, :]))\n",
        "print(spearmanr(x[1, :], x[0, :]))"
      ]
    },
    {
      "cell_type": "markdown",
      "metadata": {
        "id": "r0_pz9ZBfkT-"
      },
      "source": [
        "__Pandas__ (`Python Data Analysis Library`) é uma excelente biblioteca para manipular estruturas do tipo `DataFrame` como veremos adiante"
      ]
    },
    {
      "cell_type": "code",
      "execution_count": null,
      "metadata": {
        "ExecuteTime": {
          "end_time": "2018-10-25T18:18:13.027876Z",
          "start_time": "2018-10-25T18:18:13.025121Z"
        },
        "id": "Vj19NcIjfkT-"
      },
      "outputs": [],
      "source": [
        "import pandas as pd"
      ]
    },
    {
      "cell_type": "code",
      "execution_count": null,
      "metadata": {
        "ExecuteTime": {
          "end_time": "2018-10-25T18:18:55.978258Z",
          "start_time": "2018-10-25T18:18:55.969575Z"
        },
        "id": "01NJbc-XfkT-",
        "outputId": "f3619685-b77c-4364-d183-60ee39404ef4"
      },
      "outputs": [
        {
          "data": {
            "text/plain": [
              "array([[1., 2., 3.],\n",
              "       [4., 5., 7.]])"
            ]
          },
          "execution_count": 42,
          "metadata": {},
          "output_type": "execute_result"
        }
      ],
      "source": [
        "x"
      ]
    },
    {
      "cell_type": "code",
      "execution_count": null,
      "metadata": {
        "ExecuteTime": {
          "end_time": "2018-10-25T18:19:06.351817Z",
          "start_time": "2018-10-25T18:19:06.337655Z"
        },
        "id": "QZs3SWqdfkT-",
        "outputId": "09150e0c-b747-4f8f-9fb0-3f871b332a55"
      },
      "outputs": [
        {
          "data": {
            "text/html": [
              "<div>\n",
              "<style scoped>\n",
              "    .dataframe tbody tr th:only-of-type {\n",
              "        vertical-align: middle;\n",
              "    }\n",
              "\n",
              "    .dataframe tbody tr th {\n",
              "        vertical-align: top;\n",
              "    }\n",
              "\n",
              "    .dataframe thead th {\n",
              "        text-align: right;\n",
              "    }\n",
              "</style>\n",
              "<table border=\"1\" class=\"dataframe\">\n",
              "  <thead>\n",
              "    <tr style=\"text-align: right;\">\n",
              "      <th></th>\n",
              "      <th>0</th>\n",
              "      <th>1</th>\n",
              "      <th>2</th>\n",
              "    </tr>\n",
              "  </thead>\n",
              "  <tbody>\n",
              "    <tr>\n",
              "      <th>0</th>\n",
              "      <td>1.0</td>\n",
              "      <td>2.0</td>\n",
              "      <td>3.0</td>\n",
              "    </tr>\n",
              "    <tr>\n",
              "      <th>1</th>\n",
              "      <td>4.0</td>\n",
              "      <td>5.0</td>\n",
              "      <td>7.0</td>\n",
              "    </tr>\n",
              "  </tbody>\n",
              "</table>\n",
              "</div>"
            ],
            "text/plain": [
              "     0    1    2\n",
              "0  1.0  2.0  3.0\n",
              "1  4.0  5.0  7.0"
            ]
          },
          "execution_count": 43,
          "metadata": {},
          "output_type": "execute_result"
        }
      ],
      "source": [
        "x_df = pd.DataFrame(x)\n",
        "x_df"
      ]
    },
    {
      "cell_type": "markdown",
      "metadata": {
        "id": "XL65TaPlfkUA"
      },
      "source": [
        "Como discutido anteriormente, `pandas` também implementa métodos simples e transparentes para importar e exportar dados:"
      ]
    },
    {
      "cell_type": "code",
      "execution_count": null,
      "metadata": {
        "ExecuteTime": {
          "end_time": "2018-10-25T17:20:32.720410Z",
          "start_time": "2018-10-25T17:20:32.701648Z"
        },
        "id": "oOGNSwGxfkUA"
      },
      "outputs": [],
      "source": [
        "x_df.to_csv('tmp_pd.csv', index=False) # parâmetro `index=False`: exclui uma coluna com índices para as linhas"
      ]
    },
    {
      "cell_type": "code",
      "execution_count": null,
      "metadata": {
        "ExecuteTime": {
          "end_time": "2018-10-25T17:20:32.774467Z",
          "start_time": "2018-10-25T17:20:32.755799Z"
        },
        "id": "cUN37E0lfkUA"
      },
      "outputs": [],
      "source": [
        "df = pd.read_csv('tmp_pd.csv')"
      ]
    },
    {
      "cell_type": "code",
      "execution_count": null,
      "metadata": {
        "ExecuteTime": {
          "end_time": "2018-10-25T17:20:32.816525Z",
          "start_time": "2018-10-25T17:20:32.781308Z"
        },
        "id": "Dku1wDHlfkUA",
        "outputId": "152ebf96-3fe6-4253-90a2-0165b413f428"
      },
      "outputs": [
        {
          "data": {
            "text/html": [
              "<div>\n",
              "<style scoped>\n",
              "    .dataframe tbody tr th:only-of-type {\n",
              "        vertical-align: middle;\n",
              "    }\n",
              "\n",
              "    .dataframe tbody tr th {\n",
              "        vertical-align: top;\n",
              "    }\n",
              "\n",
              "    .dataframe thead th {\n",
              "        text-align: right;\n",
              "    }\n",
              "</style>\n",
              "<table border=\"1\" class=\"dataframe\">\n",
              "  <thead>\n",
              "    <tr style=\"text-align: right;\">\n",
              "      <th></th>\n",
              "      <th>0</th>\n",
              "      <th>1</th>\n",
              "      <th>2</th>\n",
              "    </tr>\n",
              "  </thead>\n",
              "  <tbody>\n",
              "    <tr>\n",
              "      <th>0</th>\n",
              "      <td>1.0</td>\n",
              "      <td>2.0</td>\n",
              "      <td>3.0</td>\n",
              "    </tr>\n",
              "    <tr>\n",
              "      <th>1</th>\n",
              "      <td>4.0</td>\n",
              "      <td>5.0</td>\n",
              "      <td>7.0</td>\n",
              "    </tr>\n",
              "  </tbody>\n",
              "</table>\n",
              "</div>"
            ],
            "text/plain": [
              "     0    1    2\n",
              "0  1.0  2.0  3.0\n",
              "1  4.0  5.0  7.0"
            ]
          },
          "execution_count": 46,
          "metadata": {},
          "output_type": "execute_result"
        }
      ],
      "source": [
        "df"
      ]
    },
    {
      "cell_type": "markdown",
      "metadata": {
        "_uuid": "a8bcac1b08550c3f143e21cf7ca9049449304a5c",
        "id": "FpM9ELaXfkUA"
      },
      "source": [
        "<a id=\"4\"></a> <br>\n",
        "# 4 - Programação Orientada a Objetos"
      ]
    },
    {
      "cell_type": "markdown",
      "metadata": {
        "_uuid": "28be3905d37e6b7d2fb09a5f1a0e0c9df7e48559",
        "id": "ZHVYyRv9fkUA"
      },
      "source": [
        "Em programação, a orientação a objetos é uma maneira de isolar dados e métodos específicos para processar estes dados em *Objetos*.\n",
        "\n",
        "Objetos são um encapsulamento de variáveis e funções em uma única entidade. Os objetos têm suas variáveis e funções geradas por classes (`class`). Classes são essencialmente um molde para criar objetos."
      ]
    },
    {
      "cell_type": "code",
      "execution_count": null,
      "metadata": {
        "_kg_hide-input": true,
        "_uuid": "2dc3faf4892b932cb1015902e83a13bd47125b20",
        "id": "_V-btB-SfkUC"
      },
      "outputs": [],
      "source": [
        "# exemplo de uma classe\n",
        "class Pessoa:\n",
        "    departamento = 'Escola de Ciências Farmacêuticas' # uma variável da classe\n",
        "\n",
        "    def set_nome(self, novo_name): # um método ou funcão\n",
        "        self.nome = novo_name\n",
        "    def set_localizacao(self, nova_localizacao):\n",
        "        self.localizacao = nova_localizacao"
      ]
    },
    {
      "cell_type": "code",
      "execution_count": null,
      "metadata": {
        "_kg_hide-input": true,
        "_uuid": "1da9aaf6d97f50fff89e9d08b658adb3c691a262",
        "id": "UBCVMIBAfkUC",
        "outputId": "df94487c-27ad-43ef-d6b1-c81e3bcc3329"
      },
      "outputs": [
        {
          "name": "stdout",
          "output_type": "stream",
          "text": [
            "Paulo vive em Araraquara e trabalha na Escola de Ciências Farmacêuticas\n"
          ]
        }
      ],
      "source": [
        "pessoa = Pessoa() # cria um objeto da classe Pessoa\n",
        "# cria o valor para o objeto\n",
        "pessoa.set_nome('Paulo')\n",
        "pessoa.set_localizacao('Araraquara')\n",
        "# Acessando variáveis do objeto\n",
        "print('{} vive em {} e trabalha na {}'.format(pessoa.nome, pessoa.localizacao, pessoa.departamento))"
      ]
    },
    {
      "cell_type": "markdown",
      "metadata": {
        "id": "qiINZ9mHfkUC"
      },
      "source": [
        "Em Python os tipos e estruturas que vimos anteriormente números, caracteres, listas, são todos objetos. Recorde, que estes objetos tem métodos associados como por exemplo:"
      ]
    },
    {
      "cell_type": "code",
      "execution_count": null,
      "metadata": {
        "id": "cftwqa0ufkUD",
        "outputId": "7d9c007f-3159-420a-c62c-991b178c6286"
      },
      "outputs": [
        {
          "data": {
            "text/plain": [
              "'PYTHON'"
            ]
          },
          "execution_count": 49,
          "metadata": {},
          "output_type": "execute_result"
        }
      ],
      "source": [
        "x = 'Python'\n",
        "x.upper()"
      ]
    },
    {
      "cell_type": "markdown",
      "metadata": {
        "id": "yCl_ajR2fkUD"
      },
      "source": [
        "Embora orientação a objetos esteja fora do escopo deste curso, uma intuição deste conceito é importante para futuras referências."
      ]
    },
    {
      "cell_type": "markdown",
      "metadata": {
        "_uuid": "3eb9f355dc3885ea4b0f38968a4bf14d20de02fd",
        "id": "Oq0J9_i0fkUD"
      },
      "source": [
        "<a id=\"5\"></a> <br>\n",
        "# 5 - Referências\n",
        "\n",
        "```{bibliography}\n",
        "```\n",
        "\n",
        "###### [Volte ao topo](#top)"
      ]
    },
    {
      "cell_type": "markdown",
      "metadata": {
        "id": "nV2bohjzfkUD"
      },
      "source": [
        "<!--NAVIGATION-->\n",
        "< [Control Structures](2.3-Control_Structures.ipynb) | [Contents](0-Index.ipynb) | [NumPy_Library](3-NumPy_Library.ipynb) >"
      ]
    }
  ],
  "metadata": {
    "cite2c": {
      "citations": {
        "236589/5T4T73QM": {
          "author": [
            {
              "family": "Matthes",
              "given": "Eric"
            }
          ],
          "id": "236589/5T4T73QM",
          "issued": {
            "year": 2015
          },
          "publisher": "No Starch Press",
          "title": "Python crash course: a hands-on, project-based introduction to programming",
          "type": "book"
        }
      }
    },
    "kernelspec": {
      "display_name": "Python 3 (ipykernel)",
      "language": "python",
      "name": "python3"
    },
    "language_info": {
      "codemirror_mode": {
        "name": "ipython",
        "version": 3
      },
      "file_extension": ".py",
      "mimetype": "text/x-python",
      "name": "python",
      "nbconvert_exporter": "python",
      "pygments_lexer": "ipython3",
      "version": "3.12.4"
    },
    "colab": {
      "provenance": []
    }
  },
  "nbformat": 4,
  "nbformat_minor": 0
}