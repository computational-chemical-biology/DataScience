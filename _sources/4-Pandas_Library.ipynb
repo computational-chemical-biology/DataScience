{
  "cells": [
    {
      "cell_type": "markdown",
      "metadata": {
        "id": "ENUe2siHiw2u"
      },
      "source": [
        "<!--NAVIGATION-->\n",
        "< [NumPy Library](3-NumPy_Library.ipynb) | [Contents](0-Index.ipynb) | [Scikit-Learn Library](5-Scikit-Learn_Library.ipynb)  >"
      ]
    },
    {
      "cell_type": "markdown",
      "metadata": {
        "id": "HUPRhwk2iw2v"
      },
      "source": [
        "# 4  Biblioteca Pandas\n"
      ]
    },
    {
      "cell_type": "markdown",
      "metadata": {
        "id": "GITAzbqMiw2w"
      },
      "source": [
        "[![Open In Colab](https://colab.research.google.com/assets/colab-badge.svg)](http://colab.research.google.com/github/computational-chemical-biology/DataScience/blob/master/4-Pandas_Library.ipynb)"
      ]
    },
    {
      "cell_type": "markdown",
      "metadata": {
        "_uuid": "85b27cf82d3023fd69c338df2be7afb2d7afaf32",
        "id": "Dun7lzueiw2w"
      },
      "source": [
        " <a id=\"top\"></a> <br>\n",
        "**Conteúdo do *Notebook***\n",
        "1. [Introdução à biblioteca Pandas](#1)\n",
        "2. [Objetos da biblioteca Pandas](#2)\n",
        "    1. [Objetos do tipo *Series*](#21)\n",
        "    1. [Objetos do tipo *DataFrame*](#22)\n",
        "    1. [Objetos do tipo *Index*](#23)\n",
        "3. [Manipulação de índices e seleção](#3)\n",
        "4. [Aplicação de operações aos dados](#4)\n",
        "5. [Combinando *DataFrames*](#5)\n",
        "6. [Referências](#6)"
      ]
    },
    {
      "cell_type": "markdown",
      "metadata": {
        "id": "zdeGEL-liw2w"
      },
      "source": [
        "<a id=\"1\"></a> <br>\n",
        "# 1 - Introdução à biblioteca Pandas"
      ]
    },
    {
      "cell_type": "markdown",
      "metadata": {
        "id": "DC27OZsHiw2w"
      },
      "source": [
        "A biblioteca Pandas fornece métodos para manipulação eficiente de *arrays* multidimensionais com rótulos (*labels*) para linhas e colunas, e com a possibilidade de armazenar diferentes tipos de dados. Estes *arrays* multidimensionais são denominados ``DataFrames``{cite}`vanderplas2016python`.\n",
        "\n",
        "Pandas estende as funcionalidades dos objetos ``ndarrays`` da biblioteca NumPy, incorporando maior flexibilidade a manipulação de grandes conjuntos de dados."
      ]
    },
    {
      "cell_type": "markdown",
      "metadata": {
        "id": "B_J8aSd0iw2y"
      },
      "source": [
        "Assim como NumPy, a biblioteca Pandas possui uma extensa [documentação](http://pandas.pydata.org/).\n",
        "\n",
        "Como na seção anterior, recomendamos a versão 0.18.1 ou superior."
      ]
    },
    {
      "cell_type": "code",
      "execution_count": null,
      "metadata": {
        "id": "9LaHzwbHiw2y",
        "outputId": "5773e337-293a-475c-c590-6ea0e6d92e1c"
      },
      "outputs": [
        {
          "data": {
            "text/plain": [
              "'0.24.2'"
            ]
          },
          "execution_count": 1,
          "metadata": {},
          "output_type": "execute_result"
        }
      ],
      "source": [
        "# importar biblioteca e inspecionar versão\n",
        "import pandas as pd\n",
        "pd.__version__"
      ]
    },
    {
      "cell_type": "markdown",
      "metadata": {
        "id": "_sRgAqV0iw2z"
      },
      "source": [
        "<a id=\"2\"></a> <br>\n",
        "# 2 - Objetos da biblioteca Pandas"
      ]
    },
    {
      "cell_type": "markdown",
      "metadata": {
        "id": "lwYlcS3ciw2z"
      },
      "source": [
        "Pandas fornece uma ampla gama de ferramentas para manipular as estruturas básicas de armazenamento de dados de diferentes tipos. Na sequência discutiremos três estruturas de dados fornecidas pela biblioteca ``Series``, ``DataFrame``, e ``Index``."
      ]
    },
    {
      "cell_type": "markdown",
      "metadata": {
        "id": "N2HlxkGyiw2z"
      },
      "source": [
        "<a id=\"21\"></a> <br>\n",
        "## 2.1 - Objetos do tipo *Series*\n",
        "\n",
        "Um objeto ``Series`` é um *array* de uma dimensão onde os dados são indexados.\n",
        "``Series`` podem ser criadas a partir de listas:"
      ]
    },
    {
      "cell_type": "code",
      "execution_count": null,
      "metadata": {
        "id": "9PQ0WWExiw2z",
        "outputId": "2981b40e-6309-4850-ffdb-e1b441a22b57"
      },
      "outputs": [
        {
          "data": {
            "text/plain": [
              "0    0.25\n",
              "1    0.50\n",
              "2    0.75\n",
              "3    1.00\n",
              "dtype: float64"
            ]
          },
          "execution_count": 2,
          "metadata": {},
          "output_type": "execute_result"
        }
      ],
      "source": [
        "dados = pd.Series([0.25, 0.5, 0.75, 1.0])\n",
        "dados"
      ]
    },
    {
      "cell_type": "markdown",
      "metadata": {
        "id": "dUIIy4dziw20"
      },
      "source": [
        "Pela saída anterior podemos observar que as ``Series`` possuem valores (``values``) e índices (``index``). Os mesmos podem ser convenientemente acessados da seguinte forma:"
      ]
    },
    {
      "cell_type": "code",
      "execution_count": null,
      "metadata": {
        "id": "fTG-rQnxiw20",
        "outputId": "48090df6-e635-4eec-8347-c1bbce392008"
      },
      "outputs": [
        {
          "data": {
            "text/plain": [
              "array([0.25, 0.5 , 0.75, 1.  ])"
            ]
          },
          "execution_count": 3,
          "metadata": {},
          "output_type": "execute_result"
        }
      ],
      "source": [
        "dados.values"
      ]
    },
    {
      "cell_type": "code",
      "execution_count": null,
      "metadata": {
        "id": "CWGL5lVeiw20",
        "outputId": "d6268acf-71be-4267-e8b9-e78c0af52836"
      },
      "outputs": [
        {
          "data": {
            "text/plain": [
              "RangeIndex(start=0, stop=4, step=1)"
            ]
          },
          "execution_count": 4,
          "metadata": {},
          "output_type": "execute_result"
        }
      ],
      "source": [
        "dados.index"
      ]
    },
    {
      "cell_type": "markdown",
      "metadata": {
        "id": "fUVGwocEiw21"
      },
      "source": [
        "Os dados podem ser acessados utilizando os respectivos índices como visto para listas e *arrays*."
      ]
    },
    {
      "cell_type": "code",
      "execution_count": null,
      "metadata": {
        "id": "6PdNRspyiw21",
        "outputId": "18c20b8a-7bb5-4329-93e4-34d6153b3525"
      },
      "outputs": [
        {
          "data": {
            "text/plain": [
              "0.5"
            ]
          },
          "execution_count": 5,
          "metadata": {},
          "output_type": "execute_result"
        }
      ],
      "source": [
        "dados[1]"
      ]
    },
    {
      "cell_type": "code",
      "execution_count": null,
      "metadata": {
        "id": "DX9Zcv5_iw21",
        "outputId": "cb461437-8a1f-4468-9088-132c06c9c45f"
      },
      "outputs": [
        {
          "data": {
            "text/plain": [
              "1    0.50\n",
              "2    0.75\n",
              "dtype: float64"
            ]
          },
          "execution_count": 6,
          "metadata": {},
          "output_type": "execute_result"
        }
      ],
      "source": [
        "dados[1:3]"
      ]
    },
    {
      "cell_type": "markdown",
      "metadata": {
        "id": "pPkVvULRiw22"
      },
      "source": [
        "A definição explícita de índices ``Series``, diferentemente dos índices implícitos nos *arrays*, lhes confere capacidades adicionais. Por exemplo, os índices não necessitam ser numéricos:"
      ]
    },
    {
      "cell_type": "code",
      "execution_count": null,
      "metadata": {
        "id": "XK4et07diw22",
        "outputId": "d78da775-9c3d-48e9-f4b0-11396f8225d9"
      },
      "outputs": [
        {
          "data": {
            "text/plain": [
              "a    0.25\n",
              "b    0.50\n",
              "c    0.75\n",
              "d    1.00\n",
              "dtype: float64"
            ]
          },
          "execution_count": 7,
          "metadata": {},
          "output_type": "execute_result"
        }
      ],
      "source": [
        "dados = pd.Series([0.25, 0.5, 0.75, 1.0],\n",
        "                 index=['a', 'b', 'c', 'd'])\n",
        "dados"
      ]
    },
    {
      "cell_type": "code",
      "execution_count": null,
      "metadata": {
        "id": "Ktrw1P2miw22",
        "outputId": "a1e81cf1-314d-45be-ab8e-67e3c7ff690b"
      },
      "outputs": [
        {
          "data": {
            "text/plain": [
              "0.5"
            ]
          },
          "execution_count": 8,
          "metadata": {},
          "output_type": "execute_result"
        }
      ],
      "source": [
        "dados['b']"
      ]
    },
    {
      "cell_type": "markdown",
      "metadata": {
        "id": "bhrT9MHYiw22"
      },
      "source": [
        "Os índices também podem ter sequências arbitrárias"
      ]
    },
    {
      "cell_type": "code",
      "execution_count": null,
      "metadata": {
        "id": "VW7rzeitiw22",
        "outputId": "5206a9fe-69fd-4c2a-f2c5-e3d2b85dce60"
      },
      "outputs": [
        {
          "data": {
            "text/plain": [
              "2    0.25\n",
              "5    0.50\n",
              "3    0.75\n",
              "7    1.00\n",
              "dtype: float64"
            ]
          },
          "execution_count": 9,
          "metadata": {},
          "output_type": "execute_result"
        }
      ],
      "source": [
        "dados = pd.Series([0.25, 0.5, 0.75, 1.0],\n",
        "                 index=[2, 5, 3, 7])\n",
        "dados"
      ]
    },
    {
      "cell_type": "code",
      "execution_count": null,
      "metadata": {
        "id": "BEoXIabiiw23",
        "outputId": "8c302d86-e743-4f24-d848-a669bba6257c"
      },
      "outputs": [
        {
          "data": {
            "text/plain": [
              "0.5"
            ]
          },
          "execution_count": 10,
          "metadata": {},
          "output_type": "execute_result"
        }
      ],
      "source": [
        "dados[5]"
      ]
    },
    {
      "cell_type": "markdown",
      "metadata": {
        "id": "kn4jFq97iw23"
      },
      "source": [
        "Um objeto do tipo ``Series`` é análogo a um dicionário. No entanto as ``Series`` são mais eficientes para operações que requerem chaves ou índices, associadas a valores.\n",
        "\n",
        "Vejamos o exemplo da contrução de uma ``Series`` a partir de um dicionário:"
      ]
    },
    {
      "cell_type": "code",
      "execution_count": null,
      "metadata": {
        "id": "OxX70MX3iw23",
        "outputId": "35494773-8706-4523-8688-3b0058297c3e"
      },
      "outputs": [
        {
          "data": {
            "text/plain": [
              "Sao Paulo         45919049\n",
              "Minas Gerais      21168791\n",
              "Rio de Janeiro    17264943\n",
              "Bahia             14873064\n",
              "Parana            11433957\n",
              "dtype: int64"
            ]
          },
          "execution_count": 11,
          "metadata": {},
          "output_type": "execute_result"
        }
      ],
      "source": [
        "# Note que por padrão as chaves do dicionário se tornam índices\n",
        "dic_populacao = {'Sao Paulo': 45919049,\n",
        "                 'Minas Gerais': 21168791,\n",
        "                 'Rio de Janeiro': 17264943,\n",
        "                 'Bahia': 14873064,\n",
        "                  'Parana': 11433957}\n",
        "populacao = pd.Series(dic_populacao)\n",
        "populacao"
      ]
    },
    {
      "cell_type": "code",
      "execution_count": null,
      "metadata": {
        "id": "arBRXztWiw23",
        "outputId": "f32509cc-14c3-4029-d9b6-978e0086d5ad"
      },
      "outputs": [
        {
          "data": {
            "text/plain": [
              "45919049"
            ]
          },
          "execution_count": 12,
          "metadata": {},
          "output_type": "execute_result"
        }
      ],
      "source": [
        "populacao['Sao Paulo']"
      ]
    },
    {
      "cell_type": "markdown",
      "metadata": {
        "id": "OilIM3iAiw23"
      },
      "source": [
        "Diferentemente de um dicionário uma ``Series`` suporta operações análogas as de *arrays*:"
      ]
    },
    {
      "cell_type": "code",
      "execution_count": null,
      "metadata": {
        "id": "wf6KmMkZiw24",
        "outputId": "8eafaefe-cbb9-4dde-9cde-f22808b23cad"
      },
      "outputs": [
        {
          "data": {
            "text/plain": [
              "Sao Paulo         45919049\n",
              "Minas Gerais      21168791\n",
              "Rio de Janeiro    17264943\n",
              "dtype: int64"
            ]
          },
          "execution_count": 13,
          "metadata": {},
          "output_type": "execute_result"
        }
      ],
      "source": [
        "populacao['Sao Paulo':'Rio de Janeiro']"
      ]
    },
    {
      "cell_type": "markdown",
      "metadata": {
        "id": "hrwuup3Siw24"
      },
      "source": [
        "<a id=\"22\"></a> <br>\n",
        "## 2.2 - Objetos do tipo *DataFrame*\n",
        "\n",
        "Seguindo a mesma analogia utilizada para as ``Series``, um ``DataFrame`` é análogo a um *array* de duas dimensões, com rótulos (*labels*) flexíveis para linhas e colunas.\n",
        "\n",
        "Vamos começar criando outra ``Series``, antes de um ``DataFrame``:"
      ]
    },
    {
      "cell_type": "code",
      "execution_count": null,
      "metadata": {
        "id": "N0OSq34aiw24",
        "outputId": "e8499ef3-0dc6-4e6a-ad2a-46ca7973917e"
      },
      "outputs": [
        {
          "data": {
            "text/plain": [
              "Sao Paulo         248222\n",
              "Minas Gerais      586522\n",
              "Rio de Janeiro     43780\n",
              "Bahia             564733\n",
              "Parana            199307\n",
              "dtype: int64"
            ]
          },
          "execution_count": 14,
          "metadata": {},
          "output_type": "execute_result"
        }
      ],
      "source": [
        "dic_area = {'Sao Paulo': 248222, 'Minas Gerais': 586522,  'Rio de Janeiro': 43780,\n",
        "            'Bahia': 564733, 'Parana': 199307}\n",
        "area = pd.Series(dic_area)\n",
        "area"
      ]
    },
    {
      "cell_type": "markdown",
      "metadata": {
        "id": "LpVlMe1Ciw24"
      },
      "source": [
        "Podemos agora ilustrar a criação de ``DataFrame`` de duas dimensões, a partir de duas ``Series``:"
      ]
    },
    {
      "cell_type": "code",
      "execution_count": null,
      "metadata": {
        "id": "1FumqIR8iw24",
        "outputId": "256a4fc1-10b9-4122-9d4b-8a0b8b70a41f"
      },
      "outputs": [
        {
          "data": {
            "text/html": [
              "<div>\n",
              "<style scoped>\n",
              "    .dataframe tbody tr th:only-of-type {\n",
              "        vertical-align: middle;\n",
              "    }\n",
              "\n",
              "    .dataframe tbody tr th {\n",
              "        vertical-align: top;\n",
              "    }\n",
              "\n",
              "    .dataframe thead th {\n",
              "        text-align: right;\n",
              "    }\n",
              "</style>\n",
              "<table border=\"1\" class=\"dataframe\">\n",
              "  <thead>\n",
              "    <tr style=\"text-align: right;\">\n",
              "      <th></th>\n",
              "      <th>Populacao</th>\n",
              "      <th>Area</th>\n",
              "    </tr>\n",
              "  </thead>\n",
              "  <tbody>\n",
              "    <tr>\n",
              "      <th>Sao Paulo</th>\n",
              "      <td>45919049</td>\n",
              "      <td>248222</td>\n",
              "    </tr>\n",
              "    <tr>\n",
              "      <th>Minas Gerais</th>\n",
              "      <td>21168791</td>\n",
              "      <td>586522</td>\n",
              "    </tr>\n",
              "    <tr>\n",
              "      <th>Rio de Janeiro</th>\n",
              "      <td>17264943</td>\n",
              "      <td>43780</td>\n",
              "    </tr>\n",
              "    <tr>\n",
              "      <th>Bahia</th>\n",
              "      <td>14873064</td>\n",
              "      <td>564733</td>\n",
              "    </tr>\n",
              "    <tr>\n",
              "      <th>Parana</th>\n",
              "      <td>11433957</td>\n",
              "      <td>199307</td>\n",
              "    </tr>\n",
              "  </tbody>\n",
              "</table>\n",
              "</div>"
            ],
            "text/plain": [
              "                Populacao    Area\n",
              "Sao Paulo        45919049  248222\n",
              "Minas Gerais     21168791  586522\n",
              "Rio de Janeiro   17264943   43780\n",
              "Bahia            14873064  564733\n",
              "Parana           11433957  199307"
            ]
          },
          "execution_count": 15,
          "metadata": {},
          "output_type": "execute_result"
        }
      ],
      "source": [
        "estados = pd.DataFrame({'Populacao': populacao,\n",
        "                       'Area': area})\n",
        "estados"
      ]
    },
    {
      "cell_type": "markdown",
      "metadata": {
        "id": "tHOxozNKiw25"
      },
      "source": [
        "Com um objeto ``Series``, os ``DataFrame`` possuem um atributo ``index`` armazenando os rótulos das linhas:"
      ]
    },
    {
      "cell_type": "code",
      "execution_count": null,
      "metadata": {
        "id": "DJE-btY2iw25",
        "outputId": "fdc8aa04-8b27-4b1c-d2ee-8bdc68285c10"
      },
      "outputs": [
        {
          "data": {
            "text/plain": [
              "Index(['Sao Paulo', 'Minas Gerais', 'Rio de Janeiro', 'Bahia', 'Parana'], dtype='object')"
            ]
          },
          "execution_count": 16,
          "metadata": {},
          "output_type": "execute_result"
        }
      ],
      "source": [
        "estados.index"
      ]
    },
    {
      "cell_type": "markdown",
      "metadata": {
        "id": "CpnteR_jiw25"
      },
      "source": [
        "Em adição, os ``DataFrame`` possuem o atributo ``columns``, que é também um objeto ``Index`` armazenando os rótulos das colunas:"
      ]
    },
    {
      "cell_type": "code",
      "execution_count": null,
      "metadata": {
        "id": "Cde73OfYiw25",
        "outputId": "c9dc05cd-03ab-45f7-d88b-4b61d338668f"
      },
      "outputs": [
        {
          "data": {
            "text/plain": [
              "Index(['Populacao', 'Area'], dtype='object')"
            ]
          },
          "execution_count": 17,
          "metadata": {},
          "output_type": "execute_result"
        }
      ],
      "source": [
        "estados.columns"
      ]
    },
    {
      "cell_type": "markdown",
      "metadata": {
        "id": "MZ5WQqdaiw25"
      },
      "source": [
        "De forma semelhante às ``Series`` os ``DataFrame`` podem ser imaginados como dicionários. Entretanto, o acesso primário pelos rótulos é para colunas"
      ]
    },
    {
      "cell_type": "code",
      "execution_count": null,
      "metadata": {
        "id": "jasoskcdiw25",
        "outputId": "caf9a7ea-1f28-4751-b5e0-8ab01212fdb4"
      },
      "outputs": [
        {
          "data": {
            "text/plain": [
              "Sao Paulo         248222\n",
              "Minas Gerais      586522\n",
              "Rio de Janeiro     43780\n",
              "Bahia             564733\n",
              "Parana            199307\n",
              "Name: Area, dtype: int64"
            ]
          },
          "execution_count": 18,
          "metadata": {},
          "output_type": "execute_result"
        }
      ],
      "source": [
        "estados['Area']"
      ]
    },
    {
      "cell_type": "markdown",
      "metadata": {
        "id": "cGtzo1z1iw26"
      },
      "source": [
        "Os objetos ``DataFrame`` podem ser construídos de formas variadas, como exemplos"
      ]
    },
    {
      "cell_type": "code",
      "execution_count": null,
      "metadata": {
        "id": "M2QE0iffiw26",
        "outputId": "00edcf42-7d9f-430d-a3bb-68b73640324f"
      },
      "outputs": [
        {
          "data": {
            "text/html": [
              "<div>\n",
              "<style scoped>\n",
              "    .dataframe tbody tr th:only-of-type {\n",
              "        vertical-align: middle;\n",
              "    }\n",
              "\n",
              "    .dataframe tbody tr th {\n",
              "        vertical-align: top;\n",
              "    }\n",
              "\n",
              "    .dataframe thead th {\n",
              "        text-align: right;\n",
              "    }\n",
              "</style>\n",
              "<table border=\"1\" class=\"dataframe\">\n",
              "  <thead>\n",
              "    <tr style=\"text-align: right;\">\n",
              "      <th></th>\n",
              "      <th>Populacao</th>\n",
              "    </tr>\n",
              "  </thead>\n",
              "  <tbody>\n",
              "    <tr>\n",
              "      <th>Sao Paulo</th>\n",
              "      <td>45919049</td>\n",
              "    </tr>\n",
              "    <tr>\n",
              "      <th>Minas Gerais</th>\n",
              "      <td>21168791</td>\n",
              "    </tr>\n",
              "    <tr>\n",
              "      <th>Rio de Janeiro</th>\n",
              "      <td>17264943</td>\n",
              "    </tr>\n",
              "    <tr>\n",
              "      <th>Bahia</th>\n",
              "      <td>14873064</td>\n",
              "    </tr>\n",
              "    <tr>\n",
              "      <th>Parana</th>\n",
              "      <td>11433957</td>\n",
              "    </tr>\n",
              "  </tbody>\n",
              "</table>\n",
              "</div>"
            ],
            "text/plain": [
              "                Populacao\n",
              "Sao Paulo        45919049\n",
              "Minas Gerais     21168791\n",
              "Rio de Janeiro   17264943\n",
              "Bahia            14873064\n",
              "Parana           11433957"
            ]
          },
          "execution_count": 19,
          "metadata": {},
          "output_type": "execute_result"
        }
      ],
      "source": [
        "# de um único objeto Series\n",
        "pd.DataFrame(populacao, columns=['Populacao'])"
      ]
    },
    {
      "cell_type": "code",
      "execution_count": null,
      "metadata": {
        "id": "YId_MZqDiw26",
        "outputId": "4080e681-84df-4a0a-ddca-2a42b761ab34"
      },
      "outputs": [
        {
          "data": {
            "text/html": [
              "<div>\n",
              "<style scoped>\n",
              "    .dataframe tbody tr th:only-of-type {\n",
              "        vertical-align: middle;\n",
              "    }\n",
              "\n",
              "    .dataframe tbody tr th {\n",
              "        vertical-align: top;\n",
              "    }\n",
              "\n",
              "    .dataframe thead th {\n",
              "        text-align: right;\n",
              "    }\n",
              "</style>\n",
              "<table border=\"1\" class=\"dataframe\">\n",
              "  <thead>\n",
              "    <tr style=\"text-align: right;\">\n",
              "      <th></th>\n",
              "      <th>a</th>\n",
              "      <th>b</th>\n",
              "    </tr>\n",
              "  </thead>\n",
              "  <tbody>\n",
              "    <tr>\n",
              "      <th>0</th>\n",
              "      <td>0</td>\n",
              "      <td>0</td>\n",
              "    </tr>\n",
              "    <tr>\n",
              "      <th>1</th>\n",
              "      <td>1</td>\n",
              "      <td>2</td>\n",
              "    </tr>\n",
              "    <tr>\n",
              "      <th>2</th>\n",
              "      <td>2</td>\n",
              "      <td>4</td>\n",
              "    </tr>\n",
              "  </tbody>\n",
              "</table>\n",
              "</div>"
            ],
            "text/plain": [
              "   a  b\n",
              "0  0  0\n",
              "1  1  2\n",
              "2  2  4"
            ]
          },
          "execution_count": 20,
          "metadata": {},
          "output_type": "execute_result"
        }
      ],
      "source": [
        "# de uma lista de dicionários\n",
        "dados = [{'a': i, 'b': 2 * i}\n",
        "        for i in range(3)] # lembra-se da 'list comprehension'?\n",
        "pd.DataFrame(dados)"
      ]
    },
    {
      "cell_type": "markdown",
      "metadata": {
        "id": "LTH4rrE2iw26"
      },
      "source": [
        "Uma função muito útil é a união de dicionários com chaves diferentes, e a atribuição de valores ``NaN`` (*not a number*) para valores ausentes"
      ]
    },
    {
      "cell_type": "code",
      "execution_count": null,
      "metadata": {
        "id": "bdrtI04miw27",
        "outputId": "8659736a-1140-44c8-a6f0-4d5994c9b605"
      },
      "outputs": [
        {
          "data": {
            "text/html": [
              "<div>\n",
              "<style scoped>\n",
              "    .dataframe tbody tr th:only-of-type {\n",
              "        vertical-align: middle;\n",
              "    }\n",
              "\n",
              "    .dataframe tbody tr th {\n",
              "        vertical-align: top;\n",
              "    }\n",
              "\n",
              "    .dataframe thead th {\n",
              "        text-align: right;\n",
              "    }\n",
              "</style>\n",
              "<table border=\"1\" class=\"dataframe\">\n",
              "  <thead>\n",
              "    <tr style=\"text-align: right;\">\n",
              "      <th></th>\n",
              "      <th>a</th>\n",
              "      <th>b</th>\n",
              "      <th>c</th>\n",
              "    </tr>\n",
              "  </thead>\n",
              "  <tbody>\n",
              "    <tr>\n",
              "      <th>0</th>\n",
              "      <td>1.0</td>\n",
              "      <td>2</td>\n",
              "      <td>NaN</td>\n",
              "    </tr>\n",
              "    <tr>\n",
              "      <th>1</th>\n",
              "      <td>NaN</td>\n",
              "      <td>3</td>\n",
              "      <td>4.0</td>\n",
              "    </tr>\n",
              "  </tbody>\n",
              "</table>\n",
              "</div>"
            ],
            "text/plain": [
              "     a  b    c\n",
              "0  1.0  2  NaN\n",
              "1  NaN  3  4.0"
            ]
          },
          "execution_count": 21,
          "metadata": {},
          "output_type": "execute_result"
        }
      ],
      "source": [
        "pd.DataFrame([{'a': 1, 'b': 2}, {'b': 3, 'c': 4}])"
      ]
    },
    {
      "cell_type": "code",
      "execution_count": null,
      "metadata": {
        "id": "J2M2kuQ1iw27",
        "outputId": "15aba107-ef0e-4f87-d472-98d5c6b3ce09"
      },
      "outputs": [
        {
          "data": {
            "text/html": [
              "<div>\n",
              "<style scoped>\n",
              "    .dataframe tbody tr th:only-of-type {\n",
              "        vertical-align: middle;\n",
              "    }\n",
              "\n",
              "    .dataframe tbody tr th {\n",
              "        vertical-align: top;\n",
              "    }\n",
              "\n",
              "    .dataframe thead th {\n",
              "        text-align: right;\n",
              "    }\n",
              "</style>\n",
              "<table border=\"1\" class=\"dataframe\">\n",
              "  <thead>\n",
              "    <tr style=\"text-align: right;\">\n",
              "      <th></th>\n",
              "      <th>Coluna 1</th>\n",
              "      <th>Coluna 2</th>\n",
              "    </tr>\n",
              "  </thead>\n",
              "  <tbody>\n",
              "    <tr>\n",
              "      <th>a</th>\n",
              "      <td>0.214413</td>\n",
              "      <td>0.053231</td>\n",
              "    </tr>\n",
              "    <tr>\n",
              "      <th>b</th>\n",
              "      <td>0.171614</td>\n",
              "      <td>0.085477</td>\n",
              "    </tr>\n",
              "    <tr>\n",
              "      <th>c</th>\n",
              "      <td>0.861232</td>\n",
              "      <td>0.613422</td>\n",
              "    </tr>\n",
              "  </tbody>\n",
              "</table>\n",
              "</div>"
            ],
            "text/plain": [
              "   Coluna 1  Coluna 2\n",
              "a  0.214413  0.053231\n",
              "b  0.171614  0.085477\n",
              "c  0.861232  0.613422"
            ]
          },
          "execution_count": 22,
          "metadata": {},
          "output_type": "execute_result"
        }
      ],
      "source": [
        "# a partir de um array\n",
        "import numpy as np\n",
        "pd.DataFrame(np.random.rand(3, 2), # lembra-se do array de duas dimensões\n",
        "             columns=['Coluna 1', 'Coluna 2'],\n",
        "             index=['a', 'b', 'c'])"
      ]
    },
    {
      "cell_type": "markdown",
      "metadata": {
        "id": "uPIqhBIhiw27"
      },
      "source": [
        "<a id=\"23\"></a> <br>\n",
        "## 2.3 - Objetos do tipo *Index*\n",
        "\n",
        "Como descrito anteriormente objetos do tipo ``Series`` e ``DataFrame`` contém um índice (*index*) explícito que permite a referência e modificação de valores específicos. Os índices são objetos do tipo ``Index``, para os quais veremos algumas propriedades a seguir."
      ]
    },
    {
      "cell_type": "code",
      "execution_count": null,
      "metadata": {
        "id": "_4lLCriJiw28",
        "outputId": "808e05f5-c717-4f32-a67c-778c3249956b"
      },
      "outputs": [
        {
          "data": {
            "text/plain": [
              "Int64Index([2, 3, 5, 7, 11], dtype='int64')"
            ]
          },
          "execution_count": 23,
          "metadata": {},
          "output_type": "execute_result"
        }
      ],
      "source": [
        "ind = pd.Index([2, 3, 5, 7, 11])\n",
        "ind"
      ]
    },
    {
      "cell_type": "code",
      "execution_count": null,
      "metadata": {
        "id": "jcLwweYTiw28",
        "outputId": "b4ae432b-c4dc-43d4-bb1a-ca8415c6068b"
      },
      "outputs": [
        {
          "data": {
            "text/plain": [
              "3"
            ]
          },
          "execution_count": 24,
          "metadata": {},
          "output_type": "execute_result"
        }
      ],
      "source": [
        "# opera como um array\n",
        "ind[1]"
      ]
    },
    {
      "cell_type": "code",
      "execution_count": null,
      "metadata": {
        "id": "O4Yx3GQQiw28",
        "outputId": "edb7225c-ae9c-48ed-c0fc-0fea6c8a0f98"
      },
      "outputs": [
        {
          "data": {
            "text/plain": [
              "Int64Index([2, 5, 11], dtype='int64')"
            ]
          },
          "execution_count": 25,
          "metadata": {},
          "output_type": "execute_result"
        }
      ],
      "source": [
        "ind[::2]"
      ]
    },
    {
      "cell_type": "markdown",
      "metadata": {
        "id": "bgRXYfpoiw28"
      },
      "source": [
        "Objetos do tipo ``Index`` tem muitos atributos de arrays NumPy:"
      ]
    },
    {
      "cell_type": "code",
      "execution_count": null,
      "metadata": {
        "id": "SeSlz_qaiw29",
        "outputId": "b9b103d1-4131-4022-f4a4-c785bf54c5b9"
      },
      "outputs": [
        {
          "name": "stdout",
          "output_type": "stream",
          "text": [
            "5 (5,) 1 int64\n"
          ]
        }
      ],
      "source": [
        "print(ind.size, ind.shape, ind.ndim, ind.dtype)"
      ]
    },
    {
      "cell_type": "markdown",
      "metadata": {
        "id": "phN9P2eJiw29"
      },
      "source": [
        "Uma diferença entre objetos do tipo ``Index`` e arrays NumPy é que os primeiros são imutáveis (*immutable*), não podendo ser modificados como um array:"
      ]
    },
    {
      "cell_type": "code",
      "execution_count": null,
      "metadata": {
        "id": "IUHO2fnriw29",
        "outputId": "9a23b986-925d-4480-e319-defeee932884"
      },
      "outputs": [
        {
          "ename": "TypeError",
          "evalue": "Index does not support mutable operations",
          "output_type": "error",
          "traceback": [
            "\u001b[0;31m---------------------------------------------------------------------------\u001b[0m",
            "\u001b[0;31mTypeError\u001b[0m                                 Traceback (most recent call last)",
            "\u001b[0;32m<ipython-input-27-906a9fa1424c>\u001b[0m in \u001b[0;36m<module>\u001b[0;34m\u001b[0m\n\u001b[0;32m----> 1\u001b[0;31m \u001b[0mind\u001b[0m\u001b[0;34m[\u001b[0m\u001b[0;36m1\u001b[0m\u001b[0;34m]\u001b[0m \u001b[0;34m=\u001b[0m \u001b[0;36m0\u001b[0m\u001b[0;34m\u001b[0m\u001b[0;34m\u001b[0m\u001b[0m\n\u001b[0m",
            "\u001b[0;32m~/miniconda3/lib/python3.7/site-packages/pandas/core/indexes/base.py\u001b[0m in \u001b[0;36m__setitem__\u001b[0;34m(self, key, value)\u001b[0m\n\u001b[1;32m   3936\u001b[0m \u001b[0;34m\u001b[0m\u001b[0m\n\u001b[1;32m   3937\u001b[0m     \u001b[0;32mdef\u001b[0m \u001b[0m__setitem__\u001b[0m\u001b[0;34m(\u001b[0m\u001b[0mself\u001b[0m\u001b[0;34m,\u001b[0m \u001b[0mkey\u001b[0m\u001b[0;34m,\u001b[0m \u001b[0mvalue\u001b[0m\u001b[0;34m)\u001b[0m\u001b[0;34m:\u001b[0m\u001b[0;34m\u001b[0m\u001b[0;34m\u001b[0m\u001b[0m\n\u001b[0;32m-> 3938\u001b[0;31m         \u001b[0;32mraise\u001b[0m \u001b[0mTypeError\u001b[0m\u001b[0;34m(\u001b[0m\u001b[0;34m\"Index does not support mutable operations\"\u001b[0m\u001b[0;34m)\u001b[0m\u001b[0;34m\u001b[0m\u001b[0;34m\u001b[0m\u001b[0m\n\u001b[0m\u001b[1;32m   3939\u001b[0m \u001b[0;34m\u001b[0m\u001b[0m\n\u001b[1;32m   3940\u001b[0m     \u001b[0;32mdef\u001b[0m \u001b[0m__getitem__\u001b[0m\u001b[0;34m(\u001b[0m\u001b[0mself\u001b[0m\u001b[0;34m,\u001b[0m \u001b[0mkey\u001b[0m\u001b[0;34m)\u001b[0m\u001b[0;34m:\u001b[0m\u001b[0;34m\u001b[0m\u001b[0;34m\u001b[0m\u001b[0m\n",
            "\u001b[0;31mTypeError\u001b[0m: Index does not support mutable operations"
          ]
        }
      ],
      "source": [
        "ind[1] = 0"
      ]
    },
    {
      "cell_type": "markdown",
      "metadata": {
        "id": "WwQ521bjiw2-"
      },
      "source": [
        "A caracteristica da imutabilidade confere segurança no compartilhamento de índices entre múltiplos ``DataFrame``."
      ]
    },
    {
      "cell_type": "markdown",
      "metadata": {
        "id": "O5lpR-GAiw2-"
      },
      "source": [
        "Os objetos ``Index`` seguem muitas convenções dos tipos nativos ``set`` em Python, de modo que uniões, intersecões, diferenças, e outras combinações podem ser executadas de maneira familiar e irão auxiliar operações mais complexas em ``DataFrame``."
      ]
    },
    {
      "cell_type": "code",
      "execution_count": null,
      "metadata": {
        "id": "vEQk_Hqfiw2-"
      },
      "outputs": [],
      "source": [
        "indA = pd.Index([1, 3, 5, 7, 9])\n",
        "indB = pd.Index([2, 3, 5, 7, 11])"
      ]
    },
    {
      "cell_type": "code",
      "execution_count": null,
      "metadata": {
        "id": "D41Hul06iw2-",
        "outputId": "490af591-7ae6-4012-a3dd-1b9b1c41d8c5"
      },
      "outputs": [
        {
          "data": {
            "text/plain": [
              "Int64Index([3, 5, 7], dtype='int64')"
            ]
          },
          "execution_count": 29,
          "metadata": {},
          "output_type": "execute_result"
        }
      ],
      "source": [
        "indA & indB  # interseção"
      ]
    },
    {
      "cell_type": "code",
      "execution_count": null,
      "metadata": {
        "id": "f59VvC7Yiw2-",
        "outputId": "5f45f426-e8c9-4993-a6a7-a6c228ed3ddd"
      },
      "outputs": [
        {
          "data": {
            "text/plain": [
              "Int64Index([1, 2, 3, 5, 7, 9, 11], dtype='int64')"
            ]
          },
          "execution_count": 30,
          "metadata": {},
          "output_type": "execute_result"
        }
      ],
      "source": [
        "indA | indB  # união"
      ]
    },
    {
      "cell_type": "code",
      "execution_count": null,
      "metadata": {
        "id": "iK98ny6Liw2_",
        "outputId": "ca9e7b20-7f48-466b-c229-4cfc192d7c35"
      },
      "outputs": [
        {
          "data": {
            "text/plain": [
              "Int64Index([1, 2, 9, 11], dtype='int64')"
            ]
          },
          "execution_count": 31,
          "metadata": {},
          "output_type": "execute_result"
        }
      ],
      "source": [
        "indA ^ indB  # diferença simétrica"
      ]
    },
    {
      "cell_type": "code",
      "execution_count": null,
      "metadata": {
        "id": "PsVIrDwziw2_",
        "outputId": "8f8391b0-48ab-4f03-80bb-90bd36c2f3b8"
      },
      "outputs": [
        {
          "data": {
            "text/plain": [
              "Int64Index([3, 5, 7], dtype='int64')"
            ]
          },
          "execution_count": 32,
          "metadata": {},
          "output_type": "execute_result"
        }
      ],
      "source": [
        "# as operações também podem ser acessados come métodos\n",
        "indA.intersection(indB)"
      ]
    },
    {
      "cell_type": "markdown",
      "metadata": {
        "id": "QxCT-CHaiw2_"
      },
      "source": [
        "<a id=\"3\"></a> <br>\n",
        "# 3 - Manipulação de índices e seleção"
      ]
    },
    {
      "cell_type": "markdown",
      "metadata": {
        "id": "IVK4BEkyiw2_"
      },
      "source": [
        "Adiante verificaremos métodos para acessar e modificar valors em objetos Pandas dos tipos ``Series`` e ``DataFrame``. Os métodos são semelhantes aos usados anteriormente para manipular arrays NumPy."
      ]
    },
    {
      "cell_type": "code",
      "execution_count": null,
      "metadata": {
        "id": "kLUucYpXiw3A",
        "outputId": "a1d57f10-6755-4184-8ada-7f02c8a66f66"
      },
      "outputs": [
        {
          "data": {
            "text/plain": [
              "a    0.25\n",
              "b    0.50\n",
              "c    0.75\n",
              "d    1.00\n",
              "dtype: float64"
            ]
          },
          "execution_count": 33,
          "metadata": {},
          "output_type": "execute_result"
        }
      ],
      "source": [
        "dados = pd.Series([0.25, 0.5, 0.75, 1.0],\n",
        "                 index=['a', 'b', 'c', 'd'])\n",
        "dados"
      ]
    },
    {
      "cell_type": "code",
      "execution_count": null,
      "metadata": {
        "id": "kUMzA-Twiw3A",
        "outputId": "c90b3d8a-bc4c-492e-f9ff-832046b356b4"
      },
      "outputs": [
        {
          "data": {
            "text/plain": [
              "0.5"
            ]
          },
          "execution_count": 34,
          "metadata": {},
          "output_type": "execute_result"
        }
      ],
      "source": [
        "dados['b']"
      ]
    },
    {
      "cell_type": "markdown",
      "metadata": {
        "id": "u3kXI0Coiw3A"
      },
      "source": [
        "Podemos inspecionar as ``Series`` como fazemos para dicionários em Python"
      ]
    },
    {
      "cell_type": "code",
      "execution_count": null,
      "metadata": {
        "id": "nhjfoE8Wiw3A",
        "outputId": "57e977ae-842d-4acc-9733-cd497499d7fc"
      },
      "outputs": [
        {
          "data": {
            "text/plain": [
              "True"
            ]
          },
          "execution_count": 35,
          "metadata": {},
          "output_type": "execute_result"
        }
      ],
      "source": [
        "'a' in dados"
      ]
    },
    {
      "cell_type": "code",
      "execution_count": null,
      "metadata": {
        "id": "kMiV13ediw3A",
        "outputId": "6233fdca-dc66-4b85-c63b-c7b0cf9fc2a6"
      },
      "outputs": [
        {
          "data": {
            "text/plain": [
              "Index(['a', 'b', 'c', 'd'], dtype='object')"
            ]
          },
          "execution_count": 36,
          "metadata": {},
          "output_type": "execute_result"
        }
      ],
      "source": [
        "dados.keys()"
      ]
    },
    {
      "cell_type": "code",
      "execution_count": null,
      "metadata": {
        "id": "_XP0i9qCiw3B",
        "outputId": "73744d22-ca53-4927-e73e-09d6b14d511f"
      },
      "outputs": [
        {
          "data": {
            "text/plain": [
              "[('a', 0.25), ('b', 0.5), ('c', 0.75), ('d', 1.0)]"
            ]
          },
          "execution_count": 37,
          "metadata": {},
          "output_type": "execute_result"
        }
      ],
      "source": [
        "list(dados.items())"
      ]
    },
    {
      "cell_type": "markdown",
      "metadata": {
        "id": "AQlLiN0oiw3B"
      },
      "source": [
        "O mesmo para a adição de dados a uma ``Series``, como em um dicionário"
      ]
    },
    {
      "cell_type": "code",
      "execution_count": null,
      "metadata": {
        "id": "NJ--onxpiw3B",
        "outputId": "90a50f17-ab18-4e7e-8cbf-eed2fea14bb3"
      },
      "outputs": [
        {
          "data": {
            "text/plain": [
              "a    0.25\n",
              "b    0.50\n",
              "c    0.75\n",
              "d    1.00\n",
              "e    1.25\n",
              "dtype: float64"
            ]
          },
          "execution_count": 38,
          "metadata": {},
          "output_type": "execute_result"
        }
      ],
      "source": [
        "dados['e'] = 1.25\n",
        "dados"
      ]
    },
    {
      "cell_type": "markdown",
      "metadata": {
        "id": "PSclchagiw3B"
      },
      "source": [
        "Uma ``Series`` também fornece mecanismos de sub-seleção como arrays NumPy"
      ]
    },
    {
      "cell_type": "code",
      "execution_count": null,
      "metadata": {
        "id": "V6SK6pM8iw3B",
        "outputId": "2135ced2-ca92-489f-8f86-99f9127508a1"
      },
      "outputs": [
        {
          "data": {
            "text/plain": [
              "a    0.25\n",
              "b    0.50\n",
              "c    0.75\n",
              "dtype: float64"
            ]
          },
          "execution_count": 39,
          "metadata": {},
          "output_type": "execute_result"
        }
      ],
      "source": [
        "# seleção por índices explícitos\n",
        "dados['a':'c']"
      ]
    },
    {
      "cell_type": "code",
      "execution_count": null,
      "metadata": {
        "id": "lGo5BRqniw3C",
        "outputId": "aae6f689-d432-40f7-82bb-1eee2aa0a4c4"
      },
      "outputs": [
        {
          "data": {
            "text/plain": [
              "a    0.25\n",
              "b    0.50\n",
              "dtype: float64"
            ]
          },
          "execution_count": 40,
          "metadata": {},
          "output_type": "execute_result"
        }
      ],
      "source": [
        "# seleção por índices implícitos\n",
        "dados[0:2] # note que o ultimo índice não é incluso"
      ]
    },
    {
      "cell_type": "code",
      "execution_count": null,
      "metadata": {
        "id": "pwijKu9Piw3C",
        "outputId": "4309ecc7-8a20-4ba9-ec69-c8f525c1614f"
      },
      "outputs": [
        {
          "data": {
            "text/plain": [
              "b    0.50\n",
              "c    0.75\n",
              "dtype: float64"
            ]
          },
          "execution_count": 41,
          "metadata": {},
          "output_type": "execute_result"
        }
      ],
      "source": [
        "# masking\n",
        "dados[(dados > 0.3) & (dados < 0.8)]"
      ]
    },
    {
      "cell_type": "code",
      "execution_count": null,
      "metadata": {
        "id": "mZnayhbAiw3C",
        "outputId": "82603722-06f8-4171-8f3f-24d18e91773c"
      },
      "outputs": [
        {
          "data": {
            "text/plain": [
              "a    0.25\n",
              "e    1.25\n",
              "dtype: float64"
            ]
          },
          "execution_count": 42,
          "metadata": {},
          "output_type": "execute_result"
        }
      ],
      "source": [
        "# múltiplos índices (fancy indexing)\n",
        "dados[['a', 'e']]"
      ]
    },
    {
      "cell_type": "markdown",
      "metadata": {
        "id": "FpTarYBCiw3C"
      },
      "source": [
        "O atributo ``loc`` permite que a indexação e seleção utilizando índices explícitos:"
      ]
    },
    {
      "cell_type": "code",
      "execution_count": null,
      "metadata": {
        "id": "80CSU2Q-iw3C",
        "outputId": "278d832a-f07a-4ea6-e299-5d4d91c15d25"
      },
      "outputs": [
        {
          "data": {
            "text/plain": [
              "0.25"
            ]
          },
          "execution_count": 43,
          "metadata": {},
          "output_type": "execute_result"
        }
      ],
      "source": [
        "dados.loc['a']"
      ]
    },
    {
      "cell_type": "code",
      "execution_count": null,
      "metadata": {
        "id": "eJ30UVMXiw3C",
        "outputId": "98ce85ea-53ae-4adb-df59-5f2c1ff0469b"
      },
      "outputs": [
        {
          "data": {
            "text/plain": [
              "a    0.25\n",
              "b    0.50\n",
              "c    0.75\n",
              "dtype: float64"
            ]
          },
          "execution_count": 44,
          "metadata": {},
          "output_type": "execute_result"
        }
      ],
      "source": [
        "dados.loc['a':'c']"
      ]
    },
    {
      "cell_type": "markdown",
      "metadata": {
        "id": "Z-j0FrZyiw3D"
      },
      "source": [
        "O atributo ``iloc`` permite a indexação e seleção sempre usando os índices implícitos:"
      ]
    },
    {
      "cell_type": "code",
      "execution_count": null,
      "metadata": {
        "id": "q6-lgc0Niw3D",
        "outputId": "82f7e872-fe99-4991-d167-954a3428306d"
      },
      "outputs": [
        {
          "data": {
            "text/plain": [
              "0.5"
            ]
          },
          "execution_count": 45,
          "metadata": {},
          "output_type": "execute_result"
        }
      ],
      "source": [
        "dados.iloc[1]"
      ]
    },
    {
      "cell_type": "code",
      "execution_count": null,
      "metadata": {
        "id": "xtrDe-ddiw3D",
        "outputId": "038df3e0-5534-4f59-f1b9-6a875ba4dbc3"
      },
      "outputs": [
        {
          "data": {
            "text/plain": [
              "b    0.50\n",
              "c    0.75\n",
              "dtype: float64"
            ]
          },
          "execution_count": 46,
          "metadata": {},
          "output_type": "execute_result"
        }
      ],
      "source": [
        "dados.iloc[1:3]"
      ]
    },
    {
      "cell_type": "markdown",
      "metadata": {
        "id": "CWB1Lvzmiw3D"
      },
      "source": [
        "De forma equivalente à seleção por colunas vista anteriormente, a seleção em um ``DataFrame`` pode ser feita da seguinte forma"
      ]
    },
    {
      "cell_type": "code",
      "execution_count": null,
      "metadata": {
        "id": "sVjk4JW4iw3D",
        "outputId": "7e6adfd1-d3ce-421b-c1b0-42f82e33b0b2"
      },
      "outputs": [
        {
          "data": {
            "text/plain": [
              "Sao Paulo         248222\n",
              "Minas Gerais      586522\n",
              "Rio de Janeiro     43780\n",
              "Bahia             564733\n",
              "Parana            199307\n",
              "Name: Area, dtype: int64"
            ]
          },
          "execution_count": 47,
          "metadata": {},
          "output_type": "execute_result"
        }
      ],
      "source": [
        "estados.Area # Nota: Tenha cuidado para não escolher um nome que entre em conflito com os métodos\n",
        "             # do DataFrame, inspecione os métodos fazendo estados.<TAB>"
      ]
    },
    {
      "cell_type": "markdown",
      "metadata": {
        "id": "TSouQQrmiw3E"
      },
      "source": [
        "O estilo dicionário também pode ser utilizado para modificar o ``DataFrame``:"
      ]
    },
    {
      "cell_type": "code",
      "execution_count": null,
      "metadata": {
        "id": "lOdacV-5iw3E",
        "outputId": "8e9ee996-2b88-47e1-d269-bf37cd822682"
      },
      "outputs": [
        {
          "data": {
            "text/html": [
              "<div>\n",
              "<style scoped>\n",
              "    .dataframe tbody tr th:only-of-type {\n",
              "        vertical-align: middle;\n",
              "    }\n",
              "\n",
              "    .dataframe tbody tr th {\n",
              "        vertical-align: top;\n",
              "    }\n",
              "\n",
              "    .dataframe thead th {\n",
              "        text-align: right;\n",
              "    }\n",
              "</style>\n",
              "<table border=\"1\" class=\"dataframe\">\n",
              "  <thead>\n",
              "    <tr style=\"text-align: right;\">\n",
              "      <th></th>\n",
              "      <th>Populacao</th>\n",
              "      <th>Area</th>\n",
              "      <th>Densidade</th>\n",
              "    </tr>\n",
              "  </thead>\n",
              "  <tbody>\n",
              "    <tr>\n",
              "      <th>Sao Paulo</th>\n",
              "      <td>45919049</td>\n",
              "      <td>248222</td>\n",
              "      <td>184.991858</td>\n",
              "    </tr>\n",
              "    <tr>\n",
              "      <th>Minas Gerais</th>\n",
              "      <td>21168791</td>\n",
              "      <td>586522</td>\n",
              "      <td>36.092066</td>\n",
              "    </tr>\n",
              "    <tr>\n",
              "      <th>Rio de Janeiro</th>\n",
              "      <td>17264943</td>\n",
              "      <td>43780</td>\n",
              "      <td>394.356852</td>\n",
              "    </tr>\n",
              "    <tr>\n",
              "      <th>Bahia</th>\n",
              "      <td>14873064</td>\n",
              "      <td>564733</td>\n",
              "      <td>26.336453</td>\n",
              "    </tr>\n",
              "    <tr>\n",
              "      <th>Parana</th>\n",
              "      <td>11433957</td>\n",
              "      <td>199307</td>\n",
              "      <td>57.368567</td>\n",
              "    </tr>\n",
              "  </tbody>\n",
              "</table>\n",
              "</div>"
            ],
            "text/plain": [
              "                Populacao    Area   Densidade\n",
              "Sao Paulo        45919049  248222  184.991858\n",
              "Minas Gerais     21168791  586522   36.092066\n",
              "Rio de Janeiro   17264943   43780  394.356852\n",
              "Bahia            14873064  564733   26.336453\n",
              "Parana           11433957  199307   57.368567"
            ]
          },
          "execution_count": 48,
          "metadata": {},
          "output_type": "execute_result"
        }
      ],
      "source": [
        "estados['Densidade'] = estados['Populacao'] / estados['Area']\n",
        "estados"
      ]
    },
    {
      "cell_type": "markdown",
      "metadata": {
        "id": "MEl6e6O_iw3E"
      },
      "source": [
        "Podemos também utilizar a sintaxe de *arrays*"
      ]
    },
    {
      "cell_type": "code",
      "execution_count": null,
      "metadata": {
        "id": "0Lz_cbABiw3E",
        "outputId": "f15cf372-91bd-4db5-b9bd-f78c3d2643b7"
      },
      "outputs": [
        {
          "data": {
            "text/plain": [
              "array([0.25, 0.5 , 0.75, 1.  , 1.25])"
            ]
          },
          "execution_count": 49,
          "metadata": {},
          "output_type": "execute_result"
        }
      ],
      "source": [
        "dados.values"
      ]
    },
    {
      "cell_type": "markdown",
      "metadata": {
        "id": "-83ehfuHiw3E"
      },
      "source": [
        "Operações de *arrays* podem ser executas em ``DataFrame``, como a transposição por exemplo"
      ]
    },
    {
      "cell_type": "code",
      "execution_count": null,
      "metadata": {
        "id": "sC_B1xQyiw3F",
        "outputId": "9edff318-113f-46c6-ed38-adef5b48de8e"
      },
      "outputs": [
        {
          "data": {
            "text/html": [
              "<div>\n",
              "<style scoped>\n",
              "    .dataframe tbody tr th:only-of-type {\n",
              "        vertical-align: middle;\n",
              "    }\n",
              "\n",
              "    .dataframe tbody tr th {\n",
              "        vertical-align: top;\n",
              "    }\n",
              "\n",
              "    .dataframe thead th {\n",
              "        text-align: right;\n",
              "    }\n",
              "</style>\n",
              "<table border=\"1\" class=\"dataframe\">\n",
              "  <thead>\n",
              "    <tr style=\"text-align: right;\">\n",
              "      <th></th>\n",
              "      <th>Sao Paulo</th>\n",
              "      <th>Minas Gerais</th>\n",
              "      <th>Rio de Janeiro</th>\n",
              "      <th>Bahia</th>\n",
              "      <th>Parana</th>\n",
              "    </tr>\n",
              "  </thead>\n",
              "  <tbody>\n",
              "    <tr>\n",
              "      <th>Populacao</th>\n",
              "      <td>4.591905e+07</td>\n",
              "      <td>2.116879e+07</td>\n",
              "      <td>1.726494e+07</td>\n",
              "      <td>1.487306e+07</td>\n",
              "      <td>1.143396e+07</td>\n",
              "    </tr>\n",
              "    <tr>\n",
              "      <th>Area</th>\n",
              "      <td>2.482220e+05</td>\n",
              "      <td>5.865220e+05</td>\n",
              "      <td>4.378000e+04</td>\n",
              "      <td>5.647330e+05</td>\n",
              "      <td>1.993070e+05</td>\n",
              "    </tr>\n",
              "    <tr>\n",
              "      <th>Densidade</th>\n",
              "      <td>1.849919e+02</td>\n",
              "      <td>3.609207e+01</td>\n",
              "      <td>3.943569e+02</td>\n",
              "      <td>2.633645e+01</td>\n",
              "      <td>5.736857e+01</td>\n",
              "    </tr>\n",
              "  </tbody>\n",
              "</table>\n",
              "</div>"
            ],
            "text/plain": [
              "              Sao Paulo  Minas Gerais  Rio de Janeiro         Bahia  \\\n",
              "Populacao  4.591905e+07  2.116879e+07    1.726494e+07  1.487306e+07   \n",
              "Area       2.482220e+05  5.865220e+05    4.378000e+04  5.647330e+05   \n",
              "Densidade  1.849919e+02  3.609207e+01    3.943569e+02  2.633645e+01   \n",
              "\n",
              "                 Parana  \n",
              "Populacao  1.143396e+07  \n",
              "Area       1.993070e+05  \n",
              "Densidade  5.736857e+01  "
            ]
          },
          "execution_count": 50,
          "metadata": {},
          "output_type": "execute_result"
        }
      ],
      "source": [
        "estados.T"
      ]
    },
    {
      "cell_type": "markdown",
      "metadata": {
        "collapsed": true,
        "jupyter": {
          "outputs_hidden": true
        },
        "id": "PYFEfqUjiw3F"
      },
      "source": [
        "Podemos utilizar o atributo ``iloc`` para indexação implícitas para índices e colunas:"
      ]
    },
    {
      "cell_type": "code",
      "execution_count": null,
      "metadata": {
        "id": "BeFwMv_Wiw3F",
        "outputId": "11b38926-0037-4233-c9c6-3774fc484660"
      },
      "outputs": [
        {
          "data": {
            "text/html": [
              "<div>\n",
              "<style scoped>\n",
              "    .dataframe tbody tr th:only-of-type {\n",
              "        vertical-align: middle;\n",
              "    }\n",
              "\n",
              "    .dataframe tbody tr th {\n",
              "        vertical-align: top;\n",
              "    }\n",
              "\n",
              "    .dataframe thead th {\n",
              "        text-align: right;\n",
              "    }\n",
              "</style>\n",
              "<table border=\"1\" class=\"dataframe\">\n",
              "  <thead>\n",
              "    <tr style=\"text-align: right;\">\n",
              "      <th></th>\n",
              "      <th>Populacao</th>\n",
              "      <th>Area</th>\n",
              "    </tr>\n",
              "  </thead>\n",
              "  <tbody>\n",
              "    <tr>\n",
              "      <th>Sao Paulo</th>\n",
              "      <td>45919049</td>\n",
              "      <td>248222</td>\n",
              "    </tr>\n",
              "    <tr>\n",
              "      <th>Minas Gerais</th>\n",
              "      <td>21168791</td>\n",
              "      <td>586522</td>\n",
              "    </tr>\n",
              "    <tr>\n",
              "      <th>Rio de Janeiro</th>\n",
              "      <td>17264943</td>\n",
              "      <td>43780</td>\n",
              "    </tr>\n",
              "  </tbody>\n",
              "</table>\n",
              "</div>"
            ],
            "text/plain": [
              "                Populacao    Area\n",
              "Sao Paulo        45919049  248222\n",
              "Minas Gerais     21168791  586522\n",
              "Rio de Janeiro   17264943   43780"
            ]
          },
          "execution_count": 51,
          "metadata": {},
          "output_type": "execute_result"
        }
      ],
      "source": [
        "estados.iloc[:3, :2]"
      ]
    },
    {
      "cell_type": "markdown",
      "metadata": {
        "id": "Ad23aFFhiw3F"
      },
      "source": [
        "De forma similar, podemos utilizar ``loc`` para indexação explícita"
      ]
    },
    {
      "cell_type": "code",
      "execution_count": null,
      "metadata": {
        "id": "TVjHgvvdiw3G",
        "outputId": "b866fa03-72bd-4e3e-e1c6-b4717497fed3"
      },
      "outputs": [
        {
          "data": {
            "text/html": [
              "<div>\n",
              "<style scoped>\n",
              "    .dataframe tbody tr th:only-of-type {\n",
              "        vertical-align: middle;\n",
              "    }\n",
              "\n",
              "    .dataframe tbody tr th {\n",
              "        vertical-align: top;\n",
              "    }\n",
              "\n",
              "    .dataframe thead th {\n",
              "        text-align: right;\n",
              "    }\n",
              "</style>\n",
              "<table border=\"1\" class=\"dataframe\">\n",
              "  <thead>\n",
              "    <tr style=\"text-align: right;\">\n",
              "      <th></th>\n",
              "      <th>Populacao</th>\n",
              "      <th>Area</th>\n",
              "    </tr>\n",
              "  </thead>\n",
              "  <tbody>\n",
              "    <tr>\n",
              "      <th>Sao Paulo</th>\n",
              "      <td>45919049</td>\n",
              "      <td>248222</td>\n",
              "    </tr>\n",
              "    <tr>\n",
              "      <th>Minas Gerais</th>\n",
              "      <td>21168791</td>\n",
              "      <td>586522</td>\n",
              "    </tr>\n",
              "    <tr>\n",
              "      <th>Rio de Janeiro</th>\n",
              "      <td>17264943</td>\n",
              "      <td>43780</td>\n",
              "    </tr>\n",
              "  </tbody>\n",
              "</table>\n",
              "</div>"
            ],
            "text/plain": [
              "                Populacao    Area\n",
              "Sao Paulo        45919049  248222\n",
              "Minas Gerais     21168791  586522\n",
              "Rio de Janeiro   17264943   43780"
            ]
          },
          "execution_count": 52,
          "metadata": {},
          "output_type": "execute_result"
        }
      ],
      "source": [
        "estados.loc[:'Rio de Janeiro', :'Area']"
      ]
    },
    {
      "cell_type": "markdown",
      "metadata": {
        "id": "Px2mslERiw3H"
      },
      "source": [
        "Qualquer padrão de seleção presente em NumPy pode ser utilizado.\n",
        "Por exemplo, ``loc`` pode ser combinado com *masking* e seleção múltipla:"
      ]
    },
    {
      "cell_type": "code",
      "execution_count": null,
      "metadata": {
        "id": "TYcF-E1Jiw3H",
        "outputId": "a6b47453-d632-4191-8df6-4d9b9d17e9d6"
      },
      "outputs": [
        {
          "data": {
            "text/html": [
              "<div>\n",
              "<style scoped>\n",
              "    .dataframe tbody tr th:only-of-type {\n",
              "        vertical-align: middle;\n",
              "    }\n",
              "\n",
              "    .dataframe tbody tr th {\n",
              "        vertical-align: top;\n",
              "    }\n",
              "\n",
              "    .dataframe thead th {\n",
              "        text-align: right;\n",
              "    }\n",
              "</style>\n",
              "<table border=\"1\" class=\"dataframe\">\n",
              "  <thead>\n",
              "    <tr style=\"text-align: right;\">\n",
              "      <th></th>\n",
              "      <th>Populacao</th>\n",
              "      <th>Densidade</th>\n",
              "    </tr>\n",
              "  </thead>\n",
              "  <tbody>\n",
              "    <tr>\n",
              "      <th>Sao Paulo</th>\n",
              "      <td>45919049</td>\n",
              "      <td>184.991858</td>\n",
              "    </tr>\n",
              "    <tr>\n",
              "      <th>Rio de Janeiro</th>\n",
              "      <td>17264943</td>\n",
              "      <td>394.356852</td>\n",
              "    </tr>\n",
              "  </tbody>\n",
              "</table>\n",
              "</div>"
            ],
            "text/plain": [
              "                Populacao   Densidade\n",
              "Sao Paulo        45919049  184.991858\n",
              "Rio de Janeiro   17264943  394.356852"
            ]
          },
          "execution_count": 53,
          "metadata": {},
          "output_type": "execute_result"
        }
      ],
      "source": [
        "estados.loc[estados.Densidade > 100, ['Populacao', 'Densidade']]"
      ]
    },
    {
      "cell_type": "markdown",
      "metadata": {
        "id": "TQGeipWJiw3H"
      },
      "source": [
        "Estes padrões também podemos ser utilizados para criar ou modificar valores em um ``DataFrame``"
      ]
    },
    {
      "cell_type": "code",
      "execution_count": null,
      "metadata": {
        "id": "D4gRuMediw3H",
        "outputId": "79856c88-1e5d-45bd-ac9a-269ecf84376a"
      },
      "outputs": [
        {
          "data": {
            "text/html": [
              "<div>\n",
              "<style scoped>\n",
              "    .dataframe tbody tr th:only-of-type {\n",
              "        vertical-align: middle;\n",
              "    }\n",
              "\n",
              "    .dataframe tbody tr th {\n",
              "        vertical-align: top;\n",
              "    }\n",
              "\n",
              "    .dataframe thead th {\n",
              "        text-align: right;\n",
              "    }\n",
              "</style>\n",
              "<table border=\"1\" class=\"dataframe\">\n",
              "  <thead>\n",
              "    <tr style=\"text-align: right;\">\n",
              "      <th></th>\n",
              "      <th>Populacao</th>\n",
              "      <th>Area</th>\n",
              "      <th>Densidade</th>\n",
              "    </tr>\n",
              "  </thead>\n",
              "  <tbody>\n",
              "    <tr>\n",
              "      <th>Sao Paulo</th>\n",
              "      <td>45919049</td>\n",
              "      <td>248222</td>\n",
              "      <td>184.991858</td>\n",
              "    </tr>\n",
              "    <tr>\n",
              "      <th>Minas Gerais</th>\n",
              "      <td>21168791</td>\n",
              "      <td>586522</td>\n",
              "      <td>36.000000</td>\n",
              "    </tr>\n",
              "    <tr>\n",
              "      <th>Rio de Janeiro</th>\n",
              "      <td>17264943</td>\n",
              "      <td>43780</td>\n",
              "      <td>394.356852</td>\n",
              "    </tr>\n",
              "    <tr>\n",
              "      <th>Bahia</th>\n",
              "      <td>14873064</td>\n",
              "      <td>564733</td>\n",
              "      <td>26.336453</td>\n",
              "    </tr>\n",
              "    <tr>\n",
              "      <th>Parana</th>\n",
              "      <td>11433957</td>\n",
              "      <td>199307</td>\n",
              "      <td>57.368567</td>\n",
              "    </tr>\n",
              "  </tbody>\n",
              "</table>\n",
              "</div>"
            ],
            "text/plain": [
              "                Populacao    Area   Densidade\n",
              "Sao Paulo        45919049  248222  184.991858\n",
              "Minas Gerais     21168791  586522   36.000000\n",
              "Rio de Janeiro   17264943   43780  394.356852\n",
              "Bahia            14873064  564733   26.336453\n",
              "Parana           11433957  199307   57.368567"
            ]
          },
          "execution_count": 54,
          "metadata": {},
          "output_type": "execute_result"
        }
      ],
      "source": [
        "estados.iloc[1, 2] = 36\n",
        "estados"
      ]
    },
    {
      "cell_type": "markdown",
      "metadata": {
        "id": "RB8zNTETiw3H"
      },
      "source": [
        "<a id=\"4\"></a> <br>\n",
        "# 4 - Aplicação de operações aos dados"
      ]
    },
    {
      "cell_type": "markdown",
      "metadata": {
        "id": "Qbz3WR1liw3H"
      },
      "source": [
        "Pandas herda habilidades funcionais de NumPy para realizações de operações numéricas variadas. Uma adição importante é a manutenção dos índices e rótulos de colunas nas saídas da operações. Desta forma, a manutenção do contexto em operações complexas é assegurada."
      ]
    },
    {
      "cell_type": "markdown",
      "metadata": {
        "id": "4ljKG9n7iw3H"
      },
      "source": [
        "Qualquer *ufunc* de NumPy funciona com Pandas."
      ]
    },
    {
      "cell_type": "code",
      "execution_count": null,
      "metadata": {
        "id": "l9KKOeHYiw3H",
        "outputId": "e50181fd-849c-4bda-c71c-f7d4f155cca6"
      },
      "outputs": [
        {
          "data": {
            "text/plain": [
              "0    6\n",
              "1    3\n",
              "2    7\n",
              "3    4\n",
              "dtype: int64"
            ]
          },
          "execution_count": 55,
          "metadata": {},
          "output_type": "execute_result"
        }
      ],
      "source": [
        "rng = np.random.RandomState(42)\n",
        "ser = pd.Series(rng.randint(0, 10, 4))\n",
        "ser"
      ]
    },
    {
      "cell_type": "code",
      "execution_count": null,
      "metadata": {
        "id": "iCNGupObiw3H",
        "outputId": "fb21f990-b05b-4e66-99b8-5709276dec30"
      },
      "outputs": [
        {
          "data": {
            "text/html": [
              "<div>\n",
              "<style scoped>\n",
              "    .dataframe tbody tr th:only-of-type {\n",
              "        vertical-align: middle;\n",
              "    }\n",
              "\n",
              "    .dataframe tbody tr th {\n",
              "        vertical-align: top;\n",
              "    }\n",
              "\n",
              "    .dataframe thead th {\n",
              "        text-align: right;\n",
              "    }\n",
              "</style>\n",
              "<table border=\"1\" class=\"dataframe\">\n",
              "  <thead>\n",
              "    <tr style=\"text-align: right;\">\n",
              "      <th></th>\n",
              "      <th>A</th>\n",
              "      <th>B</th>\n",
              "      <th>C</th>\n",
              "      <th>D</th>\n",
              "    </tr>\n",
              "  </thead>\n",
              "  <tbody>\n",
              "    <tr>\n",
              "      <th>0</th>\n",
              "      <td>6</td>\n",
              "      <td>9</td>\n",
              "      <td>2</td>\n",
              "      <td>6</td>\n",
              "    </tr>\n",
              "    <tr>\n",
              "      <th>1</th>\n",
              "      <td>7</td>\n",
              "      <td>4</td>\n",
              "      <td>3</td>\n",
              "      <td>7</td>\n",
              "    </tr>\n",
              "    <tr>\n",
              "      <th>2</th>\n",
              "      <td>7</td>\n",
              "      <td>2</td>\n",
              "      <td>5</td>\n",
              "      <td>4</td>\n",
              "    </tr>\n",
              "  </tbody>\n",
              "</table>\n",
              "</div>"
            ],
            "text/plain": [
              "   A  B  C  D\n",
              "0  6  9  2  6\n",
              "1  7  4  3  7\n",
              "2  7  2  5  4"
            ]
          },
          "execution_count": 56,
          "metadata": {},
          "output_type": "execute_result"
        }
      ],
      "source": [
        "df = pd.DataFrame(rng.randint(0, 10, (3, 4)),\n",
        "                  columns=['A', 'B', 'C', 'D'])\n",
        "df"
      ]
    },
    {
      "cell_type": "markdown",
      "metadata": {
        "id": "VXRe_SFeiw3H"
      },
      "source": [
        "Aplicando uma *ufunc* de NumPy nos objetos criados acima retorna objetos Pandas __com os índices preservados__:"
      ]
    },
    {
      "cell_type": "code",
      "execution_count": null,
      "metadata": {
        "id": "aBR0dcjDiw3H",
        "outputId": "ca22f73c-ade7-4198-ac3c-08e70fec90b0"
      },
      "outputs": [
        {
          "data": {
            "text/plain": [
              "0     403.428793\n",
              "1      20.085537\n",
              "2    1096.633158\n",
              "3      54.598150\n",
              "dtype: float64"
            ]
          },
          "execution_count": 57,
          "metadata": {},
          "output_type": "execute_result"
        }
      ],
      "source": [
        "np.exp(ser)"
      ]
    },
    {
      "cell_type": "markdown",
      "metadata": {
        "id": "C_CAByLsiw3H"
      },
      "source": [
        "Em uma operação mais complexa:"
      ]
    },
    {
      "cell_type": "code",
      "execution_count": null,
      "metadata": {
        "id": "6cUQg5sYiw3I",
        "outputId": "83c37df9-147e-428d-f570-b919be8d25fd"
      },
      "outputs": [
        {
          "data": {
            "text/html": [
              "<div>\n",
              "<style scoped>\n",
              "    .dataframe tbody tr th:only-of-type {\n",
              "        vertical-align: middle;\n",
              "    }\n",
              "\n",
              "    .dataframe tbody tr th {\n",
              "        vertical-align: top;\n",
              "    }\n",
              "\n",
              "    .dataframe thead th {\n",
              "        text-align: right;\n",
              "    }\n",
              "</style>\n",
              "<table border=\"1\" class=\"dataframe\">\n",
              "  <thead>\n",
              "    <tr style=\"text-align: right;\">\n",
              "      <th></th>\n",
              "      <th>A</th>\n",
              "      <th>B</th>\n",
              "      <th>C</th>\n",
              "      <th>D</th>\n",
              "    </tr>\n",
              "  </thead>\n",
              "  <tbody>\n",
              "    <tr>\n",
              "      <th>0</th>\n",
              "      <td>-1.000000</td>\n",
              "      <td>7.071068e-01</td>\n",
              "      <td>1.000000</td>\n",
              "      <td>-1.000000e+00</td>\n",
              "    </tr>\n",
              "    <tr>\n",
              "      <th>1</th>\n",
              "      <td>-0.707107</td>\n",
              "      <td>1.224647e-16</td>\n",
              "      <td>0.707107</td>\n",
              "      <td>-7.071068e-01</td>\n",
              "    </tr>\n",
              "    <tr>\n",
              "      <th>2</th>\n",
              "      <td>-0.707107</td>\n",
              "      <td>1.000000e+00</td>\n",
              "      <td>-0.707107</td>\n",
              "      <td>1.224647e-16</td>\n",
              "    </tr>\n",
              "  </tbody>\n",
              "</table>\n",
              "</div>"
            ],
            "text/plain": [
              "          A             B         C             D\n",
              "0 -1.000000  7.071068e-01  1.000000 -1.000000e+00\n",
              "1 -0.707107  1.224647e-16  0.707107 -7.071068e-01\n",
              "2 -0.707107  1.000000e+00 -0.707107  1.224647e-16"
            ]
          },
          "execution_count": 58,
          "metadata": {},
          "output_type": "execute_result"
        }
      ],
      "source": [
        "np.sin(df * np.pi / 4)"
      ]
    },
    {
      "cell_type": "markdown",
      "metadata": {
        "id": "Dae5QisQiw3J"
      },
      "source": [
        "Em operações binárias em dois objetos ``Series`` ou ``DataFrame``, os índices serão alinhados no processo da operação."
      ]
    },
    {
      "cell_type": "code",
      "execution_count": null,
      "metadata": {
        "id": "exnT9znQiw3J"
      },
      "outputs": [],
      "source": [
        "# Um estado foi removido de cada dicionário\n",
        "area = pd.Series({'Sao Paulo': 248222, 'Minas Gerais': 586522,\n",
        "                  'Rio de Janeiro': 43780, 'Bahia': 564733},\n",
        "                 name='area')\n",
        "\n",
        "populacao = pd.Series({'Sao Paulo': 45919049, 'Minas Gerais': 21168791,\n",
        "                       'Rio de Janeiro': 17264943, 'Parana': 11433957},\n",
        "                        name='populacao')"
      ]
    },
    {
      "cell_type": "code",
      "execution_count": null,
      "metadata": {
        "id": "Ta6iXVTXiw3J",
        "outputId": "3f3096ad-bc66-4636-8695-e4029fe6a7de"
      },
      "outputs": [
        {
          "data": {
            "text/plain": [
              "Bahia                    NaN\n",
              "Minas Gerais       36.092066\n",
              "Parana                   NaN\n",
              "Rio de Janeiro    394.356852\n",
              "Sao Paulo         184.991858\n",
              "dtype: float64"
            ]
          },
          "execution_count": 60,
          "metadata": {},
          "output_type": "execute_result"
        }
      ],
      "source": [
        "populacao / area"
      ]
    },
    {
      "cell_type": "markdown",
      "metadata": {
        "id": "m6JGhBrliw3J"
      },
      "source": [
        "O resultado de saída contém a união dos índices dos dois *arrays* de entrada, que poderia ter sido determinada comparando os índices"
      ]
    },
    {
      "cell_type": "code",
      "execution_count": null,
      "metadata": {
        "id": "AZj9mT1liw3J",
        "outputId": "288be081-7a82-4853-a668-9ee9a2ab4238"
      },
      "outputs": [
        {
          "data": {
            "text/plain": [
              "Index(['Bahia', 'Minas Gerais', 'Parana', 'Rio de Janeiro', 'Sao Paulo'], dtype='object')"
            ]
          },
          "execution_count": 61,
          "metadata": {},
          "output_type": "execute_result"
        }
      ],
      "source": [
        "area.index | populacao.index"
      ]
    },
    {
      "cell_type": "markdown",
      "metadata": {
        "id": "y6HnzwdViw3J"
      },
      "source": [
        "Um alinhamento similar é realizado em índices e colunas quando operações são aplicadas a ``DataFrame``s:"
      ]
    },
    {
      "cell_type": "code",
      "execution_count": null,
      "metadata": {
        "id": "0TqAyghMiw3J",
        "outputId": "afdd2395-ef71-4061-8c98-d2ce13187854"
      },
      "outputs": [
        {
          "data": {
            "text/html": [
              "<div>\n",
              "<style scoped>\n",
              "    .dataframe tbody tr th:only-of-type {\n",
              "        vertical-align: middle;\n",
              "    }\n",
              "\n",
              "    .dataframe tbody tr th {\n",
              "        vertical-align: top;\n",
              "    }\n",
              "\n",
              "    .dataframe thead th {\n",
              "        text-align: right;\n",
              "    }\n",
              "</style>\n",
              "<table border=\"1\" class=\"dataframe\">\n",
              "  <thead>\n",
              "    <tr style=\"text-align: right;\">\n",
              "      <th></th>\n",
              "      <th>A</th>\n",
              "      <th>B</th>\n",
              "    </tr>\n",
              "  </thead>\n",
              "  <tbody>\n",
              "    <tr>\n",
              "      <th>0</th>\n",
              "      <td>1</td>\n",
              "      <td>11</td>\n",
              "    </tr>\n",
              "    <tr>\n",
              "      <th>1</th>\n",
              "      <td>5</td>\n",
              "      <td>1</td>\n",
              "    </tr>\n",
              "  </tbody>\n",
              "</table>\n",
              "</div>"
            ],
            "text/plain": [
              "   A   B\n",
              "0  1  11\n",
              "1  5   1"
            ]
          },
          "execution_count": 62,
          "metadata": {},
          "output_type": "execute_result"
        }
      ],
      "source": [
        "A = pd.DataFrame(rng.randint(0, 20, (2, 2)),\n",
        "                 columns=list('AB'))\n",
        "A"
      ]
    },
    {
      "cell_type": "code",
      "execution_count": null,
      "metadata": {
        "id": "8tChMiDViw3J",
        "outputId": "e18f51c5-d258-4486-81e0-bc0c1b1f9e3c"
      },
      "outputs": [
        {
          "data": {
            "text/html": [
              "<div>\n",
              "<style scoped>\n",
              "    .dataframe tbody tr th:only-of-type {\n",
              "        vertical-align: middle;\n",
              "    }\n",
              "\n",
              "    .dataframe tbody tr th {\n",
              "        vertical-align: top;\n",
              "    }\n",
              "\n",
              "    .dataframe thead th {\n",
              "        text-align: right;\n",
              "    }\n",
              "</style>\n",
              "<table border=\"1\" class=\"dataframe\">\n",
              "  <thead>\n",
              "    <tr style=\"text-align: right;\">\n",
              "      <th></th>\n",
              "      <th>B</th>\n",
              "      <th>A</th>\n",
              "      <th>C</th>\n",
              "    </tr>\n",
              "  </thead>\n",
              "  <tbody>\n",
              "    <tr>\n",
              "      <th>0</th>\n",
              "      <td>4</td>\n",
              "      <td>0</td>\n",
              "      <td>9</td>\n",
              "    </tr>\n",
              "    <tr>\n",
              "      <th>1</th>\n",
              "      <td>5</td>\n",
              "      <td>8</td>\n",
              "      <td>0</td>\n",
              "    </tr>\n",
              "    <tr>\n",
              "      <th>2</th>\n",
              "      <td>9</td>\n",
              "      <td>2</td>\n",
              "      <td>6</td>\n",
              "    </tr>\n",
              "  </tbody>\n",
              "</table>\n",
              "</div>"
            ],
            "text/plain": [
              "   B  A  C\n",
              "0  4  0  9\n",
              "1  5  8  0\n",
              "2  9  2  6"
            ]
          },
          "execution_count": 63,
          "metadata": {},
          "output_type": "execute_result"
        }
      ],
      "source": [
        "B = pd.DataFrame(rng.randint(0, 10, (3, 3)),\n",
        "                 columns=list('BAC'))\n",
        "B"
      ]
    },
    {
      "cell_type": "code",
      "execution_count": null,
      "metadata": {
        "id": "HYjYZtghiw3J",
        "outputId": "3850bab1-a2e9-459e-f01a-2af04e7cc4b5"
      },
      "outputs": [
        {
          "data": {
            "text/html": [
              "<div>\n",
              "<style scoped>\n",
              "    .dataframe tbody tr th:only-of-type {\n",
              "        vertical-align: middle;\n",
              "    }\n",
              "\n",
              "    .dataframe tbody tr th {\n",
              "        vertical-align: top;\n",
              "    }\n",
              "\n",
              "    .dataframe thead th {\n",
              "        text-align: right;\n",
              "    }\n",
              "</style>\n",
              "<table border=\"1\" class=\"dataframe\">\n",
              "  <thead>\n",
              "    <tr style=\"text-align: right;\">\n",
              "      <th></th>\n",
              "      <th>A</th>\n",
              "      <th>B</th>\n",
              "      <th>C</th>\n",
              "    </tr>\n",
              "  </thead>\n",
              "  <tbody>\n",
              "    <tr>\n",
              "      <th>0</th>\n",
              "      <td>1.0</td>\n",
              "      <td>15.0</td>\n",
              "      <td>NaN</td>\n",
              "    </tr>\n",
              "    <tr>\n",
              "      <th>1</th>\n",
              "      <td>13.0</td>\n",
              "      <td>6.0</td>\n",
              "      <td>NaN</td>\n",
              "    </tr>\n",
              "    <tr>\n",
              "      <th>2</th>\n",
              "      <td>NaN</td>\n",
              "      <td>NaN</td>\n",
              "      <td>NaN</td>\n",
              "    </tr>\n",
              "  </tbody>\n",
              "</table>\n",
              "</div>"
            ],
            "text/plain": [
              "      A     B   C\n",
              "0   1.0  15.0 NaN\n",
              "1  13.0   6.0 NaN\n",
              "2   NaN   NaN NaN"
            ]
          },
          "execution_count": 64,
          "metadata": {},
          "output_type": "execute_result"
        }
      ],
      "source": [
        "A + B"
      ]
    },
    {
      "cell_type": "markdown",
      "metadata": {
        "id": "-GIrJ-4Diw3J"
      },
      "source": [
        "Podemos utilizar o método ``fill_value`` para substituir os dados ausentes (*NaN*):"
      ]
    },
    {
      "cell_type": "code",
      "execution_count": null,
      "metadata": {
        "id": "1S4J_8b0iw3K",
        "outputId": "b22ba923-cfd2-4671-d3f3-cd623c11c62a"
      },
      "outputs": [
        {
          "data": {
            "text/html": [
              "<div>\n",
              "<style scoped>\n",
              "    .dataframe tbody tr th:only-of-type {\n",
              "        vertical-align: middle;\n",
              "    }\n",
              "\n",
              "    .dataframe tbody tr th {\n",
              "        vertical-align: top;\n",
              "    }\n",
              "\n",
              "    .dataframe thead th {\n",
              "        text-align: right;\n",
              "    }\n",
              "</style>\n",
              "<table border=\"1\" class=\"dataframe\">\n",
              "  <thead>\n",
              "    <tr style=\"text-align: right;\">\n",
              "      <th></th>\n",
              "      <th>A</th>\n",
              "      <th>B</th>\n",
              "      <th>C</th>\n",
              "    </tr>\n",
              "  </thead>\n",
              "  <tbody>\n",
              "    <tr>\n",
              "      <th>0</th>\n",
              "      <td>1.0</td>\n",
              "      <td>15.0</td>\n",
              "      <td>13.5</td>\n",
              "    </tr>\n",
              "    <tr>\n",
              "      <th>1</th>\n",
              "      <td>13.0</td>\n",
              "      <td>6.0</td>\n",
              "      <td>4.5</td>\n",
              "    </tr>\n",
              "    <tr>\n",
              "      <th>2</th>\n",
              "      <td>6.5</td>\n",
              "      <td>13.5</td>\n",
              "      <td>10.5</td>\n",
              "    </tr>\n",
              "  </tbody>\n",
              "</table>\n",
              "</div>"
            ],
            "text/plain": [
              "      A     B     C\n",
              "0   1.0  15.0  13.5\n",
              "1  13.0   6.0   4.5\n",
              "2   6.5  13.5  10.5"
            ]
          },
          "execution_count": 65,
          "metadata": {},
          "output_type": "execute_result"
        }
      ],
      "source": [
        "fill = A.stack().mean() # retorna média de todos os valores de A\n",
        "A.add(B, fill_value=fill) # preenche os valores ausentes com o valor armazenado na variável fill"
      ]
    },
    {
      "cell_type": "markdown",
      "metadata": {
        "id": "t0YS6nPaiw3K"
      },
      "source": [
        "Operadores em Python e seus equivalentes em Pandas:\n",
        "\n",
        "| Operador em Python  | Método(s)  em Pandas              |\n",
        "|-----------------|---------------------------------------|\n",
        "| ``+``           | ``add()``                             |\n",
        "| ``-``           | ``sub()``, ``subtract()``             |\n",
        "| ``*``           | ``mul()``, ``multiply()``             |\n",
        "| ``/``           | ``truediv()``, ``div()``, ``divide()``|\n",
        "| ``//``          | ``floordiv()``                        |\n",
        "| ``%``           | ``mod()``                             |\n",
        "| ``**``          | ``pow()``                             |\n"
      ]
    },
    {
      "cell_type": "markdown",
      "metadata": {
        "id": "46mbi8Rgiw3K"
      },
      "source": [
        "<a id=\"5\"></a> <br>\n",
        "# 5 - Combinando *DataFrames*"
      ]
    },
    {
      "cell_type": "markdown",
      "metadata": {
        "id": "GB7gxnudiw3K"
      },
      "source": [
        "A função ``pd.concat()`` pode ser utilizada para ``Series`` ou ``DataFrame`` com os seguintes parâmetros:\n",
        "\n",
        "```python\n",
        "pd.concat(<Objetos>, axis=0, join='outer', join_axes=None, ignore_index=False,\n",
        "          keys=None, levels=None, names=None, verify_integrity=False,\n",
        "          copy=True)\n",
        "```"
      ]
    },
    {
      "cell_type": "code",
      "execution_count": null,
      "metadata": {
        "id": "IfUpfrG2iw3K",
        "outputId": "0bd49bc1-21ec-4916-899d-85dd91649cc8"
      },
      "outputs": [
        {
          "data": {
            "text/plain": [
              "1    A\n",
              "2    B\n",
              "3    C\n",
              "4    D\n",
              "5    E\n",
              "6    F\n",
              "dtype: object"
            ]
          },
          "execution_count": 66,
          "metadata": {},
          "output_type": "execute_result"
        }
      ],
      "source": [
        "ser1 = pd.Series(['A', 'B', 'C'], index=[1, 2, 3])\n",
        "ser2 = pd.Series(['D', 'E', 'F'], index=[4, 5, 6])\n",
        "pd.concat([ser1, ser2])"
      ]
    },
    {
      "cell_type": "code",
      "execution_count": null,
      "metadata": {
        "id": "BStYu6viiw3L",
        "outputId": "67b31e08-a2a4-4cc1-ebad-018137605119"
      },
      "outputs": [
        {
          "data": {
            "text/html": [
              "<div>\n",
              "<style scoped>\n",
              "    .dataframe tbody tr th:only-of-type {\n",
              "        vertical-align: middle;\n",
              "    }\n",
              "\n",
              "    .dataframe tbody tr th {\n",
              "        vertical-align: top;\n",
              "    }\n",
              "\n",
              "    .dataframe thead th {\n",
              "        text-align: right;\n",
              "    }\n",
              "</style>\n",
              "<table border=\"1\" class=\"dataframe\">\n",
              "  <thead>\n",
              "    <tr style=\"text-align: right;\">\n",
              "      <th></th>\n",
              "      <th>A</th>\n",
              "      <th>B</th>\n",
              "    </tr>\n",
              "  </thead>\n",
              "  <tbody>\n",
              "    <tr>\n",
              "      <th>0</th>\n",
              "      <td>A1</td>\n",
              "      <td>B1</td>\n",
              "    </tr>\n",
              "    <tr>\n",
              "      <th>1</th>\n",
              "      <td>A2</td>\n",
              "      <td>B2</td>\n",
              "    </tr>\n",
              "    <tr>\n",
              "      <th>0</th>\n",
              "      <td>A3</td>\n",
              "      <td>B3</td>\n",
              "    </tr>\n",
              "    <tr>\n",
              "      <th>1</th>\n",
              "      <td>A4</td>\n",
              "      <td>B4</td>\n",
              "    </tr>\n",
              "  </tbody>\n",
              "</table>\n",
              "</div>"
            ],
            "text/plain": [
              "    A   B\n",
              "0  A1  B1\n",
              "1  A2  B2\n",
              "0  A3  B3\n",
              "1  A4  B4"
            ]
          },
          "execution_count": 67,
          "metadata": {},
          "output_type": "execute_result"
        }
      ],
      "source": [
        "df1 = pd.DataFrame({'A':['A1', 'A2'], 'B':['B1', 'B2']})\n",
        "df2 = pd.DataFrame({'A':['A3', 'A4'], 'B':['B3', 'B4']})\n",
        "\n",
        "pd.concat([df1, df2])"
      ]
    },
    {
      "cell_type": "markdown",
      "metadata": {
        "id": "6fOmgOtliw3L"
      },
      "source": [
        "Por padrão a 'concatenação' ocorre pelas linhas (*row-wise*), mas este comportamento pode ser modificado com o parâmetro ``axis`` (por padrão igual a 0)."
      ]
    },
    {
      "cell_type": "code",
      "execution_count": null,
      "metadata": {
        "id": "S_L2TO-3iw3L",
        "outputId": "de45f506-1dd3-4b0f-9a52-941068a105e5"
      },
      "outputs": [
        {
          "data": {
            "text/html": [
              "<div>\n",
              "<style scoped>\n",
              "    .dataframe tbody tr th:only-of-type {\n",
              "        vertical-align: middle;\n",
              "    }\n",
              "\n",
              "    .dataframe tbody tr th {\n",
              "        vertical-align: top;\n",
              "    }\n",
              "\n",
              "    .dataframe thead th {\n",
              "        text-align: right;\n",
              "    }\n",
              "</style>\n",
              "<table border=\"1\" class=\"dataframe\">\n",
              "  <thead>\n",
              "    <tr style=\"text-align: right;\">\n",
              "      <th></th>\n",
              "      <th>A</th>\n",
              "      <th>B</th>\n",
              "      <th>A</th>\n",
              "      <th>B</th>\n",
              "    </tr>\n",
              "  </thead>\n",
              "  <tbody>\n",
              "    <tr>\n",
              "      <th>0</th>\n",
              "      <td>A1</td>\n",
              "      <td>B1</td>\n",
              "      <td>A3</td>\n",
              "      <td>B3</td>\n",
              "    </tr>\n",
              "    <tr>\n",
              "      <th>1</th>\n",
              "      <td>A2</td>\n",
              "      <td>B2</td>\n",
              "      <td>A4</td>\n",
              "      <td>B4</td>\n",
              "    </tr>\n",
              "  </tbody>\n",
              "</table>\n",
              "</div>"
            ],
            "text/plain": [
              "    A   B   A   B\n",
              "0  A1  B1  A3  B3\n",
              "1  A2  B2  A4  B4"
            ]
          },
          "execution_count": 68,
          "metadata": {},
          "output_type": "execute_result"
        }
      ],
      "source": [
        "pd.concat([df1, df2], axis=1)"
      ]
    },
    {
      "cell_type": "markdown",
      "metadata": {
        "id": "VmGrIaq5iw3L"
      },
      "source": [
        "Uma característica vantajosa de Pandas é sua funcionalidade comparar e reunir `DataFrames` de forma rápida e eficiente. A principal interface para estas operações é a função ``pd.merge``. A função ``pd.merge`` implementa três tipos principais de junções um-para-um, muitos-para-um e muitos-para-muitos (*one-to-one*, *many-to-one*, and *many-to-many*)."
      ]
    },
    {
      "cell_type": "code",
      "execution_count": null,
      "metadata": {
        "id": "Oucj038biw3L",
        "outputId": "c8d378dc-735c-4b61-b409-a163773ed49b"
      },
      "outputs": [
        {
          "data": {
            "text/html": [
              "<div>\n",
              "<style scoped>\n",
              "    .dataframe tbody tr th:only-of-type {\n",
              "        vertical-align: middle;\n",
              "    }\n",
              "\n",
              "    .dataframe tbody tr th {\n",
              "        vertical-align: top;\n",
              "    }\n",
              "\n",
              "    .dataframe thead th {\n",
              "        text-align: right;\n",
              "    }\n",
              "</style>\n",
              "<table border=\"1\" class=\"dataframe\">\n",
              "  <thead>\n",
              "    <tr style=\"text-align: right;\">\n",
              "      <th></th>\n",
              "      <th>Empregado</th>\n",
              "      <th>Grupo</th>\n",
              "      <th>Data_contratacao</th>\n",
              "    </tr>\n",
              "  </thead>\n",
              "  <tbody>\n",
              "    <tr>\n",
              "      <th>0</th>\n",
              "      <td>Carlos</td>\n",
              "      <td>Contabilidade</td>\n",
              "      <td>2008</td>\n",
              "    </tr>\n",
              "    <tr>\n",
              "      <th>1</th>\n",
              "      <td>Luiz</td>\n",
              "      <td>Engenharia</td>\n",
              "      <td>2012</td>\n",
              "    </tr>\n",
              "    <tr>\n",
              "      <th>2</th>\n",
              "      <td>Livia</td>\n",
              "      <td>Engenharia</td>\n",
              "      <td>2004</td>\n",
              "    </tr>\n",
              "    <tr>\n",
              "      <th>3</th>\n",
              "      <td>João</td>\n",
              "      <td>RH</td>\n",
              "      <td>2014</td>\n",
              "    </tr>\n",
              "  </tbody>\n",
              "</table>\n",
              "</div>"
            ],
            "text/plain": [
              "  Empregado          Grupo  Data_contratacao\n",
              "0    Carlos  Contabilidade              2008\n",
              "1      Luiz     Engenharia              2012\n",
              "2     Livia     Engenharia              2004\n",
              "3      João             RH              2014"
            ]
          },
          "execution_count": 69,
          "metadata": {},
          "output_type": "execute_result"
        }
      ],
      "source": [
        "# Junção um-para-um\n",
        "df1 = pd.DataFrame({'Empregado': ['Carlos', 'Luiz', 'Livia', 'João'],\n",
        "                    'Grupo': ['Contabilidade', 'Engenharia', 'Engenharia', 'RH']})\n",
        "df2 = pd.DataFrame({'Empregado': ['Livia', 'Carlos', 'Luiz', 'João'],\n",
        "                    'Data_contratacao': [2004, 2008, 2012, 2014]})\n",
        "\n",
        "df3 = pd.merge(df1, df2)\n",
        "df3"
      ]
    },
    {
      "cell_type": "markdown",
      "metadata": {
        "id": "Y56ksqdpiw3L"
      },
      "source": [
        "Como os dois ``DataFrame`` têm uma coluna com rótulo 'Empregado', esta é reconhecida como chave e utilizada para reunir os ``DataFrames``. Note que a ordem dos itens não importa, uma vez que tenham a mesma chave."
      ]
    },
    {
      "cell_type": "markdown",
      "metadata": {
        "id": "Ijgl6gkAiw3L"
      },
      "source": [
        "Na junção muitos-para-um, uma das chaves possui entradas duplicadas em outro `DataFrame` e as mesmas são preservadas na junção."
      ]
    },
    {
      "cell_type": "code",
      "execution_count": null,
      "metadata": {
        "id": "Xwr_-Oeaiw3N",
        "outputId": "9a87af5d-2de3-4785-e5d6-0317530a50ed"
      },
      "outputs": [
        {
          "data": {
            "text/html": [
              "<div>\n",
              "<style scoped>\n",
              "    .dataframe tbody tr th:only-of-type {\n",
              "        vertical-align: middle;\n",
              "    }\n",
              "\n",
              "    .dataframe tbody tr th {\n",
              "        vertical-align: top;\n",
              "    }\n",
              "\n",
              "    .dataframe thead th {\n",
              "        text-align: right;\n",
              "    }\n",
              "</style>\n",
              "<table border=\"1\" class=\"dataframe\">\n",
              "  <thead>\n",
              "    <tr style=\"text-align: right;\">\n",
              "      <th></th>\n",
              "      <th>Empregado</th>\n",
              "      <th>Grupo</th>\n",
              "      <th>Data_contratacao</th>\n",
              "      <th>Supervisor</th>\n",
              "    </tr>\n",
              "  </thead>\n",
              "  <tbody>\n",
              "    <tr>\n",
              "      <th>0</th>\n",
              "      <td>Carlos</td>\n",
              "      <td>Contabilidade</td>\n",
              "      <td>2008</td>\n",
              "      <td>Marcelo</td>\n",
              "    </tr>\n",
              "    <tr>\n",
              "      <th>1</th>\n",
              "      <td>Luiz</td>\n",
              "      <td>Engenharia</td>\n",
              "      <td>2012</td>\n",
              "      <td>Paulo</td>\n",
              "    </tr>\n",
              "    <tr>\n",
              "      <th>2</th>\n",
              "      <td>Livia</td>\n",
              "      <td>Engenharia</td>\n",
              "      <td>2004</td>\n",
              "      <td>Paulo</td>\n",
              "    </tr>\n",
              "    <tr>\n",
              "      <th>3</th>\n",
              "      <td>João</td>\n",
              "      <td>RH</td>\n",
              "      <td>2014</td>\n",
              "      <td>Helen</td>\n",
              "    </tr>\n",
              "  </tbody>\n",
              "</table>\n",
              "</div>"
            ],
            "text/plain": [
              "  Empregado          Grupo  Data_contratacao Supervisor\n",
              "0    Carlos  Contabilidade              2008    Marcelo\n",
              "1      Luiz     Engenharia              2012      Paulo\n",
              "2     Livia     Engenharia              2004      Paulo\n",
              "3      João             RH              2014      Helen"
            ]
          },
          "execution_count": 70,
          "metadata": {},
          "output_type": "execute_result"
        }
      ],
      "source": [
        "df4 = pd.DataFrame({'Grupo': ['Contabilidade', 'Engenharia', 'RH'],\n",
        "                    'Supervisor': ['Marcelo', 'Paulo', 'Helen']})\n",
        "pd.merge(df3, df4)"
      ]
    },
    {
      "cell_type": "markdown",
      "metadata": {
        "id": "IEiLmp4miw3N"
      },
      "source": [
        "Na junção muitos-para-muitos, se as colunas em ambos `DataFrame` possuem duplicações, ambas serão levadas em conta no resultado"
      ]
    },
    {
      "cell_type": "code",
      "execution_count": null,
      "metadata": {
        "id": "BNvmjxh-iw3N",
        "outputId": "32ba3099-caee-4d53-89e5-a48e8b315f9a"
      },
      "outputs": [
        {
          "data": {
            "text/html": [
              "<div>\n",
              "<style scoped>\n",
              "    .dataframe tbody tr th:only-of-type {\n",
              "        vertical-align: middle;\n",
              "    }\n",
              "\n",
              "    .dataframe tbody tr th {\n",
              "        vertical-align: top;\n",
              "    }\n",
              "\n",
              "    .dataframe thead th {\n",
              "        text-align: right;\n",
              "    }\n",
              "</style>\n",
              "<table border=\"1\" class=\"dataframe\">\n",
              "  <thead>\n",
              "    <tr style=\"text-align: right;\">\n",
              "      <th></th>\n",
              "      <th>Empregado</th>\n",
              "      <th>Grupo</th>\n",
              "      <th>Habilidades</th>\n",
              "    </tr>\n",
              "  </thead>\n",
              "  <tbody>\n",
              "    <tr>\n",
              "      <th>0</th>\n",
              "      <td>Carlos</td>\n",
              "      <td>Contabilidade</td>\n",
              "      <td>matemática</td>\n",
              "    </tr>\n",
              "    <tr>\n",
              "      <th>1</th>\n",
              "      <td>Carlos</td>\n",
              "      <td>Contabilidade</td>\n",
              "      <td>planilhas</td>\n",
              "    </tr>\n",
              "    <tr>\n",
              "      <th>2</th>\n",
              "      <td>Luiz</td>\n",
              "      <td>Engenharia</td>\n",
              "      <td>programação</td>\n",
              "    </tr>\n",
              "    <tr>\n",
              "      <th>3</th>\n",
              "      <td>Luiz</td>\n",
              "      <td>Engenharia</td>\n",
              "      <td>linux</td>\n",
              "    </tr>\n",
              "    <tr>\n",
              "      <th>4</th>\n",
              "      <td>Livia</td>\n",
              "      <td>Engenharia</td>\n",
              "      <td>programação</td>\n",
              "    </tr>\n",
              "    <tr>\n",
              "      <th>5</th>\n",
              "      <td>Livia</td>\n",
              "      <td>Engenharia</td>\n",
              "      <td>linux</td>\n",
              "    </tr>\n",
              "    <tr>\n",
              "      <th>6</th>\n",
              "      <td>João</td>\n",
              "      <td>RH</td>\n",
              "      <td>planilhas</td>\n",
              "    </tr>\n",
              "    <tr>\n",
              "      <th>7</th>\n",
              "      <td>João</td>\n",
              "      <td>RH</td>\n",
              "      <td>linux</td>\n",
              "    </tr>\n",
              "  </tbody>\n",
              "</table>\n",
              "</div>"
            ],
            "text/plain": [
              "  Empregado          Grupo  Habilidades\n",
              "0    Carlos  Contabilidade   matemática\n",
              "1    Carlos  Contabilidade    planilhas\n",
              "2      Luiz     Engenharia  programação\n",
              "3      Luiz     Engenharia        linux\n",
              "4     Livia     Engenharia  programação\n",
              "5     Livia     Engenharia        linux\n",
              "6      João             RH    planilhas\n",
              "7      João             RH        linux"
            ]
          },
          "execution_count": 71,
          "metadata": {},
          "output_type": "execute_result"
        }
      ],
      "source": [
        "df5 = pd.DataFrame({'Grupo': ['Contabilidade', 'Contabilidade',\n",
        "                              'Engenharia', 'Engenharia', 'RH', 'RH'],\n",
        "                    'Habilidades': ['matemática', 'planilhas', 'programação', 'linux',\n",
        "                               'planilhas', 'linux']})\n",
        "pd.merge(df1, df5)"
      ]
    },
    {
      "cell_type": "code",
      "execution_count": null,
      "metadata": {
        "id": "KogCzJj8iw3N",
        "outputId": "ce9ec49a-e548-433f-826d-62c2489e07ea"
      },
      "outputs": [
        {
          "data": {
            "text/html": [
              "<div>\n",
              "<style scoped>\n",
              "    .dataframe tbody tr th:only-of-type {\n",
              "        vertical-align: middle;\n",
              "    }\n",
              "\n",
              "    .dataframe tbody tr th {\n",
              "        vertical-align: top;\n",
              "    }\n",
              "\n",
              "    .dataframe thead th {\n",
              "        text-align: right;\n",
              "    }\n",
              "</style>\n",
              "<table border=\"1\" class=\"dataframe\">\n",
              "  <thead>\n",
              "    <tr style=\"text-align: right;\">\n",
              "      <th></th>\n",
              "      <th>Empregado</th>\n",
              "      <th>Grupo</th>\n",
              "      <th>Data_contratacao</th>\n",
              "    </tr>\n",
              "  </thead>\n",
              "  <tbody>\n",
              "    <tr>\n",
              "      <th>0</th>\n",
              "      <td>Carlos</td>\n",
              "      <td>Contabilidade</td>\n",
              "      <td>2008</td>\n",
              "    </tr>\n",
              "    <tr>\n",
              "      <th>1</th>\n",
              "      <td>Luiz</td>\n",
              "      <td>Engenharia</td>\n",
              "      <td>2012</td>\n",
              "    </tr>\n",
              "    <tr>\n",
              "      <th>2</th>\n",
              "      <td>Livia</td>\n",
              "      <td>Engenharia</td>\n",
              "      <td>2004</td>\n",
              "    </tr>\n",
              "    <tr>\n",
              "      <th>3</th>\n",
              "      <td>João</td>\n",
              "      <td>RH</td>\n",
              "      <td>2014</td>\n",
              "    </tr>\n",
              "  </tbody>\n",
              "</table>\n",
              "</div>"
            ],
            "text/plain": [
              "  Empregado          Grupo  Data_contratacao\n",
              "0    Carlos  Contabilidade              2008\n",
              "1      Luiz     Engenharia              2012\n",
              "2     Livia     Engenharia              2004\n",
              "3      João             RH              2014"
            ]
          },
          "execution_count": 72,
          "metadata": {},
          "output_type": "execute_result"
        }
      ],
      "source": [
        "# podemos também especificar a coluna para unir\n",
        "pd.merge(df1, df2, on='Empregado')"
      ]
    },
    {
      "cell_type": "code",
      "execution_count": null,
      "metadata": {
        "id": "B-45U8vgiw3N",
        "outputId": "8aa0fb08-2713-4d96-8ec7-904c64d15dcd"
      },
      "outputs": [
        {
          "data": {
            "text/html": [
              "<div>\n",
              "<style scoped>\n",
              "    .dataframe tbody tr th:only-of-type {\n",
              "        vertical-align: middle;\n",
              "    }\n",
              "\n",
              "    .dataframe tbody tr th {\n",
              "        vertical-align: top;\n",
              "    }\n",
              "\n",
              "    .dataframe thead th {\n",
              "        text-align: right;\n",
              "    }\n",
              "</style>\n",
              "<table border=\"1\" class=\"dataframe\">\n",
              "  <thead>\n",
              "    <tr style=\"text-align: right;\">\n",
              "      <th></th>\n",
              "      <th>Empregado</th>\n",
              "      <th>Grupo</th>\n",
              "      <th>Nome</th>\n",
              "      <th>Salário</th>\n",
              "    </tr>\n",
              "  </thead>\n",
              "  <tbody>\n",
              "    <tr>\n",
              "      <th>0</th>\n",
              "      <td>Carlos</td>\n",
              "      <td>Contabilidade</td>\n",
              "      <td>Carlos</td>\n",
              "      <td>70000</td>\n",
              "    </tr>\n",
              "    <tr>\n",
              "      <th>1</th>\n",
              "      <td>Luiz</td>\n",
              "      <td>Engenharia</td>\n",
              "      <td>Luiz</td>\n",
              "      <td>80000</td>\n",
              "    </tr>\n",
              "    <tr>\n",
              "      <th>2</th>\n",
              "      <td>Livia</td>\n",
              "      <td>Engenharia</td>\n",
              "      <td>Livia</td>\n",
              "      <td>120000</td>\n",
              "    </tr>\n",
              "    <tr>\n",
              "      <th>3</th>\n",
              "      <td>João</td>\n",
              "      <td>RH</td>\n",
              "      <td>João</td>\n",
              "      <td>90000</td>\n",
              "    </tr>\n",
              "  </tbody>\n",
              "</table>\n",
              "</div>"
            ],
            "text/plain": [
              "  Empregado          Grupo    Nome  Salário\n",
              "0    Carlos  Contabilidade  Carlos    70000\n",
              "1      Luiz     Engenharia    Luiz    80000\n",
              "2     Livia     Engenharia   Livia   120000\n",
              "3      João             RH    João    90000"
            ]
          },
          "execution_count": 73,
          "metadata": {},
          "output_type": "execute_result"
        }
      ],
      "source": [
        "# Podemos também especificar nomes de colunas diferentes\n",
        "df3 = pd.DataFrame({'Nome': ['Carlos', 'Luiz', 'Livia', 'João'],\n",
        "                    'Salário': [70000, 80000, 120000, 90000]})\n",
        "pd.merge(df1, df3, left_on=\"Empregado\", right_on=\"Nome\")"
      ]
    },
    {
      "cell_type": "code",
      "execution_count": null,
      "metadata": {
        "id": "ewWZMD-Miw3N",
        "outputId": "9e4c913c-0bd8-4b65-d519-b954cef5d661"
      },
      "outputs": [
        {
          "data": {
            "text/html": [
              "<div>\n",
              "<style scoped>\n",
              "    .dataframe tbody tr th:only-of-type {\n",
              "        vertical-align: middle;\n",
              "    }\n",
              "\n",
              "    .dataframe tbody tr th {\n",
              "        vertical-align: top;\n",
              "    }\n",
              "\n",
              "    .dataframe thead th {\n",
              "        text-align: right;\n",
              "    }\n",
              "</style>\n",
              "<table border=\"1\" class=\"dataframe\">\n",
              "  <thead>\n",
              "    <tr style=\"text-align: right;\">\n",
              "      <th></th>\n",
              "      <th>Empregado</th>\n",
              "      <th>Grupo</th>\n",
              "      <th>Salário</th>\n",
              "    </tr>\n",
              "  </thead>\n",
              "  <tbody>\n",
              "    <tr>\n",
              "      <th>0</th>\n",
              "      <td>Carlos</td>\n",
              "      <td>Contabilidade</td>\n",
              "      <td>70000</td>\n",
              "    </tr>\n",
              "    <tr>\n",
              "      <th>1</th>\n",
              "      <td>Luiz</td>\n",
              "      <td>Engenharia</td>\n",
              "      <td>80000</td>\n",
              "    </tr>\n",
              "    <tr>\n",
              "      <th>2</th>\n",
              "      <td>Livia</td>\n",
              "      <td>Engenharia</td>\n",
              "      <td>120000</td>\n",
              "    </tr>\n",
              "    <tr>\n",
              "      <th>3</th>\n",
              "      <td>João</td>\n",
              "      <td>RH</td>\n",
              "      <td>90000</td>\n",
              "    </tr>\n",
              "  </tbody>\n",
              "</table>\n",
              "</div>"
            ],
            "text/plain": [
              "  Empregado          Grupo  Salário\n",
              "0    Carlos  Contabilidade    70000\n",
              "1      Luiz     Engenharia    80000\n",
              "2     Livia     Engenharia   120000\n",
              "3      João             RH    90000"
            ]
          },
          "execution_count": 74,
          "metadata": {},
          "output_type": "execute_result"
        }
      ],
      "source": [
        "# Podemos ainda descartar o nome redundante\n",
        "pd.merge(df1, df3, left_on=\"Empregado\", right_on=\"Nome\").drop('Nome', axis=1)"
      ]
    },
    {
      "cell_type": "code",
      "execution_count": null,
      "metadata": {
        "id": "zobn6I4Xiw3N",
        "outputId": "15159a60-903f-465e-dbdd-2c6e91f8ca82"
      },
      "outputs": [
        {
          "data": {
            "text/html": [
              "<div>\n",
              "<style scoped>\n",
              "    .dataframe tbody tr th:only-of-type {\n",
              "        vertical-align: middle;\n",
              "    }\n",
              "\n",
              "    .dataframe tbody tr th {\n",
              "        vertical-align: top;\n",
              "    }\n",
              "\n",
              "    .dataframe thead th {\n",
              "        text-align: right;\n",
              "    }\n",
              "</style>\n",
              "<table border=\"1\" class=\"dataframe\">\n",
              "  <thead>\n",
              "    <tr style=\"text-align: right;\">\n",
              "      <th></th>\n",
              "      <th>Grupo</th>\n",
              "      <th>Data_contratacao</th>\n",
              "    </tr>\n",
              "    <tr>\n",
              "      <th>Empregado</th>\n",
              "      <th></th>\n",
              "      <th></th>\n",
              "    </tr>\n",
              "  </thead>\n",
              "  <tbody>\n",
              "    <tr>\n",
              "      <th>Carlos</th>\n",
              "      <td>Contabilidade</td>\n",
              "      <td>2008</td>\n",
              "    </tr>\n",
              "    <tr>\n",
              "      <th>Luiz</th>\n",
              "      <td>Engenharia</td>\n",
              "      <td>2012</td>\n",
              "    </tr>\n",
              "    <tr>\n",
              "      <th>Livia</th>\n",
              "      <td>Engenharia</td>\n",
              "      <td>2004</td>\n",
              "    </tr>\n",
              "    <tr>\n",
              "      <th>João</th>\n",
              "      <td>RH</td>\n",
              "      <td>2014</td>\n",
              "    </tr>\n",
              "  </tbody>\n",
              "</table>\n",
              "</div>"
            ],
            "text/plain": [
              "                   Grupo  Data_contratacao\n",
              "Empregado                                 \n",
              "Carlos     Contabilidade              2008\n",
              "Luiz          Engenharia              2012\n",
              "Livia         Engenharia              2004\n",
              "João                  RH              2014"
            ]
          },
          "execution_count": 75,
          "metadata": {},
          "output_type": "execute_result"
        }
      ],
      "source": [
        "# Podemos utilizar uma lógica semelhante\n",
        "# e fazer a junção pelos índices\n",
        "df1a = df1.set_index('Empregado')\n",
        "df2a = df2.set_index('Empregado')\n",
        "\n",
        "pd.merge(df1a, df2a, left_index=True, right_index=True)"
      ]
    },
    {
      "cell_type": "code",
      "execution_count": null,
      "metadata": {
        "id": "y2ySk1Xfiw3N",
        "outputId": "bcca263a-8dcc-4792-f433-d8f024f7c106"
      },
      "outputs": [
        {
          "data": {
            "text/html": [
              "<div>\n",
              "<style scoped>\n",
              "    .dataframe tbody tr th:only-of-type {\n",
              "        vertical-align: middle;\n",
              "    }\n",
              "\n",
              "    .dataframe tbody tr th {\n",
              "        vertical-align: top;\n",
              "    }\n",
              "\n",
              "    .dataframe thead th {\n",
              "        text-align: right;\n",
              "    }\n",
              "</style>\n",
              "<table border=\"1\" class=\"dataframe\">\n",
              "  <thead>\n",
              "    <tr style=\"text-align: right;\">\n",
              "      <th></th>\n",
              "      <th>Grupo</th>\n",
              "      <th>Data_contratacao</th>\n",
              "    </tr>\n",
              "    <tr>\n",
              "      <th>Empregado</th>\n",
              "      <th></th>\n",
              "      <th></th>\n",
              "    </tr>\n",
              "  </thead>\n",
              "  <tbody>\n",
              "    <tr>\n",
              "      <th>Carlos</th>\n",
              "      <td>Contabilidade</td>\n",
              "      <td>2008</td>\n",
              "    </tr>\n",
              "    <tr>\n",
              "      <th>Luiz</th>\n",
              "      <td>Engenharia</td>\n",
              "      <td>2012</td>\n",
              "    </tr>\n",
              "    <tr>\n",
              "      <th>Livia</th>\n",
              "      <td>Engenharia</td>\n",
              "      <td>2004</td>\n",
              "    </tr>\n",
              "    <tr>\n",
              "      <th>João</th>\n",
              "      <td>RH</td>\n",
              "      <td>2014</td>\n",
              "    </tr>\n",
              "  </tbody>\n",
              "</table>\n",
              "</div>"
            ],
            "text/plain": [
              "                   Grupo  Data_contratacao\n",
              "Empregado                                 \n",
              "Carlos     Contabilidade              2008\n",
              "Luiz          Engenharia              2012\n",
              "Livia         Engenharia              2004\n",
              "João                  RH              2014"
            ]
          },
          "execution_count": 76,
          "metadata": {},
          "output_type": "execute_result"
        }
      ],
      "source": [
        "# o método 'join' também opera nos índices\n",
        "df1a.join(df2a)"
      ]
    },
    {
      "cell_type": "code",
      "execution_count": null,
      "metadata": {
        "id": "lG9xhxVciw3N",
        "outputId": "c9cf1ad4-9822-4c75-8d33-2ba359ffd4da"
      },
      "outputs": [
        {
          "data": {
            "text/html": [
              "<div>\n",
              "<style scoped>\n",
              "    .dataframe tbody tr th:only-of-type {\n",
              "        vertical-align: middle;\n",
              "    }\n",
              "\n",
              "    .dataframe tbody tr th {\n",
              "        vertical-align: top;\n",
              "    }\n",
              "\n",
              "    .dataframe thead th {\n",
              "        text-align: right;\n",
              "    }\n",
              "</style>\n",
              "<table border=\"1\" class=\"dataframe\">\n",
              "  <thead>\n",
              "    <tr style=\"text-align: right;\">\n",
              "      <th></th>\n",
              "      <th>Grupo</th>\n",
              "      <th>Nome</th>\n",
              "      <th>Salário</th>\n",
              "    </tr>\n",
              "  </thead>\n",
              "  <tbody>\n",
              "    <tr>\n",
              "      <th>0</th>\n",
              "      <td>Contabilidade</td>\n",
              "      <td>Carlos</td>\n",
              "      <td>70000</td>\n",
              "    </tr>\n",
              "    <tr>\n",
              "      <th>1</th>\n",
              "      <td>Engenharia</td>\n",
              "      <td>Luiz</td>\n",
              "      <td>80000</td>\n",
              "    </tr>\n",
              "    <tr>\n",
              "      <th>2</th>\n",
              "      <td>Engenharia</td>\n",
              "      <td>Livia</td>\n",
              "      <td>120000</td>\n",
              "    </tr>\n",
              "    <tr>\n",
              "      <th>3</th>\n",
              "      <td>RH</td>\n",
              "      <td>João</td>\n",
              "      <td>90000</td>\n",
              "    </tr>\n",
              "  </tbody>\n",
              "</table>\n",
              "</div>"
            ],
            "text/plain": [
              "           Grupo    Nome  Salário\n",
              "0  Contabilidade  Carlos    70000\n",
              "1     Engenharia    Luiz    80000\n",
              "2     Engenharia   Livia   120000\n",
              "3             RH    João    90000"
            ]
          },
          "execution_count": 77,
          "metadata": {},
          "output_type": "execute_result"
        }
      ],
      "source": [
        "# Podemos também misturar os conceitos\n",
        "pd.merge(df1a, df3, left_index=True, right_on='Nome')"
      ]
    },
    {
      "cell_type": "markdown",
      "metadata": {
        "id": "8PLBBX_Aiw3O"
      },
      "source": [
        "Podemos também especificar como a junção é feita pelo parâmetros ``how`` quem tem como padrão o valor ``\"inner\"``:"
      ]
    },
    {
      "cell_type": "code",
      "execution_count": null,
      "metadata": {
        "id": "4uBNb2tPiw3O",
        "outputId": "beeadf7a-aedc-42d4-db58-cc3b761f6818"
      },
      "outputs": [
        {
          "data": {
            "text/html": [
              "<div>\n",
              "<style scoped>\n",
              "    .dataframe tbody tr th:only-of-type {\n",
              "        vertical-align: middle;\n",
              "    }\n",
              "\n",
              "    .dataframe tbody tr th {\n",
              "        vertical-align: top;\n",
              "    }\n",
              "\n",
              "    .dataframe thead th {\n",
              "        text-align: right;\n",
              "    }\n",
              "</style>\n",
              "<table border=\"1\" class=\"dataframe\">\n",
              "  <thead>\n",
              "    <tr style=\"text-align: right;\">\n",
              "      <th></th>\n",
              "      <th>Nome</th>\n",
              "      <th>Comida</th>\n",
              "      <th>Bebida</th>\n",
              "    </tr>\n",
              "  </thead>\n",
              "  <tbody>\n",
              "    <tr>\n",
              "      <th>0</th>\n",
              "      <td>Maria</td>\n",
              "      <td>Pão</td>\n",
              "      <td>Vinho</td>\n",
              "    </tr>\n",
              "  </tbody>\n",
              "</table>\n",
              "</div>"
            ],
            "text/plain": [
              "    Nome Comida Bebida\n",
              "0  Maria    Pão  Vinho"
            ]
          },
          "execution_count": 78,
          "metadata": {},
          "output_type": "execute_result"
        }
      ],
      "source": [
        "df6 = pd.DataFrame({'Nome': ['Marcelo', 'Paula', 'Maria'],\n",
        "                    'Comida': ['Peixe', 'Feijão', 'Pão']},\n",
        "                   columns=['Nome', 'Comida'])\n",
        "df7 = pd.DataFrame({'Nome': ['Maria', 'José'],\n",
        "                    'Bebida': ['Vinho', 'Cerveja']},\n",
        "                   columns=['Nome', 'Bebida'])\n",
        "\n",
        "pd.merge(df6, df7)"
      ]
    },
    {
      "cell_type": "code",
      "execution_count": null,
      "metadata": {
        "id": "_2nf-swfiw3O",
        "outputId": "e595a492-4120-4f4a-e5c0-91aab7c1c926"
      },
      "outputs": [
        {
          "data": {
            "text/html": [
              "<div>\n",
              "<style scoped>\n",
              "    .dataframe tbody tr th:only-of-type {\n",
              "        vertical-align: middle;\n",
              "    }\n",
              "\n",
              "    .dataframe tbody tr th {\n",
              "        vertical-align: top;\n",
              "    }\n",
              "\n",
              "    .dataframe thead th {\n",
              "        text-align: right;\n",
              "    }\n",
              "</style>\n",
              "<table border=\"1\" class=\"dataframe\">\n",
              "  <thead>\n",
              "    <tr style=\"text-align: right;\">\n",
              "      <th></th>\n",
              "      <th>Nome</th>\n",
              "      <th>Comida</th>\n",
              "      <th>Bebida</th>\n",
              "    </tr>\n",
              "  </thead>\n",
              "  <tbody>\n",
              "    <tr>\n",
              "      <th>0</th>\n",
              "      <td>Maria</td>\n",
              "      <td>Pão</td>\n",
              "      <td>Vinho</td>\n",
              "    </tr>\n",
              "  </tbody>\n",
              "</table>\n",
              "</div>"
            ],
            "text/plain": [
              "    Nome Comida Bebida\n",
              "0  Maria    Pão  Vinho"
            ]
          },
          "execution_count": 79,
          "metadata": {},
          "output_type": "execute_result"
        }
      ],
      "source": [
        "pd.merge(df6, df7, how='inner')"
      ]
    },
    {
      "cell_type": "code",
      "execution_count": null,
      "metadata": {
        "id": "PbZIb41riw3O",
        "outputId": "224f9353-5012-4dfe-bd1b-708ed496d2fe"
      },
      "outputs": [
        {
          "data": {
            "text/html": [
              "<div>\n",
              "<style scoped>\n",
              "    .dataframe tbody tr th:only-of-type {\n",
              "        vertical-align: middle;\n",
              "    }\n",
              "\n",
              "    .dataframe tbody tr th {\n",
              "        vertical-align: top;\n",
              "    }\n",
              "\n",
              "    .dataframe thead th {\n",
              "        text-align: right;\n",
              "    }\n",
              "</style>\n",
              "<table border=\"1\" class=\"dataframe\">\n",
              "  <thead>\n",
              "    <tr style=\"text-align: right;\">\n",
              "      <th></th>\n",
              "      <th>Nome</th>\n",
              "      <th>Comida</th>\n",
              "      <th>Bebida</th>\n",
              "    </tr>\n",
              "  </thead>\n",
              "  <tbody>\n",
              "    <tr>\n",
              "      <th>0</th>\n",
              "      <td>Marcelo</td>\n",
              "      <td>Peixe</td>\n",
              "      <td>NaN</td>\n",
              "    </tr>\n",
              "    <tr>\n",
              "      <th>1</th>\n",
              "      <td>Paula</td>\n",
              "      <td>Feijão</td>\n",
              "      <td>NaN</td>\n",
              "    </tr>\n",
              "    <tr>\n",
              "      <th>2</th>\n",
              "      <td>Maria</td>\n",
              "      <td>Pão</td>\n",
              "      <td>Vinho</td>\n",
              "    </tr>\n",
              "    <tr>\n",
              "      <th>3</th>\n",
              "      <td>José</td>\n",
              "      <td>NaN</td>\n",
              "      <td>Cerveja</td>\n",
              "    </tr>\n",
              "  </tbody>\n",
              "</table>\n",
              "</div>"
            ],
            "text/plain": [
              "      Nome  Comida   Bebida\n",
              "0  Marcelo   Peixe      NaN\n",
              "1    Paula  Feijão      NaN\n",
              "2    Maria     Pão    Vinho\n",
              "3     José     NaN  Cerveja"
            ]
          },
          "execution_count": 80,
          "metadata": {},
          "output_type": "execute_result"
        }
      ],
      "source": [
        "# A opção `outer` faz a junção como a união das entradas\n",
        "# preenchendo os valores vazios com NAs\n",
        "pd.merge(df6, df7, how='outer')"
      ]
    },
    {
      "cell_type": "code",
      "execution_count": null,
      "metadata": {
        "id": "TCxNcu0niw3P",
        "outputId": "3dd2b672-8dcb-4220-d399-86356d17e881"
      },
      "outputs": [
        {
          "data": {
            "text/html": [
              "<div>\n",
              "<style scoped>\n",
              "    .dataframe tbody tr th:only-of-type {\n",
              "        vertical-align: middle;\n",
              "    }\n",
              "\n",
              "    .dataframe tbody tr th {\n",
              "        vertical-align: top;\n",
              "    }\n",
              "\n",
              "    .dataframe thead th {\n",
              "        text-align: right;\n",
              "    }\n",
              "</style>\n",
              "<table border=\"1\" class=\"dataframe\">\n",
              "  <thead>\n",
              "    <tr style=\"text-align: right;\">\n",
              "      <th></th>\n",
              "      <th>Nome</th>\n",
              "      <th>Comida</th>\n",
              "      <th>Bebida</th>\n",
              "    </tr>\n",
              "  </thead>\n",
              "  <tbody>\n",
              "    <tr>\n",
              "      <th>0</th>\n",
              "      <td>Marcelo</td>\n",
              "      <td>Peixe</td>\n",
              "      <td>NaN</td>\n",
              "    </tr>\n",
              "    <tr>\n",
              "      <th>1</th>\n",
              "      <td>Paula</td>\n",
              "      <td>Feijão</td>\n",
              "      <td>NaN</td>\n",
              "    </tr>\n",
              "    <tr>\n",
              "      <th>2</th>\n",
              "      <td>Maria</td>\n",
              "      <td>Pão</td>\n",
              "      <td>Vinho</td>\n",
              "    </tr>\n",
              "  </tbody>\n",
              "</table>\n",
              "</div>"
            ],
            "text/plain": [
              "      Nome  Comida Bebida\n",
              "0  Marcelo   Peixe    NaN\n",
              "1    Paula  Feijão    NaN\n",
              "2    Maria     Pão  Vinho"
            ]
          },
          "execution_count": 81,
          "metadata": {},
          "output_type": "execute_result"
        }
      ],
      "source": [
        "# As junções 'left' (esquerda) e 'right' (direita)\n",
        "# retornam DataFrames com as chaves da referência\n",
        "pd.merge(df6, df7, how='left')"
      ]
    },
    {
      "cell_type": "code",
      "execution_count": null,
      "metadata": {
        "id": "0Dcb_8xliw3P",
        "outputId": "7463ac7e-32fd-4642-b88f-d1e6cb852fbd"
      },
      "outputs": [
        {
          "data": {
            "text/html": [
              "<div>\n",
              "<style scoped>\n",
              "    .dataframe tbody tr th:only-of-type {\n",
              "        vertical-align: middle;\n",
              "    }\n",
              "\n",
              "    .dataframe tbody tr th {\n",
              "        vertical-align: top;\n",
              "    }\n",
              "\n",
              "    .dataframe thead th {\n",
              "        text-align: right;\n",
              "    }\n",
              "</style>\n",
              "<table border=\"1\" class=\"dataframe\">\n",
              "  <thead>\n",
              "    <tr style=\"text-align: right;\">\n",
              "      <th></th>\n",
              "      <th>Nome</th>\n",
              "      <th>Comida</th>\n",
              "      <th>Bebida</th>\n",
              "    </tr>\n",
              "  </thead>\n",
              "  <tbody>\n",
              "    <tr>\n",
              "      <th>0</th>\n",
              "      <td>Maria</td>\n",
              "      <td>Pão</td>\n",
              "      <td>Vinho</td>\n",
              "    </tr>\n",
              "    <tr>\n",
              "      <th>1</th>\n",
              "      <td>José</td>\n",
              "      <td>NaN</td>\n",
              "      <td>Cerveja</td>\n",
              "    </tr>\n",
              "  </tbody>\n",
              "</table>\n",
              "</div>"
            ],
            "text/plain": [
              "    Nome Comida   Bebida\n",
              "0  Maria    Pão    Vinho\n",
              "1   José    NaN  Cerveja"
            ]
          },
          "execution_count": 82,
          "metadata": {},
          "output_type": "execute_result"
        }
      ],
      "source": [
        "pd.merge(df6, df7, how='right')"
      ]
    },
    {
      "cell_type": "markdown",
      "metadata": {
        "id": "KUqfNOdCiw3P"
      },
      "source": [
        "<a id=\"6\"></a> <br>\n",
        "# 6 - Referências\n",
        "\n",
        "```{bibliography}\n",
        "```"
      ]
    },
    {
      "cell_type": "markdown",
      "metadata": {
        "id": "a-vxAyERiw3P"
      },
      "source": [
        "###### [Voltar ao topo](#top)"
      ]
    },
    {
      "cell_type": "markdown",
      "metadata": {
        "id": "Sh9HQlEdiw3P"
      },
      "source": [
        "<!--NAVIGATION-->\n",
        "< [NumPy Library](3-NumPy_Library.ipynb) | [Contents](0-Index.ipynb) | [Scikit-Learn Library](5-Scikit-Learn_Library.ipynb)  >"
      ]
    }
  ],
  "metadata": {
    "anaconda-cloud": {},
    "cite2c": {
      "citations": {
        "236589/TU28EEPW": {
          "author": [
            {
              "family": "VanderPlas",
              "given": "Jake"
            }
          ],
          "id": "236589/TU28EEPW",
          "issued": {
            "year": 2016
          },
          "publisher": " O'Reilly Media, Inc.",
          "title": "Python data science handbook: essential tools for working with data",
          "type": "book"
        }
      }
    },
    "kernelspec": {
      "display_name": "Python 3 (ipykernel)",
      "language": "python",
      "name": "python3"
    },
    "language_info": {
      "codemirror_mode": {
        "name": "ipython",
        "version": 3
      },
      "file_extension": ".py",
      "mimetype": "text/x-python",
      "name": "python",
      "nbconvert_exporter": "python",
      "pygments_lexer": "ipython3",
      "version": "3.12.4"
    },
    "colab": {
      "provenance": []
    }
  },
  "nbformat": 4,
  "nbformat_minor": 0
}