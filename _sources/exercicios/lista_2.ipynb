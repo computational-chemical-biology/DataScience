{
  "cells": [
    {
      "cell_type": "markdown",
      "source": [
        "### Exercício-001\n",
        "Crie uma matriz 3x3 com valores variando de 0 a 8:"
      ],
      "metadata": {
        "id": "S8_6xYPQISUF"
      }
    },
    {
      "cell_type": "markdown",
      "source": [
        "### Exercício-002\n",
        "Adicione uma borda ao redor de uma matriz numpy. Utilize _fancy indexing_."
      ],
      "metadata": {
        "id": "ieFoeUD9JAEp"
      }
    },
    {
      "cell_type": "markdown",
      "source": [
        "### Exercício-003\n",
        "Mude a escala uma matriz numpy de dimensões 5x5 com a seguinte formulação:\n",
        "\n",
        "$z=\\frac{x_i-\\bar{x}}{std(x)}$"
      ],
      "metadata": {
        "id": "RcyKxi_oJ3E2"
      }
    },
    {
      "cell_type": "markdown",
      "source": [
        "### Exercício-004\n",
        "Crie um `array` numpy aleatório com 10 elementos e ordene utilizando um método da biblioteca numpy.\n"
      ],
      "metadata": {
        "id": "odIjR_hULsrJ"
      }
    },
    {
      "cell_type": "markdown",
      "source": [
        "### Exercícios-005\n",
        "Considerando 2 `arrays` numpy unidimensionais com 10 valores execute as operações: `np.sum(A)`, `A * B`, `np.inner(A, B)`, `np.outer(A, B)` \n",
        "\n",
        "\n",
        "e explique o funcionamento de cada operação"
      ],
      "metadata": {
        "id": "ld-aK2J1M6Te"
      }
    },
    {
      "cell_type": "markdown",
      "source": [
        "### Exercícios-006\n",
        "Crie uma matriz no formato 10x3, extraia linhas com valores diferentes (exemplo: `[2, 2, 3]`):"
      ],
      "metadata": {
        "id": "FGn9Vy8uQKYL"
      }
    },
    {
      "cell_type": "markdown",
      "source": [
        "### Exercícios-007\n",
        "Crie duas matrizes com números aleatórios no formato 2x3, e multiplique a primeira matriz pela transposta da segunda. Explique como o resultado da multiplicação das matrizes foi obtido."
      ],
      "metadata": {
        "id": "JvVV9_-4VizW"
      }
    },
    {
      "cell_type": "markdown",
      "source": [
        "### Exercício-008\n",
        "\n",
        "Calcule o percentil de 80% no segundo eixo (_axis_) de uma matriz numpy."
      ],
      "metadata": {
        "id": "KvbfGxCWYMtt"
      }
    },
    {
      "cell_type": "markdown",
      "source": [
        "### Exercício-009\n",
        "\n",
        "Crie um programa utilizando pandas para disponibilizar um sumário básico de informações contidas em um _dataframe_:\n",
        "\n",
        "Informações que devem constar no _dataframe_:\n",
        "\n",
        "nome - ['Ana', 'Dilma', 'Catarina', 'João', 'Emilia', 'Michel', 'Mateus','Laura', 'Kevin', 'Jonas']\n",
        "\n",
        "nota - [12.5, 9, 16.5, np.nan, 9, 20, 14.5, np.nan, 8, 19]\n",
        "\n",
        "tentativas - [1, 3, 2, 3, 2, 3, 1, 1, 2, 1]\n",
        "\n",
        "qualicacao - ['yes', 'no', 'yes', 'no', 'no', 'yes', 'yes', 'no', 'no', 'yes']\n",
        "\n",
        "rotulos - ['a', 'b', 'c', 'd', 'e', 'f', 'g', 'h', 'i', 'j']"
      ],
      "metadata": {
        "id": "C9xGebpXZ5sZ"
      }
    },
    {
      "cell_type": "markdown",
      "source": [
        "### Exercício-010\n",
        "Escreva num programa para encontras os _n_ menores valores em um _dataframe_ pandas."
      ],
      "metadata": {
        "id": "lx9Kxh_rdOwS"
      }
    },
    {
      "cell_type": "markdown",
      "source": [
        "### Exercício-011\n",
        "Escreva um programa para encontrar dentro de um intervalo fixado (exemplo: $a<x<b$) e substituí-los por 0. "
      ],
      "metadata": {
        "id": "BuCMREBgkQKj"
      }
    },
    {
      "cell_type": "markdown",
      "source": [
        "### Exercício-012\n",
        "Utilize os métodos `max` para encontrar o máximo de uma coluna em _dataframe_ pandas e depois `query` para encontrar onde os valores na coluna referida são menores que o máximo."
      ],
      "metadata": {
        "id": "KgthBsthoAwp"
      }
    },
    {
      "cell_type": "markdown",
      "source": [
        "### Exercício-013\n",
        "Remova os espaços na extremidade dos nomes das colunas e transforme em minúsculo utilizando o método `.str` para o conjunto de dados listado abaixo."
      ],
      "metadata": {
        "id": "36iz1oN7p1H4"
      }
    },
    {
      "cell_type": "code",
      "source": [
        "df = pd.DataFrame({\n",
        "    'Nome': ['Alberto Franco','Giovane Pereira','Reinaldo Oliveira', 'Elen Cavalcanti', 'Paulo Freire'],\n",
        "    'Data_de_Nascimento ': ['17/05/2002','16/02/1999','25/09/1998','11/05/2002','15/09/1997'],\n",
        "    'Idade': [18.5, 21.2, 22.5, 22, 23]\n",
        "})"
      ],
      "metadata": {
        "id": "kjCnot90rbUq"
      },
      "execution_count": null,
      "outputs": []
    },
    {
      "cell_type": "markdown",
      "source": [
        "### Exercício-014\n",
        "Preencha os dados de um _dataframe_ nas posições em que os dados são nulos com um segundo _dataframe_ para o conjunto de dados listado abaixo."
      ],
      "metadata": {
        "id": "Q-9b53bArwEG"
      }
    },
    {
      "cell_type": "code",
      "source": [
        "df1 = pd.DataFrame({'A': [None, 0, None], 'B': [3, 4, 5]})\n",
        "df2 = pd.DataFrame({'A': [1, 1, 3], 'B': [3, None, 3]})"
      ],
      "metadata": {
        "id": "5VBA4alsruku"
      },
      "execution_count": 62,
      "outputs": []
    },
    {
      "cell_type": "markdown",
      "source": [
        "### Exercício-015\n",
        "Escreva um programa que primeiro concatena dois _dataframe_ e depois faz operação de união (`merge`) com um terceiro em uma coluna especificada para o conjunto de dados listado abaixo."
      ],
      "metadata": {
        "id": "8UmKSJKNtK8u"
      }
    },
    {
      "cell_type": "code",
      "source": [
        "dados_estudante1 = pd.DataFrame({\n",
        "        'codigo': ['S1', 'S2', 'S3', 'S4', 'S5'],\n",
        "         'name': ['Daniela', 'Riobaldo', 'Bruno', 'Eduardo', 'Monica'], \n",
        "        'notas': [200, 210, 190, 222, 199]})\n",
        "\n",
        "dados_estudante2 = pd.DataFrame({\n",
        "        'codigo': ['S4', 'S5', 'S6', 'S7', 'S8'],\n",
        "        'name': ['Isabela', 'Carla', 'Denise', 'Carmen', 'Madalena'], \n",
        "        'notas': [201, 200, 198, 219, 201]})\n",
        "\n",
        "exam_data = pd.DataFrame({\n",
        "        'codigo': ['S1', 'S2', 'S3', 'S4', 'S5', 'S7', 'S8', 'S9', 'S10', 'S11', 'S12', 'S13'],\n",
        "        'id_prova': [23, 45, 12, 67, 21, 55, 33, 14, 56, 83, 88, 12]})"
      ],
      "metadata": {
        "id": "QOxNqkwItgX8"
      },
      "execution_count": 65,
      "outputs": []
    },
    {
      "cell_type": "markdown",
      "source": [
        "### Exercício-016\n",
        "Escreva um programa que faz operação de união (`merge`) utilizando mais de uma coluna para o conjunto de dados listado abaixo."
      ],
      "metadata": {
        "id": "VKcRsX1Zvnyr"
      }
    },
    {
      "cell_type": "code",
      "source": [
        "import pandas as pd\n",
        "data1 = pd.DataFrame({'key1': ['K0', 'K0', 'K1', 'K2'],\n",
        "                     'key2': ['K0', 'K1', 'K0', 'K1'],\n",
        "                     'P': ['P0', 'P1', 'P2', 'P3'],\n",
        "                     'Q': ['Q0', 'Q1', 'Q2', 'Q3']}) \n",
        "data2 = pd.DataFrame({'key1': ['K0', 'K1', 'K1', 'K2'],\n",
        "                      'key2': ['K0', 'K0', 'K0', 'K0'],\n",
        "                      'R': ['R0', 'R1', 'R2', 'R3'],\n",
        "                      'S': ['S0', 'S1', 'S2', 'S3']})"
      ],
      "metadata": {
        "id": "faN_Y-P8u9Fu"
      },
      "execution_count": 69,
      "outputs": []
    }
  ],
  "metadata": {
    "colab": {
      "name": "lista_2_resolvida.ipynb",
      "provenance": []
    },
    "kernelspec": {
      "display_name": "Python 3",
      "name": "python3"
    }
  },
  "nbformat": 4,
  "nbformat_minor": 0
}