{
  "cells": [
    {
      "cell_type": "markdown",
      "metadata": {
        "id": "NOWTR7Mr1sp4"
      },
      "source": [
        "Importe uma foto do diretório _train_ listado abaixo, com o método _load_img_ do módulo `keras.preprocessing.image`. E visualize a imagem com o método _imshow_ do módulo `pyplot` da biblioteca _matplotlib_."
      ]
    },
    {
      "cell_type": "code",
      "execution_count": null,
      "metadata": {
        "id": "dRufjJzX1sp9",
        "outputId": "6086d067-d6b1-4205-a855-95d7dda65711"
      },
      "outputs": [
        {
          "name": "stdout",
          "output_type": "stream",
          "text": [
            "cats-dogs-gb-treinado.joblib  dogs_vs_cats_labels.npy  train\r\n",
            "cats-dogs-rf-treinado.joblib  dogs_vs_cats_photos.npy\r\n"
          ]
        }
      ],
      "source": [
        "!ls /srv/jupyterhub/dogs-vs-cats"
      ]
    },
    {
      "cell_type": "markdown",
      "metadata": {
        "id": "RnOikSrh1sqB"
      },
      "source": [
        "Transforme a imagem em uma matriz numérica com o método _img_to_array_ do módulo `keras.preprocessing.image`. Quais as dimensões do _array_? Por que?"
      ]
    },
    {
      "cell_type": "markdown",
      "metadata": {
        "id": "X5l6Rn2o1sqD"
      },
      "source": [
        "Utilize o método _load_ da biblioteca `numpy` para carregar os arquivos _.npy_ em variáveis _labels_ e _photos_. O que representam os _arrays_?"
      ]
    },
    {
      "cell_type": "markdown",
      "metadata": {
        "id": "O2uFyc391sqE"
      },
      "source": [
        "Inspirado no código abaixo, o que você faria para transformar o _array_ _photos_ em uma matriz onde cada linha representa uma imagem e as colunas correspondem os _pixels_ da imagem?"
      ]
    },
    {
      "cell_type": "code",
      "execution_count": null,
      "metadata": {
        "id": "FFlVWw4J1sqE",
        "outputId": "b19ff544-0489-4e92-a815-58564b44ca71"
      },
      "outputs": [
        {
          "data": {
            "text/plain": [
              "(2, 2, 2)"
            ]
          },
          "execution_count": 12,
          "metadata": {},
          "output_type": "execute_result"
        }
      ],
      "source": [
        "import numpy as np\n",
        "\n",
        "m = np.array([[[1, 2],\n",
        "               [3, 4]],\n",
        "               [[5, 6],\n",
        "               [7, 8]]])\n",
        "\n",
        "m.shape"
      ]
    },
    {
      "cell_type": "code",
      "execution_count": null,
      "metadata": {
        "id": "3nfAxiRz1sqE",
        "outputId": "28892be4-9c2a-409c-93ec-d5f63e3433fb"
      },
      "outputs": [
        {
          "data": {
            "text/plain": [
              "(2, 4)"
            ]
          },
          "execution_count": 13,
          "metadata": {},
          "output_type": "execute_result"
        }
      ],
      "source": [
        "m.reshape(2, 2*2).shape"
      ]
    },
    {
      "cell_type": "code",
      "execution_count": null,
      "metadata": {
        "id": "o5YtJohq1sqF",
        "outputId": "d53b1658-9f80-409b-cb42-9c9382aaf4cb"
      },
      "outputs": [
        {
          "data": {
            "text/plain": [
              "array([[1, 2, 3, 4],\n",
              "       [5, 6, 7, 8]])"
            ]
          },
          "execution_count": 14,
          "metadata": {},
          "output_type": "execute_result"
        }
      ],
      "source": [
        "m.reshape(2, 2*2)"
      ]
    },
    {
      "cell_type": "markdown",
      "metadata": {
        "id": "uoQSNxQ71sqG"
      },
      "source": [
        "Como você obteria uma amostra de 10% desse conjunto de dados com representação balanceada do vetor _labels_?"
      ]
    },
    {
      "cell_type": "markdown",
      "metadata": {
        "id": "jR28LfFT1sqH"
      },
      "source": [
        "Treine um modelo _Random Forest_ no subconjunto de 10% dos seus dados. E obtenha a acurácia em um segundo conjunto de 10% dos dados."
      ]
    },
    {
      "cell_type": "markdown",
      "metadata": {
        "id": "qQMOrMLY1sqH"
      },
      "source": [
        "Carregue os modelos treinados, armazenados nos arquivos _.joblib_ com o módulo _load_ da biblioteca `jobllib` e obtenha a acurácia no mesmo conjunto que você testou o seu modelo."
      ]
    },
    {
      "cell_type": "markdown",
      "metadata": {
        "id": "Qt6X2oms1sqK"
      },
      "source": [
        "Carregue uma nova foto, utilizando o parâmetro `target_size=(x, y)` para carregar a foto com o número de pixels apropriado para o seu modelo. Reformate a matriz de dados e faça a predição da classe (1 - Cachorro, 0 - Gato)."
      ]
    }
  ],
  "metadata": {
    "kernelspec": {
      "display_name": "Python 3",
      "language": "python",
      "name": "python3"
    },
    "language_info": {
      "codemirror_mode": {
        "name": "ipython",
        "version": 3
      },
      "file_extension": ".py",
      "mimetype": "text/x-python",
      "name": "python",
      "nbconvert_exporter": "python",
      "pygments_lexer": "ipython3",
      "version": "3.6.10"
    },
    "colab": {
      "provenance": []
    }
  },
  "nbformat": 4,
  "nbformat_minor": 0
}