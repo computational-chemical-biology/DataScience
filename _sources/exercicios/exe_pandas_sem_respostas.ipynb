{
  "cells": [
    {
      "cell_type": "code",
      "execution_count": null,
      "metadata": {
        "id": "lIYdn1woOS1n"
      },
      "outputs": [],
      "source": [
        "import pandas as pd"
      ]
    },
    {
      "cell_type": "markdown",
      "source": [
        "Importe os dados alterando os parâmetros de separador e da casa decimal."
      ],
      "metadata": {
        "id": "fIF9Ave0aF90"
      }
    },
    {
      "cell_type": "markdown",
      "source": [
        "Crie uma tabela com as infornmações de município e índice de governança."
      ],
      "metadata": {
        "id": "58khmI_3-oUq"
      }
    },
    {
      "cell_type": "markdown",
      "source": [
        "Conte os valores de cada categoria na coluna 'porte'."
      ],
      "metadata": {
        "id": "gjt_VIvc_ECZ"
      }
    },
    {
      "cell_type": "markdown",
      "source": [
        "Faça um gráfico de barras com as contagens descritas acima."
      ],
      "metadata": {
        "id": "NPgKn2j8_SGS"
      }
    },
    {
      "cell_type": "markdown",
      "source": [
        "Faça o sumário da percepção da população economicamente ativa (perc_pop_econ_ativa) para região Nordeste apenas (variável região)."
      ],
      "metadata": {
        "id": "3MH2_PdXTw3l"
      }
    },
    {
      "cell_type": "markdown",
      "source": [
        "Ordene as cidades do nordeste apenas, por população."
      ],
      "metadata": {
        "id": "DTOKiasJVVhQ"
      }
    },
    {
      "cell_type": "markdown",
      "source": [
        "Crie um _DataFrame_ com a cidade e a densidade populacional (população/área)."
      ],
      "metadata": {
        "id": "HFEQ6E_tV34y"
      }
    },
    {
      "cell_type": "markdown",
      "source": [
        "Faça um boxplot do índice de governança por região."
      ],
      "metadata": {
        "id": "6zOfmIh_XPi2"
      }
    },
    {
      "cell_type": "markdown",
      "source": [
        "Obtenha o PIB per capita por região."
      ],
      "metadata": {
        "id": "3L_OXwgtYz4Y"
      }
    },
    {
      "cell_type": "markdown",
      "source": [
        "Faça um diagrama de dispersão do gasto per capita por saúde pelo gasto da educação."
      ],
      "metadata": {
        "id": "QTC1un87ZdpC"
      }
    }
  ],
  "metadata": {
    "colab": {
      "provenance": []
    },
    "kernelspec": {
      "display_name": "Python 3",
      "name": "python3"
    }
  },
  "nbformat": 4,
  "nbformat_minor": 0
}