{
  "cells": [
    {
      "cell_type": "markdown",
      "metadata": {
        "id": "dudlmH8MeBzn"
      },
      "source": [
        "#### <!--NAVIGATION-->\n",
        "< [Introduction to python programming language](1-Introduction_to_python_programming_language.ipynb) | [Contents](0-Index.ipynb) | [Logical Operations](2.2-Logical_Operations.ipynb) >"
      ]
    },
    {
      "cell_type": "markdown",
      "metadata": {
        "id": "uJEltrtLeBzo"
      },
      "source": [
        "# 2.1 Conceitos básicos de programação\n",
        "## 2.1.1 Estruturas de dados"
      ]
    },
    {
      "cell_type": "markdown",
      "metadata": {
        "id": "GB_AtOJUeBzp"
      },
      "source": [
        "[![Open In Colab](https://colab.research.google.com/assets/colab-badge.svg)](http://colab.research.google.com/github/computational-chemical-biology/DataScience/blob/master/2.1-Data_Structures.ipynb)"
      ]
    },
    {
      "cell_type": "markdown",
      "metadata": {
        "_uuid": "85b27cf82d3023fd69c338df2be7afb2d7afaf32",
        "id": "38H8pg7DeBzp"
      },
      "source": [
        " <a id=\"top\"></a> <br>\n",
        "**Conteúdo do *Notebook***\n",
        "1. [Conceitos básicos](#11)\n",
        "    1. [Variáveis](#111)\n",
        "    1. [Operadores](#112)\n",
        "2. [Estruturas](#2)\n",
        "    1. [Estruturas simples](#21)\n",
        "    1. [Estruturas](#22)\n",
        "3. [Referências](#3)"
      ]
    },
    {
      "cell_type": "markdown",
      "metadata": {
        "_uuid": "a276b26993c902362e522d8a29a67ef670db103d",
        "id": "FeHKie6LeBzp"
      },
      "source": [
        "<a id=\"11\"></a> <br>\n",
        "## 1 - Conceitos básicos\n"
      ]
    },
    {
      "cell_type": "markdown",
      "metadata": {
        "_uuid": "46d2f5efcea352bda6ee7f8721be0001548440f1",
        "id": "QOnxq9KZeBzp"
      },
      "source": [
        "<a id=\"111\"></a> <br>\n",
        "### 1.1 Variáveis\n",
        "\n",
        "Variáveis podem ser consideradas __recipientes__. Você pode alocar qualquer valor dentro de um recipiente, __sem especificar o tamanho ou tipo__, que geralmente são necessários em outras linguagens de programação. Note que Python é sensivel a letras maiúsculas e minúsculas (*case-sensitive*).\n",
        "\n",
        "Ao atribuir valores, se coloca a variável a ser criada do lado esquerdo, enquanto o valor a ser atribuido fica do lado direito. A variável e o valor são conectados pelo símbolo (`=`), que significa atribuição <cite data-cite=\"236589/5T4T73QM\"></cite>."
      ]
    },
    {
      "cell_type": "markdown",
      "metadata": {
        "id": "TB8pxf9geBzq"
      },
      "source": [
        "Nomes de variáveis não podem conter espaços em branco. Se recomenda o uso de \"_\" em nomes extensos."
      ]
    },
    {
      "cell_type": "code",
      "execution_count": null,
      "metadata": {
        "_kg_hide-input": true,
        "_uuid": "52c065c046f96806741321dcc3e40dffec8f75fe",
        "id": "NtIo-zcUeBzq",
        "outputId": "b8b62b0e-61a8-43be-da5f-3123f885b247"
      },
      "outputs": [
        {
          "name": "stdout",
          "output_type": "stream",
          "text": [
            "2 0.5 Oi 2.5\n"
          ]
        }
      ],
      "source": [
        "# Python é digitado dinamicamente.\n",
        "x = 2\n",
        "y = .5\n",
        "xy = 'Oi'\n",
        "z = x+y\n",
        "print(x,y,xy,z)"
      ]
    },
    {
      "cell_type": "markdown",
      "metadata": {
        "id": "iCZAH7WbeBzr"
      },
      "source": [
        "Vamos ver o tipo das variáveis"
      ]
    },
    {
      "cell_type": "code",
      "execution_count": null,
      "metadata": {
        "id": "gSEWWDMPeBzr",
        "outputId": "ad8a71fa-0c1e-4651-d988-9a17f6ebed8e"
      },
      "outputs": [
        {
          "data": {
            "text/plain": [
              "int"
            ]
          },
          "execution_count": 3,
          "metadata": {},
          "output_type": "execute_result"
        }
      ],
      "source": [
        "type(x)"
      ]
    },
    {
      "cell_type": "code",
      "execution_count": null,
      "metadata": {
        "id": "qIu6X8CZeBzr",
        "outputId": "7e9783bf-798d-43ca-b2f1-4ddca8c2fd71"
      },
      "outputs": [
        {
          "data": {
            "text/plain": [
              "float"
            ]
          },
          "execution_count": 4,
          "metadata": {},
          "output_type": "execute_result"
        }
      ],
      "source": [
        "type(y)"
      ]
    },
    {
      "cell_type": "code",
      "execution_count": null,
      "metadata": {
        "id": "VYwSChuleBzs"
      },
      "outputs": [],
      "source": [
        "y = 2"
      ]
    },
    {
      "cell_type": "code",
      "execution_count": null,
      "metadata": {
        "id": "DhHWpugveBzs",
        "outputId": "545934e0-f041-4598-8423-1d93bd19dd7d"
      },
      "outputs": [
        {
          "data": {
            "text/plain": [
              "int"
            ]
          },
          "execution_count": 6,
          "metadata": {},
          "output_type": "execute_result"
        }
      ],
      "source": [
        "type(y)"
      ]
    },
    {
      "cell_type": "markdown",
      "metadata": {
        "_uuid": "762c34fcdeed69fc79fb84d7bb86c5baf8f9152e",
        "id": "woDa-dfEeBzs"
      },
      "source": [
        "<a id=\"112\"></a> <br>\n",
        "### 1.2 Operadores"
      ]
    },
    {
      "cell_type": "markdown",
      "metadata": {
        "_uuid": "9dcd3e4436aa8050f116b6f7157cc986e762c794",
        "id": "O88chGnMeBzs"
      },
      "source": [
        "> <font color=\"red\"><b>Nota</b></font>\n",
        "\n",
        ">>\n",
        "Python suporta diferentes tipos de operadores [*clique para uma lista completa*](https://www.tutorialspoint.com/python/python_basic_operators.htm).\n",
        "\n",
        "#### Operadores aritméticos\n",
        "\n",
        "| Símbolo | Operação |\n",
        "|----|---|\n",
        "| +  | Adição |\n",
        "| -  | Subtração |\n",
        "| /  | Divisão |\n",
        "| %  | Resto |\n",
        "| *  | Multiplicação |\n",
        "| //  | Divisão de piso (*floor division*) |\n",
        "| **  | Potência |\n",
        "\n",
        "\n",
        "###### [Voltar ao topo](#top)"
      ]
    },
    {
      "cell_type": "markdown",
      "metadata": {
        "id": "0f_5ZTMXeBzs"
      },
      "source": [
        "<a id=\"2\"></a> <br>\n",
        "## 2 - Estruturas"
      ]
    },
    {
      "cell_type": "markdown",
      "metadata": {
        "id": "R_KMRyq5eBzs"
      },
      "source": [
        "<a id=\"21\"></a> <br>\n",
        "### 2.1 - Estruturas simples"
      ]
    },
    {
      "cell_type": "markdown",
      "metadata": {
        "id": "J4w8y9peeBzt"
      },
      "source": [
        "Nesta seção, os tipos de dados considerados [primitivos](https://www.datacamp.com/community/tutorials/data-structures-python#adt) em Python."
      ]
    },
    {
      "cell_type": "markdown",
      "metadata": {
        "id": "S9j4ktXzeBzt"
      },
      "source": [
        "#### Números"
      ]
    },
    {
      "cell_type": "markdown",
      "metadata": {
        "id": "3r8xdA4XeBzt"
      },
      "source": [
        "Em Python números inteiros (*integer*) são denominados `int`."
      ]
    },
    {
      "cell_type": "code",
      "execution_count": null,
      "metadata": {
        "id": "C4NoItz1eBzt",
        "outputId": "17152467-eced-4618-86ba-3650920291cb"
      },
      "outputs": [
        {
          "data": {
            "text/plain": [
              "int"
            ]
          },
          "execution_count": 23,
          "metadata": {},
          "output_type": "execute_result"
        }
      ],
      "source": [
        "x = 3\n",
        "type(x)"
      ]
    },
    {
      "cell_type": "markdown",
      "metadata": {
        "id": "r3pt1W1ieBzt"
      },
      "source": [
        "As frações (*floating point*) são denominadas `float`."
      ]
    },
    {
      "cell_type": "code",
      "execution_count": null,
      "metadata": {
        "id": "tAXToJz7eBzt",
        "outputId": "c3adedbb-5cbe-4c0d-d15a-e3181dfcf629"
      },
      "outputs": [
        {
          "data": {
            "text/plain": [
              "float"
            ]
          },
          "execution_count": 24,
          "metadata": {},
          "output_type": "execute_result"
        }
      ],
      "source": [
        "y = 3.0\n",
        "type(y)"
      ]
    },
    {
      "cell_type": "markdown",
      "metadata": {
        "id": "YfwYBfvEeBzt"
      },
      "source": [
        "Podemos aplicar os operadores aritméticos observadas acima, mas devemos estar atentos a __conversão de tipos__."
      ]
    },
    {
      "cell_type": "code",
      "execution_count": null,
      "metadata": {
        "id": "obY5Wt8AeBzu",
        "outputId": "d36cf66d-ee24-4599-b733-febc1a647373"
      },
      "outputs": [
        {
          "data": {
            "text/plain": [
              "int"
            ]
          },
          "execution_count": 25,
          "metadata": {},
          "output_type": "execute_result"
        }
      ],
      "source": [
        "z = 2 * x\n",
        "type(z)"
      ]
    },
    {
      "cell_type": "code",
      "execution_count": null,
      "metadata": {
        "id": "CBybz9h0eBzu",
        "outputId": "d4bf3c1f-90c8-4c88-cf3f-cb6e071fdac9"
      },
      "outputs": [
        {
          "data": {
            "text/plain": [
              "float"
            ]
          },
          "execution_count": 26,
          "metadata": {},
          "output_type": "execute_result"
        }
      ],
      "source": [
        "z = y + x\n",
        "type(z)"
      ]
    },
    {
      "cell_type": "markdown",
      "metadata": {
        "id": "0MBrZ54peBzu"
      },
      "source": [
        "#### Caracteres"
      ]
    },
    {
      "cell_type": "markdown",
      "metadata": {
        "id": "FAoeh2iXeBzu"
      },
      "source": [
        "Em Python, utilizamos o tipo `str` para armazenar letras, palavras e qualquer outro caractere."
      ]
    },
    {
      "cell_type": "code",
      "execution_count": null,
      "metadata": {
        "id": "HPuKrK3OeBzu",
        "outputId": "7c42b870-048f-491a-dcec-18fb533b3632"
      },
      "outputs": [
        {
          "data": {
            "text/plain": [
              "str"
            ]
          },
          "execution_count": 27,
          "metadata": {},
          "output_type": "execute_result"
        }
      ],
      "source": [
        "minha_palavra = \"queijo\"\n",
        "type(minha_palavra)"
      ]
    },
    {
      "cell_type": "markdown",
      "metadata": {
        "id": "od1iuDvheBzu"
      },
      "source": [
        "Diferentemente de números, `str` são objetos iteráveis, o que significa que podemos ter acesso a cada caractere individual. Como veremos em detalhes adiante, em Python os índices se iniciam com o número 0."
      ]
    },
    {
      "cell_type": "code",
      "execution_count": null,
      "metadata": {
        "id": "pHLKKJJ8eBzu",
        "outputId": "a83b4cfc-fe31-4c98-cfd3-7e23e31bc1ea"
      },
      "outputs": [
        {
          "data": {
            "text/plain": [
              "('q', 'ei')"
            ]
          },
          "execution_count": 28,
          "metadata": {},
          "output_type": "execute_result"
        }
      ],
      "source": [
        "minha_palavra[0], minha_palavra[2:4]"
      ]
    },
    {
      "cell_type": "markdown",
      "metadata": {
        "id": "2wi6H7seeBzu"
      },
      "source": [
        "Podemos utilizar o operador `+` para concatenar caracteres diferentes  "
      ]
    },
    {
      "cell_type": "code",
      "execution_count": null,
      "metadata": {
        "id": "Jh6n4aeCeBzu",
        "outputId": "34870066-ed83-40a1-8558-721c419b3ffa"
      },
      "outputs": [
        {
          "data": {
            "text/plain": [
              "'queijo Minas'"
            ]
          },
          "execution_count": 29,
          "metadata": {},
          "output_type": "execute_result"
        }
      ],
      "source": [
        "minha_palavra + ' Minas'"
      ]
    },
    {
      "cell_type": "markdown",
      "metadata": {
        "id": "kL6GwN3PeBzw"
      },
      "source": [
        "#### *Boolean*"
      ]
    },
    {
      "cell_type": "markdown",
      "metadata": {
        "id": "ngxN6ZkheBzw"
      },
      "source": [
        "O tipo *boolean* é útil quando necessitamos checar uma condição, por exemplo:"
      ]
    },
    {
      "cell_type": "code",
      "execution_count": null,
      "metadata": {
        "id": "mW0d6GEHeBzw",
        "outputId": "a385c31c-e155-4451-91b8-f8d95061e01d"
      },
      "outputs": [
        {
          "data": {
            "text/plain": [
              "(False, bool)"
            ]
          },
          "execution_count": 30,
          "metadata": {},
          "output_type": "execute_result"
        }
      ],
      "source": [
        "erro = 1.6\n",
        "compare_resultado = erro < 0.1\n",
        "compare_resultado, type(compare_resultado)"
      ]
    },
    {
      "cell_type": "markdown",
      "metadata": {
        "id": "HDddDObgeBzw"
      },
      "source": [
        "Existem apenas dois *booleans* válidos: `True` e `False`. Nós também podemos pensar em `1` e `0`, respectivamente."
      ]
    },
    {
      "cell_type": "code",
      "execution_count": null,
      "metadata": {
        "id": "KB7AH1qceBzw",
        "outputId": "11470ae6-fd7c-4539-a7a5-1f3bc1f92881"
      },
      "outputs": [
        {
          "data": {
            "text/plain": [
              "True"
            ]
          },
          "execution_count": 31,
          "metadata": {},
          "output_type": "execute_result"
        }
      ],
      "source": [
        "erro > 0"
      ]
    },
    {
      "cell_type": "markdown",
      "metadata": {
        "id": "SkhzfhWVeBzw"
      },
      "source": [
        "Quando usamos valores *boolean* para operações aritméticas, elas automaticamente se tornam `1/0`."
      ]
    },
    {
      "cell_type": "code",
      "execution_count": null,
      "metadata": {
        "id": "sd1tP8XZeBzw",
        "outputId": "d8501e09-5805-4cf8-bafa-409908dd8644"
      },
      "outputs": [
        {
          "data": {
            "text/plain": [
              "3"
            ]
          },
          "execution_count": 32,
          "metadata": {},
          "output_type": "execute_result"
        }
      ],
      "source": [
        "(erro>0) + 2"
      ]
    },
    {
      "cell_type": "markdown",
      "metadata": {
        "id": "pbb0n3OSeBzx"
      },
      "source": [
        "#### Conversão de tipos"
      ]
    },
    {
      "cell_type": "markdown",
      "metadata": {
        "id": "aIvYergIeBzx"
      },
      "source": [
        "Uma vez que variáveis no Python são dinamicamente digitadas, é necessário ser cauteloso com as conversões.\n",
        "\n",
        "Quando duas variáveis compartilham o mesmo tipo, não há conversão."
      ]
    },
    {
      "cell_type": "code",
      "execution_count": null,
      "metadata": {
        "id": "tBt5AjiDeBzx",
        "outputId": "a9d42d95-9703-44af-eb46-b965bc62b3e3"
      },
      "outputs": [
        {
          "data": {
            "text/plain": [
              "'sem problemas. Até mais...'"
            ]
          },
          "execution_count": 33,
          "metadata": {},
          "output_type": "execute_result"
        }
      ],
      "source": [
        "s1 = \"sem problemas. \"\n",
        "s2 = \"Até mais...\"\n",
        "s1 + s2"
      ]
    },
    {
      "cell_type": "markdown",
      "metadata": {
        "id": "inAzcCBqeBzx"
      },
      "source": [
        "Cuidado quando variáveis são reunidas:"
      ]
    },
    {
      "cell_type": "code",
      "execution_count": null,
      "metadata": {
        "id": "6CWWG-K9eBzx"
      },
      "outputs": [],
      "source": [
        "a = 3 # relembre esse número é um ____?\n",
        "b = 2.7 # e este?\n",
        "c = a + b # qual o tipo de `c`?"
      ]
    },
    {
      "cell_type": "markdown",
      "metadata": {
        "id": "snphr-2QeBzx"
      },
      "source": [
        "Para fazer as coisas funcionarem entre caracteres e números, podemos explicitamente converter números em `str`:"
      ]
    },
    {
      "cell_type": "code",
      "execution_count": null,
      "metadata": {
        "ExecuteTime": {
          "end_time": "2018-10-09T00:07:59.974061Z",
          "start_time": "2018-10-09T00:07:59.964373Z"
        },
        "id": "oEWV8Px7eBzx",
        "outputId": "e25ab74f-8ce0-4af2-da43-531dccfc58a3"
      },
      "outputs": [
        {
          "ename": "TypeError",
          "evalue": "can only concatenate str (not \"int\") to str",
          "output_type": "error",
          "traceback": [
            "\u001b[0;31m---------------------------------------------------------------------------\u001b[0m",
            "\u001b[0;31mTypeError\u001b[0m                                 Traceback (most recent call last)",
            "\u001b[0;32m<ipython-input-35-f90ed9df3b77>\u001b[0m in \u001b[0;36m<module>\u001b[0;34m\u001b[0m\n\u001b[0;32m----> 1\u001b[0;31m \u001b[0ms1\u001b[0m \u001b[0;34m+\u001b[0m \u001b[0;36m3\u001b[0m\u001b[0;34m\u001b[0m\u001b[0;34m\u001b[0m\u001b[0m\n\u001b[0m",
            "\u001b[0;31mTypeError\u001b[0m: can only concatenate str (not \"int\") to str"
          ]
        }
      ],
      "source": [
        "s1 + 3"
      ]
    },
    {
      "cell_type": "code",
      "execution_count": null,
      "metadata": {
        "ExecuteTime": {
          "end_time": "2018-10-09T00:08:04.034457Z",
          "start_time": "2018-10-09T00:08:04.027842Z"
        },
        "id": "H6AFnzveeBzy",
        "outputId": "ce751cac-23e0-43d1-fd93-006b2d4a03c8"
      },
      "outputs": [
        {
          "data": {
            "text/plain": [
              "'sem problemas. 3'"
            ]
          },
          "execution_count": 36,
          "metadata": {},
          "output_type": "execute_result"
        }
      ],
      "source": [
        "s1 + str(3)"
      ]
    },
    {
      "cell_type": "markdown",
      "metadata": {
        "id": "KQhueozteBzy"
      },
      "source": [
        "<a id=\"22\"></a> <br>\n",
        "### 2.2 - Estruturas"
      ]
    },
    {
      "cell_type": "markdown",
      "metadata": {
        "id": "7YY-d2qleBzy"
      },
      "source": [
        "Nessa seção, discutiremos algumas estruturas de dados ___nonprimitive___ em Python.\n",
        "\n",
        "Nós podemos pensar em tipos ___nonprimitive___ como aqueles que podem armazenar dados do tipo ___primitive___."
      ]
    },
    {
      "cell_type": "markdown",
      "metadata": {
        "id": "WgugaY99eBzy"
      },
      "source": [
        "#### Lista"
      ]
    },
    {
      "cell_type": "markdown",
      "metadata": {
        "id": "P4b9Wtt6eBzy"
      },
      "source": [
        "Inicialize uma lista com colchetes. Pode se armazenar qualquer tipo em uma lista simultaneamente.\n",
        "- note o uso [___string formatting___](https://pyformat.info/) para representar caracteres\n",
        "- `%i` é um espaço reservado para `int`\n",
        "- `%s` para `str`"
      ]
    },
    {
      "cell_type": "code",
      "execution_count": null,
      "metadata": {
        "ExecuteTime": {
          "end_time": "2018-10-09T00:10:24.538230Z",
          "start_time": "2018-10-09T00:10:24.528793Z"
        },
        "id": "uysRkVeieBzy",
        "outputId": "5a4d7bb7-e511-4441-caf9-36ad360e3eb6"
      },
      "outputs": [
        {
          "name": "stdout",
          "output_type": "stream",
          "text": [
            "O tamanho da lista é: 3\n",
            "O 3rd elemento da lista é: 3\n",
            "O ultimo elemento da lista é: 3\n",
            "A soma da lista é 6.00\n"
          ]
        }
      ],
      "source": [
        "uma_lista = [1, 2, 3] # vírgulas separam os elementos\n",
        "print(\"O tamanho da lista é: %i\"%(len(uma_lista)))\n",
        "print(\"O 3rd elemento da lista é: %s\" %(uma_lista[2])) # Lembre-se em Python contagens começam com 0\n",
        "print(\"O ultimo elemento da lista é: %s\" %(uma_lista[-1])) # -1 significa o fim da lista\n",
        "print(\"A soma da lista é %.2f\"%(sum(uma_lista)))"
      ]
    },
    {
      "cell_type": "markdown",
      "metadata": {
        "ExecuteTime": {
          "end_time": "2018-10-09T00:10:32.820098Z",
          "start_time": "2018-10-09T00:10:32.815341Z"
        },
        "id": "guy_8D-FeBzz"
      },
      "source": [
        "Podemos criar uma lista com tipos diferentes"
      ]
    },
    {
      "cell_type": "code",
      "execution_count": null,
      "metadata": {
        "ExecuteTime": {
          "end_time": "2018-10-09T00:10:35.486742Z",
          "start_time": "2018-10-09T00:10:35.479281Z"
        },
        "id": "Sk2OlrfieBzz",
        "outputId": "d6bb3d58-5e00-40d9-cb4d-8e279a0825fd"
      },
      "outputs": [
        {
          "data": {
            "text/plain": [
              "[20, True, 'bom', 'bom']"
            ]
          },
          "execution_count": 38,
          "metadata": {},
          "output_type": "execute_result"
        }
      ],
      "source": [
        "b_lista = [20, True, \"bom\", \"bom\"]\n",
        "b_lista"
      ]
    },
    {
      "cell_type": "markdown",
      "metadata": {
        "id": "YcHIvWUEeBzz"
      },
      "source": [
        "Atualizando uma lista: __pop__, __remove__, __append__, __extend__"
      ]
    },
    {
      "cell_type": "code",
      "execution_count": null,
      "metadata": {
        "ExecuteTime": {
          "end_time": "2018-10-09T00:10:41.107486Z",
          "start_time": "2018-10-09T00:10:41.102493Z"
        },
        "id": "I65wupBXeBzz",
        "outputId": "226f24e8-ac8b-4136-98a9-d373901eab7b"
      },
      "outputs": [
        {
          "name": "stdout",
          "output_type": "stream",
          "text": [
            "[1, 2, 3]\n",
            "Pop 2 fora da lista\n",
            "[1, 3]\n"
          ]
        }
      ],
      "source": [
        "print(uma_lista)\n",
        "print(\"Pop %i fora da lista\"%uma_lista.pop(1)) # pop remove o valor do índice informado\n",
        "print(uma_lista)"
      ]
    },
    {
      "cell_type": "code",
      "execution_count": null,
      "metadata": {
        "ExecuteTime": {
          "end_time": "2018-10-09T00:10:43.906572Z",
          "start_time": "2018-10-09T00:10:43.899877Z"
        },
        "id": "k5YFKxz9eBzz",
        "outputId": "b4bf7551-78b8-4292-f547-a53c13246570"
      },
      "outputs": [
        {
          "name": "stdout",
          "output_type": "stream",
          "text": [
            "Remove o caractere bom da lista:\n",
            "[20, True, 'bom']\n"
          ]
        }
      ],
      "source": [
        "print(\"Remove o caractere bom da lista:\")\n",
        "b_lista.remove(\"bom\") # remove o primeiro valor igual ao especificado\n",
        "print(b_lista)"
      ]
    },
    {
      "cell_type": "code",
      "execution_count": null,
      "metadata": {
        "ExecuteTime": {
          "end_time": "2018-10-09T00:10:45.307563Z",
          "start_time": "2018-10-09T00:10:45.302951Z"
        },
        "id": "oSfN_HiFeBz0",
        "outputId": "37d9d29e-b3f4-4f2d-d809-a91d02f793bc"
      },
      "outputs": [
        {
          "name": "stdout",
          "output_type": "stream",
          "text": [
            "Depois de adicionar um novo valor, uma_lista é agora: [1, 3, 10]\n"
          ]
        }
      ],
      "source": [
        "uma_lista.append(10)\n",
        "print(\"Depois de adicionar um novo valor, uma_lista é agora: %s\"%(str(uma_lista)))"
      ]
    },
    {
      "cell_type": "markdown",
      "metadata": {
        "ExecuteTime": {
          "end_time": "2018-10-09T00:10:45.952388Z",
          "start_time": "2018-10-09T00:10:45.943473Z"
        },
        "id": "WORovMK7eBz0"
      },
      "source": [
        "Fundir `uma_lista` e `b_lista`:"
      ]
    },
    {
      "cell_type": "code",
      "execution_count": null,
      "metadata": {
        "ExecuteTime": {
          "end_time": "2018-10-09T00:12:02.249064Z",
          "start_time": "2018-10-09T00:12:02.241901Z"
        },
        "id": "IcU4CJl4eBz0",
        "outputId": "71c6b2a9-e7a4-463d-e2bd-a34b7467eb0c"
      },
      "outputs": [
        {
          "name": "stdout",
          "output_type": "stream",
          "text": [
            "Fundindo uma_lista and b_lista: [1, 3, 10, 20, True, 'bom']\n"
          ]
        }
      ],
      "source": [
        "uma_lista.extend(b_lista)\n",
        "print(\"Fundindo uma_lista and b_lista: %s\"%(str(uma_lista)))"
      ]
    },
    {
      "cell_type": "markdown",
      "metadata": {
        "ExecuteTime": {
          "end_time": "2018-10-09T00:10:45.952388Z",
          "start_time": "2018-10-09T00:10:45.943473Z"
        },
        "id": "BHvSDgwDeBz0"
      },
      "source": [
        "Também podemos usar `+` unir duas listas"
      ]
    },
    {
      "cell_type": "code",
      "execution_count": null,
      "metadata": {
        "ExecuteTime": {
          "end_time": "2018-10-09T00:12:03.301969Z",
          "start_time": "2018-10-09T00:12:03.295626Z"
        },
        "id": "g0cPyXZTeBz0",
        "outputId": "e536cbc2-fe1e-480a-99f4-c4bc069e9d45"
      },
      "outputs": [
        {
          "data": {
            "text/plain": [
              "[1, 3, 10, 20, True, 'bom', 20, True, 'bom']"
            ]
          },
          "execution_count": 43,
          "metadata": {},
          "output_type": "execute_result"
        }
      ],
      "source": [
        "uma_lista + b_lista"
      ]
    },
    {
      "cell_type": "markdown",
      "metadata": {
        "id": "Ism3aO8_eBz0"
      },
      "source": [
        "#### *Tuple* (Um caso especial de lista em que os elementos não podem ser modificados)"
      ]
    },
    {
      "cell_type": "markdown",
      "metadata": {
        "ExecuteTime": {
          "end_time": "2017-10-03T15:58:48.469747Z",
          "start_time": "2017-10-03T15:58:48.461327Z"
        },
        "id": "guxarzXLeBz1"
      },
      "source": [
        "Inicie uma *tuple* com parênteses. A maior diferença entre uma lista e uma *tuple* é que você pode alterar uma lista mas não uma *tuple*."
      ]
    },
    {
      "cell_type": "code",
      "execution_count": null,
      "metadata": {
        "ExecuteTime": {
          "end_time": "2018-10-09T00:12:16.790034Z",
          "start_time": "2018-10-09T00:12:16.784149Z"
        },
        "id": "bgpVNpLSeBz1",
        "outputId": "a54f7494-068f-4920-a613-e6825ea0ed48"
      },
      "outputs": [
        {
          "name": "stdout",
          "output_type": "stream",
          "text": [
            "(1, 2, 3, 10)\n",
            "Primeiro elemento da tuple: 1\n"
          ]
        }
      ],
      "source": [
        "uma_tuple = (1, 2, 3, 10)\n",
        "print(uma_tuple)\n",
        "print(\"Primeiro elemento da tuple: %i\"%uma_tuple[0])"
      ]
    },
    {
      "cell_type": "markdown",
      "metadata": {
        "ExecuteTime": {
          "end_time": "2018-10-09T00:12:17.683012Z",
          "start_time": "2018-10-09T00:12:17.672651Z"
        },
        "id": "qei1uN7VeBz1"
      },
      "source": [
        "Não se pode modificar os valores de uma *tuple*"
      ]
    },
    {
      "cell_type": "code",
      "execution_count": null,
      "metadata": {
        "ExecuteTime": {
          "end_time": "2018-10-09T00:12:24.288097Z",
          "start_time": "2018-10-09T00:12:24.278444Z"
        },
        "id": "K1q9v_JweBz1",
        "outputId": "99c3267a-ca9f-4984-e274-7026739ad6ac"
      },
      "outputs": [
        {
          "ename": "TypeError",
          "evalue": "'tuple' object does not support item assignment",
          "output_type": "error",
          "traceback": [
            "\u001b[0;31m---------------------------------------------------------------------------\u001b[0m",
            "\u001b[0;31mTypeError\u001b[0m                                 Traceback (most recent call last)",
            "\u001b[0;32m<ipython-input-45-25ebf24460b0>\u001b[0m in \u001b[0;36m<module>\u001b[0;34m\u001b[0m\n\u001b[0;32m----> 1\u001b[0;31m \u001b[0muma_tuple\u001b[0m\u001b[0;34m[\u001b[0m\u001b[0;36m0\u001b[0m\u001b[0;34m]\u001b[0m \u001b[0;34m=\u001b[0m \u001b[0;36m5\u001b[0m\u001b[0;34m\u001b[0m\u001b[0;34m\u001b[0m\u001b[0m\n\u001b[0m",
            "\u001b[0;31mTypeError\u001b[0m: 'tuple' object does not support item assignment"
          ]
        }
      ],
      "source": [
        "uma_tuple[0] = 5"
      ]
    },
    {
      "cell_type": "markdown",
      "metadata": {
        "id": "dZK3tIo2eBz1"
      },
      "source": [
        "Para criar uma *tuple* com um único valor, é preciso adicionar uma ','"
      ]
    },
    {
      "cell_type": "code",
      "execution_count": null,
      "metadata": {
        "id": "_QOo_lWKeBz1",
        "outputId": "4489dda0-5f3d-4505-9c43-562b8ad4538b"
      },
      "outputs": [
        {
          "name": "stdout",
          "output_type": "stream",
          "text": [
            "<class 'int'>\n",
            "<class 'tuple'>\n"
          ]
        }
      ],
      "source": [
        "uma_tuple = (1) # cria tipo int\n",
        "print(type(uma_tuple))\n",
        "b_tuple = (1,) # cria tipo tuple\n",
        "print(type(b_tuple))"
      ]
    },
    {
      "cell_type": "markdown",
      "metadata": {
        "id": "09FqT7KMeBz1"
      },
      "source": [
        "#### Dicionários: pares chave-valor"
      ]
    },
    {
      "cell_type": "markdown",
      "metadata": {
        "id": "P0PEvqXreBz2"
      },
      "source": [
        "Inicie um dicionário com colchetes  `{}`"
      ]
    },
    {
      "cell_type": "code",
      "execution_count": null,
      "metadata": {
        "ExecuteTime": {
          "end_time": "2018-10-09T00:12:58.821876Z",
          "start_time": "2018-10-09T00:12:58.817697Z"
        },
        "id": "SByFuW7zeBz2",
        "outputId": "ee13f172-994f-43e4-cb06-f5fdfedb4861"
      },
      "outputs": [
        {
          "name": "stdout",
          "output_type": "stream",
          "text": [
            "{1: '1 value'}\n"
          ]
        }
      ],
      "source": [
        "d = {} # dicionário vazio\n",
        "d[1] = \"1 value\" # adicione um par chave-valor usando um colchete (chave). chave/valor podem ser de qualquer tipo.\n",
        "print(d)"
      ]
    },
    {
      "cell_type": "code",
      "execution_count": null,
      "metadata": {
        "_kg_hide-input": true,
        "_uuid": "b6dd088e810aca788fc74f76d23777b2115e12d0",
        "id": "IYlcoE7EeBz2",
        "outputId": "b2778c14-b0aa-4a6b-f073-cdeb07d0f55b"
      },
      "outputs": [
        {
          "data": {
            "text/plain": [
              "'meuemail@exemplo.com'"
            ]
          },
          "execution_count": 48,
          "metadata": {},
          "output_type": "execute_result"
        }
      ],
      "source": [
        "x = {'Eu': 'meuemail@exemplo.com', 'Voce': 'seuemail@exemplo.com'}\n",
        "x['Eu'] # Recupere o valor utilizando a chave específica"
      ]
    },
    {
      "cell_type": "markdown",
      "metadata": {
        "_uuid": "0d377a64581e95a0022045181a2c81530eba31d1",
        "id": "-w-pDHMleBz2"
      },
      "source": [
        "#### Conjuntos (*sets*)\n",
        "\n",
        "Um conjunto é uma coleção não ordenada e não indexada. Em Python conjuntos são escritos com colchetes."
      ]
    },
    {
      "cell_type": "code",
      "execution_count": null,
      "metadata": {
        "_kg_hide-input": true,
        "_uuid": "0d4b6b6a5efa453ed3a594173586fb63bb6475dc",
        "id": "W-95Xkg_eBz2",
        "outputId": "e34fc2eb-5046-44ad-ac24-ba937eaf03e8"
      },
      "outputs": [
        {
          "name": "stdout",
          "output_type": "stream",
          "text": [
            "{'prédio', 'apartamento', 'casa'}\n"
          ]
        }
      ],
      "source": [
        "tipos_construcao = {\"casa\", \"apartamento\", \"prédio\"}\n",
        "print(tipos_construcao)"
      ]
    },
    {
      "cell_type": "markdown",
      "metadata": {
        "id": "9TME54OXeBz2"
      },
      "source": [
        "Conjuntos serão úteis nas próximas seções para comparar listas ou coleções:"
      ]
    },
    {
      "cell_type": "code",
      "execution_count": null,
      "metadata": {
        "id": "JKxB1FwOeBz2",
        "outputId": "85645d19-2b7b-4ee8-862f-97ced86a6fc2"
      },
      "outputs": [
        {
          "data": {
            "text/plain": [
              "{'caminhão', 'carro'}"
            ]
          },
          "execution_count": 50,
          "metadata": {},
          "output_type": "execute_result"
        }
      ],
      "source": [
        "tipos_propriedades = {'caminhão', 'carro','casa'}\n",
        "tipos_propriedades - tipos_construcao"
      ]
    },
    {
      "cell_type": "code",
      "execution_count": null,
      "metadata": {
        "id": "VVVm62vqeBz3",
        "outputId": "44df0124-e670-46e0-9e57-68a5781b4625"
      },
      "outputs": [
        {
          "data": {
            "text/plain": [
              "{'apartamento', 'caminhão', 'carro', 'casa', 'prédio'}"
            ]
          },
          "execution_count": 51,
          "metadata": {},
          "output_type": "execute_result"
        }
      ],
      "source": [
        "tipos_propriedades.union(tipos_construcao)"
      ]
    },
    {
      "cell_type": "code",
      "execution_count": null,
      "metadata": {
        "id": "p2EjjHIreBz3",
        "outputId": "a1dd42c4-6399-4b1e-b175-95d69d629170"
      },
      "outputs": [
        {
          "data": {
            "text/plain": [
              "{'casa'}"
            ]
          },
          "execution_count": 52,
          "metadata": {},
          "output_type": "execute_result"
        }
      ],
      "source": [
        "tipos_propriedades.intersection(tipos_construcao)"
      ]
    },
    {
      "cell_type": "markdown",
      "metadata": {
        "_uuid": "3eb9f355dc3885ea4b0f38968a4bf14d20de02fd",
        "id": "SuFBBOW0eBz3"
      },
      "source": [
        "<a id=\"3\"></a> <br>\n",
        "## 3 - Referências\n",
        "\n",
        "```{bibliography}\n",
        "```\n",
        "\n",
        "###### [Voltar ao topo](#top)"
      ]
    },
    {
      "cell_type": "markdown",
      "metadata": {
        "id": "2u01arY1eBz3"
      },
      "source": [
        "<!--NAVIGATION-->\n",
        "< [Introduction to python programming language](1-Introduction_to_python_programming_language.ipynb) | [Contents](0-Index.ipynb) | [Logical Operations](2.2-Logical_Operations.ipynb) >"
      ]
    }
  ],
  "metadata": {
    "cite2c": {
      "citations": {
        "236589/5T4T73QM": {
          "author": [
            {
              "family": "Matthes",
              "given": "Eric"
            }
          ],
          "id": "236589/5T4T73QM",
          "issued": {
            "year": 2015
          },
          "publisher": "No Starch Press",
          "title": "Python crash course: a hands-on, project-based introduction to programming",
          "type": "book"
        }
      }
    },
    "kernelspec": {
      "display_name": "Python 3 (ipykernel)",
      "language": "python",
      "name": "python3"
    },
    "language_info": {
      "codemirror_mode": {
        "name": "ipython",
        "version": 3
      },
      "file_extension": ".py",
      "mimetype": "text/x-python",
      "name": "python",
      "nbconvert_exporter": "python",
      "pygments_lexer": "ipython3",
      "version": "3.12.4"
    },
    "colab": {
      "provenance": []
    }
  },
  "nbformat": 4,
  "nbformat_minor": 0
}