{
  "nbformat": 4,
  "nbformat_minor": 0,
  "metadata": {
    "colab": {
      "provenance": []
    },
    "kernelspec": {
      "name": "python3",
      "display_name": "Python 3"
    },
    "language_info": {
      "name": "python"
    }
  },
  "cells": [
    {
      "cell_type": "markdown",
      "source": [
        "# Apresentações"
      ],
      "metadata": {
        "id": "K2pdpBoA__vv"
      }
    },
    {
      "cell_type": "markdown",
      "source": [
        "- [Introdução](./apresentacoes/introduction_workshop.html)"
      ],
      "metadata": {
        "id": "ubkKhKz99csO"
      }
    }
  ]
}