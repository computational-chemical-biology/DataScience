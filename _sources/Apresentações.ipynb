{
  "nbformat": 4,
  "nbformat_minor": 0,
  "metadata": {
    "colab": {
      "provenance": []
    },
    "kernelspec": {
      "name": "python3",
      "display_name": "Python 3"
    },
    "language_info": {
      "name": "python"
    }
  },
  "cells": [
    {
      "cell_type": "markdown",
      "source": [
        "# Apresentações"
      ],
      "metadata": {
        "id": "K2pdpBoA__vv"
      }
    },
    {
      "cell_type": "markdown",
      "source": [
        "## Introdução"
      ],
      "metadata": {
        "id": "ubkKhKz99csO"
      }
    },
    {
      "cell_type": "markdown",
      "source": [
        "- [Introdução](./apresentacoes/introduction_workshop.html)\n",
        "- [Conceitos básicos de python](./apresentacoes/python_programming.html)\n",
        "- [Introdução às bibliotecas NumPy e Pandas](./apresentacoes/introduction_numpy_pandas.html)\n"
      ],
      "metadata": {
        "id": "DiFEMQyFtBWO"
      }
    }
  ]
}