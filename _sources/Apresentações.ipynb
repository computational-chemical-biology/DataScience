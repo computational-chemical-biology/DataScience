{
  "nbformat": 4,
  "nbformat_minor": 0,
  "metadata": {
    "colab": {
      "provenance": []
    },
    "kernelspec": {
      "name": "python3",
      "display_name": "Python 3"
    },
    "language_info": {
      "name": "python"
    }
  },
  "cells": [
    {
      "cell_type": "markdown",
      "source": [
        "# Apresentações"
      ],
      "metadata": {
        "id": "K2pdpBoA__vv"
      }
    },
    {
      "cell_type": "markdown",
      "source": [
        "## Introdução"
      ],
      "metadata": {
        "id": "ubkKhKz99csO"
      }
    },
    {
      "cell_type": "code",
      "source": [
        "from IPython.display import IFrame\n",
        "IFrame(\"./apresentacoes/introduction_workshop.pdf\", width=600, height=300)"
      ],
      "metadata": {
        "id": "8thkZaAY65Cy"
      },
      "execution_count": null,
      "outputs": []
    }
  ]
}